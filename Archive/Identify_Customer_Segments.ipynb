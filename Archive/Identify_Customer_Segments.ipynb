{
 "cells": [
  {
   "cell_type": "markdown",
   "metadata": {},
   "source": [
    "# Project: Identify Customer Segments\n",
    "\n",
    "In this project, you will apply unsupervised learning techniques to identify segments of the population that form the core customer base for a mail-order sales company in Germany. These segments can then be used to direct marketing campaigns towards audiences that will have the highest expected rate of returns. The data that you will use has been provided by our partners at Bertelsmann Arvato Analytics, and represents a real-life data science task.\n",
    "\n",
    "This notebook will help you complete this task by providing a framework within which you will perform your analysis steps. In each step of the project, you will see some text describing the subtask that you will perform, followed by one or more code cells for you to complete your work. **Feel free to add additional code and markdown cells as you go along so that you can explore everything in precise chunks.** The code cells provided in the base template will outline only the major tasks, and will usually not be enough to cover all of the minor tasks that comprise it.\n",
    "\n",
    "It should be noted that while there will be precise guidelines on how you should handle certain tasks in the project, there will also be places where an exact specification is not provided. **There will be times in the project where you will need to make and justify your own decisions on how to treat the data.** These are places where there may not be only one way to handle the data. In real-life tasks, there may be many valid ways to approach an analysis task. One of the most important things you can do is clearly document your approach so that other scientists can understand the decisions you've made.\n",
    "\n",
    "At the end of most sections, there will be a Markdown cell labeled **Discussion**. In these cells, you will report your findings for the completed section, as well as document the decisions that you made in your approach to each subtask. **Your project will be evaluated not just on the code used to complete the tasks outlined, but also your communication about your observations and conclusions at each stage.**"
   ]
  },
  {
   "cell_type": "code",
   "execution_count": 1,
   "metadata": {
    "scrolled": true
   },
   "outputs": [
    {
     "name": "stdout",
     "output_type": "stream",
     "text": [
      " Sklearn Version:  0.19.1\n"
     ]
    }
   ],
   "source": [
    "#======================================================================================#\n",
    "#                              Import Libraries                                        #\n",
    "#======================================================================================#\n",
    "# import libraries here; add more as necessary\n",
    "import sklearn \n",
    "import numpy as np\n",
    "import collections\n",
    "import pandas as pd\n",
    "import matplotlib.pyplot as plt\n",
    "import seaborn as sns\n",
    "from itertools import islice\n",
    "from sklearn.decomposition import PCA\n",
    "from sklearn.preprocessing import Imputer, StandardScaler,MinMaxScaler,RobustScaler\n",
    "import pickle\n",
    "from sklearn.cluster import KMeans\n",
    "from timeit import default_timer as timer\n",
    "print (\" Sklearn Version: \",sklearn.__version__)\n",
    "from helpers import *\n",
    "from IPython.display import Image\n",
    "from sklearn.metrics import silhouette_samples, silhouette_score\n",
    "import collections\n",
    "from IPython.display import display\n",
    "import gc\n",
    "# magic word for producing visualizations in notebook\n",
    "%matplotlib inline"
   ]
  },
  {
   "cell_type": "markdown",
   "metadata": {},
   "source": [
    "### Comment\n",
    "A number of helper functions and graphs have been commented out to reduce execution time (>12 minutes). Graphs were also saved in a file so they would not have to be re-generated, but they to have been commented out. "
   ]
  },
  {
   "cell_type": "markdown",
   "metadata": {},
   "source": [
    "### Step 0: Load the Data\n",
    "\n",
    "There are four files associated with this project (not including this one):\n",
    "\n",
    "- `Udacity_AZDIAS_Subset.csv`: Demographics data for the general population of Germany; 891211 persons (rows) x 85 features (columns).\n",
    "- `Udacity_CUSTOMERS_Subset.csv`: Demographics data for customers of a mail-order company; 191652 persons (rows) x 85 features (columns).\n",
    "- `Data_Dictionary.md`: Detailed information file about the features in the provided datasets.\n",
    "- `AZDIAS_Feature_Summary.csv`: Summary of feature attributes for demographics data; 85 features (rows) x 4 columns\n",
    "\n",
    "Each row of the demographics files represents a single person, but also includes information outside of individuals, including information about their household, building, and neighborhood. You will use this information to cluster the general population into groups with similar demographic properties. Then, you will see how the people in the customers dataset fit into those created clusters. The hope here is that certain clusters are over-represented in the customers data, as compared to the general population; those over-represented clusters will be assumed to be part of the core userbase. This information can then be used for further applications, such as targeting for a marketing campaign.\n",
    "\n",
    "To start off with, load in the demographics data for the general population into a pandas DataFrame, and do the same for the feature attributes summary. Note for all of the `.csv` data files in this project: they're semicolon (`;`) delimited, so you'll need an additional argument in your [`read_csv()`](https://pandas.pydata.org/pandas-docs/stable/generated/pandas.read_csv.html) call to read in the data properly. Also, considering the size of the main dataset, it may take some time for it to load completely.\n",
    "\n",
    "Once the dataset is loaded, it's recommended that you take a little bit of time just browsing the general structure of the dataset and feature summary file. You'll be getting deep into the innards of the cleaning in the first major step of the project, so gaining some general familiarity can help you get your bearings."
   ]
  },
  {
   "cell_type": "code",
   "execution_count": 2,
   "metadata": {},
   "outputs": [],
   "source": [
    "# Version 1.1 \n",
    "startProgram = timer() "
   ]
  },
  {
   "cell_type": "code",
   "execution_count": 3,
   "metadata": {},
   "outputs": [],
   "source": [
    "# Load in the general demographics and feature summary file. \n",
    "def loadData(): \n",
    "    print (\"\\nLoading Data....\")\n",
    "    missing_values_azdias = ['-1',\"''\",'X','XX']\n",
    "    azdias = pd.read_csv('Udacity_AZDIAS_Subset.csv', delimiter = ';', na_values = missing_values_azdias)\n",
    "\n",
    "    missing_values_feat_info =  ['[X]','[XX]','[]','[-1,X]','[-1,XX]']\n",
    "    feat_info  = pd.read_csv('AZDIAS_Feature_Summary.csv', delimiter = ';', na_values = missing_values_feat_info)\n",
    "    print (\"General demographic data loaded. Shape: \", azdias.shape)\n",
    "    return azdias, feat_info"
   ]
  },
  {
   "cell_type": "code",
   "execution_count": 4,
   "metadata": {},
   "outputs": [
    {
     "name": "stdout",
     "output_type": "stream",
     "text": [
      "\n",
      "Loading Data....\n",
      "General demographic data loaded. Shape:  (891221, 85)\n",
      "(891221, 85)\n"
     ]
    },
    {
     "data": {
      "text/html": [
       "<div>\n",
       "<style scoped>\n",
       "    .dataframe tbody tr th:only-of-type {\n",
       "        vertical-align: middle;\n",
       "    }\n",
       "\n",
       "    .dataframe tbody tr th {\n",
       "        vertical-align: top;\n",
       "    }\n",
       "\n",
       "    .dataframe thead th {\n",
       "        text-align: right;\n",
       "    }\n",
       "</style>\n",
       "<table border=\"1\" class=\"dataframe\">\n",
       "  <thead>\n",
       "    <tr style=\"text-align: right;\">\n",
       "      <th></th>\n",
       "      <th>AGER_TYP</th>\n",
       "      <th>ALTERSKATEGORIE_GROB</th>\n",
       "      <th>ANREDE_KZ</th>\n",
       "      <th>CJT_GESAMTTYP</th>\n",
       "      <th>FINANZ_MINIMALIST</th>\n",
       "      <th>FINANZ_SPARER</th>\n",
       "      <th>FINANZ_VORSORGER</th>\n",
       "      <th>FINANZ_ANLEGER</th>\n",
       "      <th>FINANZ_UNAUFFAELLIGER</th>\n",
       "      <th>FINANZ_HAUSBAUER</th>\n",
       "      <th>...</th>\n",
       "      <th>PLZ8_ANTG1</th>\n",
       "      <th>PLZ8_ANTG2</th>\n",
       "      <th>PLZ8_ANTG3</th>\n",
       "      <th>PLZ8_ANTG4</th>\n",
       "      <th>PLZ8_BAUMAX</th>\n",
       "      <th>PLZ8_HHZ</th>\n",
       "      <th>PLZ8_GBZ</th>\n",
       "      <th>ARBEIT</th>\n",
       "      <th>ORTSGR_KLS9</th>\n",
       "      <th>RELAT_AB</th>\n",
       "    </tr>\n",
       "  </thead>\n",
       "  <tbody>\n",
       "    <tr>\n",
       "      <th>0</th>\n",
       "      <td>NaN</td>\n",
       "      <td>2</td>\n",
       "      <td>1</td>\n",
       "      <td>2.0</td>\n",
       "      <td>3</td>\n",
       "      <td>4</td>\n",
       "      <td>3</td>\n",
       "      <td>5</td>\n",
       "      <td>5</td>\n",
       "      <td>3</td>\n",
       "      <td>...</td>\n",
       "      <td>NaN</td>\n",
       "      <td>NaN</td>\n",
       "      <td>NaN</td>\n",
       "      <td>NaN</td>\n",
       "      <td>NaN</td>\n",
       "      <td>NaN</td>\n",
       "      <td>NaN</td>\n",
       "      <td>NaN</td>\n",
       "      <td>NaN</td>\n",
       "      <td>NaN</td>\n",
       "    </tr>\n",
       "    <tr>\n",
       "      <th>1</th>\n",
       "      <td>NaN</td>\n",
       "      <td>1</td>\n",
       "      <td>2</td>\n",
       "      <td>5.0</td>\n",
       "      <td>1</td>\n",
       "      <td>5</td>\n",
       "      <td>2</td>\n",
       "      <td>5</td>\n",
       "      <td>4</td>\n",
       "      <td>5</td>\n",
       "      <td>...</td>\n",
       "      <td>2.0</td>\n",
       "      <td>3.0</td>\n",
       "      <td>2.0</td>\n",
       "      <td>1.0</td>\n",
       "      <td>1.0</td>\n",
       "      <td>5.0</td>\n",
       "      <td>4.0</td>\n",
       "      <td>3.0</td>\n",
       "      <td>5.0</td>\n",
       "      <td>4.0</td>\n",
       "    </tr>\n",
       "    <tr>\n",
       "      <th>2</th>\n",
       "      <td>NaN</td>\n",
       "      <td>3</td>\n",
       "      <td>2</td>\n",
       "      <td>3.0</td>\n",
       "      <td>1</td>\n",
       "      <td>4</td>\n",
       "      <td>1</td>\n",
       "      <td>2</td>\n",
       "      <td>3</td>\n",
       "      <td>5</td>\n",
       "      <td>...</td>\n",
       "      <td>3.0</td>\n",
       "      <td>3.0</td>\n",
       "      <td>1.0</td>\n",
       "      <td>0.0</td>\n",
       "      <td>1.0</td>\n",
       "      <td>4.0</td>\n",
       "      <td>4.0</td>\n",
       "      <td>3.0</td>\n",
       "      <td>5.0</td>\n",
       "      <td>2.0</td>\n",
       "    </tr>\n",
       "    <tr>\n",
       "      <th>3</th>\n",
       "      <td>2.0</td>\n",
       "      <td>4</td>\n",
       "      <td>2</td>\n",
       "      <td>2.0</td>\n",
       "      <td>4</td>\n",
       "      <td>2</td>\n",
       "      <td>5</td>\n",
       "      <td>2</td>\n",
       "      <td>1</td>\n",
       "      <td>2</td>\n",
       "      <td>...</td>\n",
       "      <td>2.0</td>\n",
       "      <td>2.0</td>\n",
       "      <td>2.0</td>\n",
       "      <td>0.0</td>\n",
       "      <td>1.0</td>\n",
       "      <td>3.0</td>\n",
       "      <td>4.0</td>\n",
       "      <td>2.0</td>\n",
       "      <td>3.0</td>\n",
       "      <td>3.0</td>\n",
       "    </tr>\n",
       "    <tr>\n",
       "      <th>4</th>\n",
       "      <td>NaN</td>\n",
       "      <td>3</td>\n",
       "      <td>1</td>\n",
       "      <td>5.0</td>\n",
       "      <td>4</td>\n",
       "      <td>3</td>\n",
       "      <td>4</td>\n",
       "      <td>1</td>\n",
       "      <td>3</td>\n",
       "      <td>2</td>\n",
       "      <td>...</td>\n",
       "      <td>2.0</td>\n",
       "      <td>4.0</td>\n",
       "      <td>2.0</td>\n",
       "      <td>1.0</td>\n",
       "      <td>2.0</td>\n",
       "      <td>3.0</td>\n",
       "      <td>3.0</td>\n",
       "      <td>4.0</td>\n",
       "      <td>6.0</td>\n",
       "      <td>5.0</td>\n",
       "    </tr>\n",
       "  </tbody>\n",
       "</table>\n",
       "<p>5 rows × 85 columns</p>\n",
       "</div>"
      ],
      "text/plain": [
       "   AGER_TYP  ALTERSKATEGORIE_GROB  ANREDE_KZ  CJT_GESAMTTYP  \\\n",
       "0       NaN                     2          1            2.0   \n",
       "1       NaN                     1          2            5.0   \n",
       "2       NaN                     3          2            3.0   \n",
       "3       2.0                     4          2            2.0   \n",
       "4       NaN                     3          1            5.0   \n",
       "\n",
       "   FINANZ_MINIMALIST  FINANZ_SPARER  FINANZ_VORSORGER  FINANZ_ANLEGER  \\\n",
       "0                  3              4                 3               5   \n",
       "1                  1              5                 2               5   \n",
       "2                  1              4                 1               2   \n",
       "3                  4              2                 5               2   \n",
       "4                  4              3                 4               1   \n",
       "\n",
       "   FINANZ_UNAUFFAELLIGER  FINANZ_HAUSBAUER    ...     PLZ8_ANTG1  PLZ8_ANTG2  \\\n",
       "0                      5                 3    ...            NaN         NaN   \n",
       "1                      4                 5    ...            2.0         3.0   \n",
       "2                      3                 5    ...            3.0         3.0   \n",
       "3                      1                 2    ...            2.0         2.0   \n",
       "4                      3                 2    ...            2.0         4.0   \n",
       "\n",
       "   PLZ8_ANTG3  PLZ8_ANTG4  PLZ8_BAUMAX  PLZ8_HHZ  PLZ8_GBZ  ARBEIT  \\\n",
       "0         NaN         NaN          NaN       NaN       NaN     NaN   \n",
       "1         2.0         1.0          1.0       5.0       4.0     3.0   \n",
       "2         1.0         0.0          1.0       4.0       4.0     3.0   \n",
       "3         2.0         0.0          1.0       3.0       4.0     2.0   \n",
       "4         2.0         1.0          2.0       3.0       3.0     4.0   \n",
       "\n",
       "   ORTSGR_KLS9  RELAT_AB  \n",
       "0          NaN       NaN  \n",
       "1          5.0       4.0  \n",
       "2          5.0       2.0  \n",
       "3          3.0       3.0  \n",
       "4          6.0       5.0  \n",
       "\n",
       "[5 rows x 85 columns]"
      ]
     },
     "metadata": {},
     "output_type": "display_data"
    }
   ],
   "source": [
    "azdias, feat_info = loadData()\n",
    "print (azdias.shape)\n",
    "display (azdias.head())"
   ]
  },
  {
   "cell_type": "code",
   "execution_count": 5,
   "metadata": {},
   "outputs": [],
   "source": [
    "#display (set(azdias['MIN_GEBAEUDEJAHR'])) This can be used to understand over/under represented features at last exercise\n",
    "HousesBuiltIn = round((azdias['MIN_GEBAEUDEJAHR'].value_counts()/azdias['MIN_GEBAEUDEJAHR'].value_counts().sum())*100)\n",
    "#oftype(HousesBuiltIn)\n",
    "#display (HousesBuiltIn)\n",
    "#azdias['MIN_GEBAEUDEJAHR'].value_counts().sum()"
   ]
  },
  {
   "cell_type": "code",
   "execution_count": 6,
   "metadata": {},
   "outputs": [],
   "source": [
    "def loadCustomerData(): \n",
    "    print (\"\\nLoading Data....\")\n",
    "    missing_values_azdias = ['-1',\"''\",'X','XX']\n",
    "    customer = pd.read_csv('Udacity_CUSTOMERS_Subset.csv', delimiter = ';', na_values = missing_values_azdias)\n",
    "    print (\"Customer data loaded.\")\n",
    "    return customer"
   ]
  },
  {
   "cell_type": "markdown",
   "metadata": {},
   "source": [
    "Missing values are being filtered here. '-1' is always a missing value, along with \"''\". "
   ]
  },
  {
   "cell_type": "code",
   "execution_count": 7,
   "metadata": {},
   "outputs": [
    {
     "name": "stdout",
     "output_type": "stream",
     "text": [
      "==============================================================================================================\n",
      "Demographics data file for 891221 persons and 85 features. \n",
      "\n"
     ]
    },
    {
     "data": {
      "text/html": [
       "<div>\n",
       "<style scoped>\n",
       "    .dataframe tbody tr th:only-of-type {\n",
       "        vertical-align: middle;\n",
       "    }\n",
       "\n",
       "    .dataframe tbody tr th {\n",
       "        vertical-align: top;\n",
       "    }\n",
       "\n",
       "    .dataframe thead th {\n",
       "        text-align: right;\n",
       "    }\n",
       "</style>\n",
       "<table border=\"1\" class=\"dataframe\">\n",
       "  <thead>\n",
       "    <tr style=\"text-align: right;\">\n",
       "      <th></th>\n",
       "      <th>AGER_TYP</th>\n",
       "      <th>ALTERSKATEGORIE_GROB</th>\n",
       "      <th>ANREDE_KZ</th>\n",
       "      <th>CJT_GESAMTTYP</th>\n",
       "      <th>FINANZ_MINIMALIST</th>\n",
       "      <th>FINANZ_SPARER</th>\n",
       "      <th>FINANZ_VORSORGER</th>\n",
       "      <th>FINANZ_ANLEGER</th>\n",
       "      <th>FINANZ_UNAUFFAELLIGER</th>\n",
       "      <th>FINANZ_HAUSBAUER</th>\n",
       "      <th>...</th>\n",
       "      <th>PLZ8_ANTG1</th>\n",
       "      <th>PLZ8_ANTG2</th>\n",
       "      <th>PLZ8_ANTG3</th>\n",
       "      <th>PLZ8_ANTG4</th>\n",
       "      <th>PLZ8_BAUMAX</th>\n",
       "      <th>PLZ8_HHZ</th>\n",
       "      <th>PLZ8_GBZ</th>\n",
       "      <th>ARBEIT</th>\n",
       "      <th>ORTSGR_KLS9</th>\n",
       "      <th>RELAT_AB</th>\n",
       "    </tr>\n",
       "  </thead>\n",
       "  <tbody>\n",
       "    <tr>\n",
       "      <th>0</th>\n",
       "      <td>NaN</td>\n",
       "      <td>2</td>\n",
       "      <td>1</td>\n",
       "      <td>2.0</td>\n",
       "      <td>3</td>\n",
       "      <td>4</td>\n",
       "      <td>3</td>\n",
       "      <td>5</td>\n",
       "      <td>5</td>\n",
       "      <td>3</td>\n",
       "      <td>...</td>\n",
       "      <td>NaN</td>\n",
       "      <td>NaN</td>\n",
       "      <td>NaN</td>\n",
       "      <td>NaN</td>\n",
       "      <td>NaN</td>\n",
       "      <td>NaN</td>\n",
       "      <td>NaN</td>\n",
       "      <td>NaN</td>\n",
       "      <td>NaN</td>\n",
       "      <td>NaN</td>\n",
       "    </tr>\n",
       "    <tr>\n",
       "      <th>1</th>\n",
       "      <td>NaN</td>\n",
       "      <td>1</td>\n",
       "      <td>2</td>\n",
       "      <td>5.0</td>\n",
       "      <td>1</td>\n",
       "      <td>5</td>\n",
       "      <td>2</td>\n",
       "      <td>5</td>\n",
       "      <td>4</td>\n",
       "      <td>5</td>\n",
       "      <td>...</td>\n",
       "      <td>2.0</td>\n",
       "      <td>3.0</td>\n",
       "      <td>2.0</td>\n",
       "      <td>1.0</td>\n",
       "      <td>1.0</td>\n",
       "      <td>5.0</td>\n",
       "      <td>4.0</td>\n",
       "      <td>3.0</td>\n",
       "      <td>5.0</td>\n",
       "      <td>4.0</td>\n",
       "    </tr>\n",
       "    <tr>\n",
       "      <th>2</th>\n",
       "      <td>NaN</td>\n",
       "      <td>3</td>\n",
       "      <td>2</td>\n",
       "      <td>3.0</td>\n",
       "      <td>1</td>\n",
       "      <td>4</td>\n",
       "      <td>1</td>\n",
       "      <td>2</td>\n",
       "      <td>3</td>\n",
       "      <td>5</td>\n",
       "      <td>...</td>\n",
       "      <td>3.0</td>\n",
       "      <td>3.0</td>\n",
       "      <td>1.0</td>\n",
       "      <td>0.0</td>\n",
       "      <td>1.0</td>\n",
       "      <td>4.0</td>\n",
       "      <td>4.0</td>\n",
       "      <td>3.0</td>\n",
       "      <td>5.0</td>\n",
       "      <td>2.0</td>\n",
       "    </tr>\n",
       "  </tbody>\n",
       "</table>\n",
       "<p>3 rows × 85 columns</p>\n",
       "</div>"
      ],
      "text/plain": [
       "   AGER_TYP  ALTERSKATEGORIE_GROB  ANREDE_KZ  CJT_GESAMTTYP  \\\n",
       "0       NaN                     2          1            2.0   \n",
       "1       NaN                     1          2            5.0   \n",
       "2       NaN                     3          2            3.0   \n",
       "\n",
       "   FINANZ_MINIMALIST  FINANZ_SPARER  FINANZ_VORSORGER  FINANZ_ANLEGER  \\\n",
       "0                  3              4                 3               5   \n",
       "1                  1              5                 2               5   \n",
       "2                  1              4                 1               2   \n",
       "\n",
       "   FINANZ_UNAUFFAELLIGER  FINANZ_HAUSBAUER    ...     PLZ8_ANTG1  PLZ8_ANTG2  \\\n",
       "0                      5                 3    ...            NaN         NaN   \n",
       "1                      4                 5    ...            2.0         3.0   \n",
       "2                      3                 5    ...            3.0         3.0   \n",
       "\n",
       "   PLZ8_ANTG3  PLZ8_ANTG4  PLZ8_BAUMAX  PLZ8_HHZ  PLZ8_GBZ  ARBEIT  \\\n",
       "0         NaN         NaN          NaN       NaN       NaN     NaN   \n",
       "1         2.0         1.0          1.0       5.0       4.0     3.0   \n",
       "2         1.0         0.0          1.0       4.0       4.0     3.0   \n",
       "\n",
       "   ORTSGR_KLS9  RELAT_AB  \n",
       "0          NaN       NaN  \n",
       "1          5.0       4.0  \n",
       "2          5.0       2.0  \n",
       "\n",
       "[3 rows x 85 columns]"
      ]
     },
     "metadata": {},
     "output_type": "display_data"
    },
    {
     "name": "stdout",
     "output_type": "stream",
     "text": [
      "==============================================================================================================\n",
      "Feature Summary file has 85 features and 4 attributes:\n"
     ]
    },
    {
     "data": {
      "text/html": [
       "<div>\n",
       "<style scoped>\n",
       "    .dataframe tbody tr th:only-of-type {\n",
       "        vertical-align: middle;\n",
       "    }\n",
       "\n",
       "    .dataframe tbody tr th {\n",
       "        vertical-align: top;\n",
       "    }\n",
       "\n",
       "    .dataframe thead th {\n",
       "        text-align: right;\n",
       "    }\n",
       "</style>\n",
       "<table border=\"1\" class=\"dataframe\">\n",
       "  <thead>\n",
       "    <tr style=\"text-align: right;\">\n",
       "      <th></th>\n",
       "      <th>attribute</th>\n",
       "      <th>information_level</th>\n",
       "      <th>type</th>\n",
       "      <th>missing_or_unknown</th>\n",
       "    </tr>\n",
       "  </thead>\n",
       "  <tbody>\n",
       "    <tr>\n",
       "      <th>0</th>\n",
       "      <td>AGER_TYP</td>\n",
       "      <td>person</td>\n",
       "      <td>categorical</td>\n",
       "      <td>[-1,0]</td>\n",
       "    </tr>\n",
       "    <tr>\n",
       "      <th>1</th>\n",
       "      <td>ALTERSKATEGORIE_GROB</td>\n",
       "      <td>person</td>\n",
       "      <td>ordinal</td>\n",
       "      <td>[-1,0,9]</td>\n",
       "    </tr>\n",
       "    <tr>\n",
       "      <th>2</th>\n",
       "      <td>ANREDE_KZ</td>\n",
       "      <td>person</td>\n",
       "      <td>categorical</td>\n",
       "      <td>[-1,0]</td>\n",
       "    </tr>\n",
       "  </tbody>\n",
       "</table>\n",
       "</div>"
      ],
      "text/plain": [
       "              attribute information_level         type missing_or_unknown\n",
       "0              AGER_TYP            person  categorical             [-1,0]\n",
       "1  ALTERSKATEGORIE_GROB            person      ordinal           [-1,0,9]\n",
       "2             ANREDE_KZ            person  categorical             [-1,0]"
      ]
     },
     "metadata": {},
     "output_type": "display_data"
    },
    {
     "name": "stdout",
     "output_type": "stream",
     "text": [
      "==============================================================================================================\n"
     ]
    }
   ],
   "source": [
    "# Check the structure of the data after it's loaded (e.g. print the number of\n",
    "# rows and columns, print the first few rows). Shape and Head.\n",
    "print (\"=\" * 110)\n",
    "print ('Demographics data file for {} persons and {} features. \\n'.format(azdias.shape[0], azdias.shape[1]))\n",
    "\n",
    "display (azdias.head(3))\n",
    "print (\"=\" * 110)\n",
    "\n",
    "print ('Feature Summary file has {} features and {} attributes:'.format(feat_info.shape[0], feat_info.shape[1]))\n",
    "display (feat_info.head(3))\n",
    "print (\"=\" * 110)"
   ]
  },
  {
   "cell_type": "markdown",
   "metadata": {},
   "source": [
    "> **Tip**: Add additional cells to keep everything in reasonably-sized chunks! Keyboard shortcut `esc --> a` (press escape to enter command mode, then press the 'A' key) adds a new cell before the active cell, and `esc --> b` adds a new cell after the active cell. If you need to convert an active cell to a markdown cell, use `esc --> m` and to convert to a code cell, use `esc --> y`. \n",
    "\n",
    "## Step 1: Preprocessing\n",
    "\n",
    "### Step 1.1: Assess Missing Data\n",
    "\n",
    "The feature summary file contains a summary of properties for each demographics data column. You will use this file to help you make cleaning decisions during this stage of the project. First of all, you should assess the demographics data in terms of missing data. Pay attention to the following points as you perform your analysis, and take notes on what you observe. Make sure that you fill in the **Discussion** cell with your findings and decisions at the end of each step that has one!\n",
    "\n",
    "#### Step 1.1.1: Convert Missing Value Codes to NaNs\n",
    "The fourth column of the feature attributes summary (loaded in above as `feat_info`) documents the codes from the data dictionary that indicate missing or unknown data. While the file encodes this as a list (e.g. `[-1,0]`), this will get read in as a string object. You'll need to do a little bit of parsing to make use of it to identify and clean the data. Convert data that matches a 'missing' or 'unknown' value code into a numpy NaN value. You might want to see how much data takes on a 'missing' or 'unknown' code, and how much data is naturally missing, as a point of interest.\n",
    "\n",
    "**As one more reminder, you are encouraged to add additional cells to break up your analysis into manageable chunks.**"
   ]
  },
  {
   "cell_type": "code",
   "execution_count": 8,
   "metadata": {},
   "outputs": [],
   "source": [
    "# Convert missing value codes from string to float list\n",
    "def translate():\n",
    "    print (\"\\nConverting feat_info missing value strings to float....\")\n",
    "    column_names = ['attribute','value']\n",
    "    nancodes = pd.DataFrame(columns = column_names)\n",
    "\n",
    "    for index, value in feat_info['missing_or_unknown'].items():\n",
    "        if type(value) == str:\n",
    "            value = value.translate(str.maketrans({'[':None,']':None})).split(',')\n",
    "            for num  in range(len(value)):\n",
    "                value[num] = float(value[num])\n",
    "        \n",
    "    # for missing values convert to [-1] so they are captured in column summaries:\n",
    "    \n",
    "        if type(value) == np.nan:\n",
    "            value = [-1]\n",
    "        nancodes.loc[index] = [feat_info['attribute'][index],value]\n",
    "    \n",
    "    nancodes.set_index('attribute',inplace=True)\n",
    "    #nancodes.head(3)\n",
    "    return nancodes"
   ]
  },
  {
   "cell_type": "code",
   "execution_count": 9,
   "metadata": {},
   "outputs": [
    {
     "name": "stdout",
     "output_type": "stream",
     "text": [
      "\n",
      "Converting feat_info missing value strings to float....\n"
     ]
    },
    {
     "data": {
      "text/html": [
       "<div>\n",
       "<style scoped>\n",
       "    .dataframe tbody tr th:only-of-type {\n",
       "        vertical-align: middle;\n",
       "    }\n",
       "\n",
       "    .dataframe tbody tr th {\n",
       "        vertical-align: top;\n",
       "    }\n",
       "\n",
       "    .dataframe thead th {\n",
       "        text-align: right;\n",
       "    }\n",
       "</style>\n",
       "<table border=\"1\" class=\"dataframe\">\n",
       "  <thead>\n",
       "    <tr style=\"text-align: right;\">\n",
       "      <th></th>\n",
       "      <th>value</th>\n",
       "    </tr>\n",
       "    <tr>\n",
       "      <th>attribute</th>\n",
       "      <th></th>\n",
       "    </tr>\n",
       "  </thead>\n",
       "  <tbody>\n",
       "    <tr>\n",
       "      <th>AGER_TYP</th>\n",
       "      <td>[-1.0, 0.0]</td>\n",
       "    </tr>\n",
       "    <tr>\n",
       "      <th>ALTERSKATEGORIE_GROB</th>\n",
       "      <td>[-1.0, 0.0, 9.0]</td>\n",
       "    </tr>\n",
       "    <tr>\n",
       "      <th>ANREDE_KZ</th>\n",
       "      <td>[-1.0, 0.0]</td>\n",
       "    </tr>\n",
       "    <tr>\n",
       "      <th>CJT_GESAMTTYP</th>\n",
       "      <td>[0.0]</td>\n",
       "    </tr>\n",
       "    <tr>\n",
       "      <th>FINANZ_MINIMALIST</th>\n",
       "      <td>[-1.0]</td>\n",
       "    </tr>\n",
       "  </tbody>\n",
       "</table>\n",
       "</div>"
      ],
      "text/plain": [
       "                                 value\n",
       "attribute                             \n",
       "AGER_TYP                   [-1.0, 0.0]\n",
       "ALTERSKATEGORIE_GROB  [-1.0, 0.0, 9.0]\n",
       "ANREDE_KZ                  [-1.0, 0.0]\n",
       "CJT_GESAMTTYP                    [0.0]\n",
       "FINANZ_MINIMALIST               [-1.0]"
      ]
     },
     "execution_count": 9,
     "metadata": {},
     "output_type": "execute_result"
    }
   ],
   "source": [
    "nancodes = translate()\n",
    "nancodes.head() "
   ]
  },
  {
   "cell_type": "code",
   "execution_count": 10,
   "metadata": {},
   "outputs": [
    {
     "name": "stdout",
     "output_type": "stream",
     "text": [
      "\n",
      "Selecting cells for missing value replacement.....\n",
      "nan\n",
      "9.0\n",
      "nan\n"
     ]
    }
   ],
   "source": [
    "    # For validation:\n",
    "    print (\"\\nSelecting cells for missing value replacement.....\")\n",
    "    print (azdias['AGER_TYP'][0])\n",
    "    print (azdias['ARBEIT'][4158])\n",
    "    print (azdias['CAMEO_DEUG_2015'][2511])"
   ]
  },
  {
   "cell_type": "code",
   "execution_count": 11,
   "metadata": {},
   "outputs": [],
   "source": [
    "# This section replaces missing values, 0 or -1 for example, with np.nan \n",
    "def values_to_codes(df_main, df_lookup):\n",
    "    print (\"\\nReplacing dataframe missing values with np.nan...\")\n",
    "    for column in df_main.columns: \n",
    "        if column in df_lookup.index: \n",
    "            #print (column, df_lookup.loc[column][0])\n",
    "            df_main[column] = df_main[column].replace(nancodes.loc[column][0], np.nan)\n",
    " \n",
    "        else:\n",
    "            pass\n",
    "    return df_main"
   ]
  },
  {
   "cell_type": "code",
   "execution_count": 12,
   "metadata": {},
   "outputs": [
    {
     "name": "stdout",
     "output_type": "stream",
     "text": [
      "\n",
      "Replacing dataframe missing values with np.nan...\n"
     ]
    }
   ],
   "source": [
    "azdias = values_to_codes(azdias,nancodes)"
   ]
  },
  {
   "cell_type": "code",
   "execution_count": 13,
   "metadata": {},
   "outputs": [
    {
     "name": "stdout",
     "output_type": "stream",
     "text": [
      "Validating nan replacement....\n",
      "nan\n",
      "nan\n",
      "nan\n"
     ]
    }
   ],
   "source": [
    "    print (\"Validating nan replacement....\")\n",
    "    print (azdias['AGER_TYP'][0])\n",
    "    print (azdias['ARBEIT'][4158])\n",
    "    print (azdias['CAMEO_DEUG_2015'][2511])"
   ]
  },
  {
   "cell_type": "markdown",
   "metadata": {},
   "source": [
    "The 9.0 was succesfully converted to 'nan'. "
   ]
  },
  {
   "cell_type": "markdown",
   "metadata": {},
   "source": [
    "#### Step 1.1.2: Assess Missing Data in Each Column\n",
    "\n",
    "How much missing data is present in each column? There are a few columns that are outliers in terms of the proportion of values that are missing. You will want to use matplotlib's [`hist()`](https://matplotlib.org/api/_as_gen/matplotlib.pyplot.hist.html) function to visualize the distribution of missing value counts to find these columns. Identify and document these columns. While some of these columns might have justifications for keeping or re-encoding the data, for this project you should just remove them from the dataframe. (Feel free to make remarks about these outlier columns in the discussion, however!)\n",
    "\n",
    "For the remaining features, are there any patterns in which columns have, or share, missing data?"
   ]
  },
  {
   "cell_type": "markdown",
   "metadata": {},
   "source": [
    "Yes, even with the outlier columns removed, there are remaining columns with missing data. For example, for the KBA05_ANTG1-4, they all have the same number of missing values (133324). There is one underlying root cause for this that caused all 4 categories to have the same number of missing values. \n",
    "\n",
    "- KBA05_ANTG1              133324\n",
    "- KBA05_ANTG2              133324\n",
    "- KBA05_ANTG3              133324\n",
    "- KBA05_ANTG4              133324\n",
    "\n",
    "Encoding will help to reduce the impact of additional missing values. "
   ]
  },
  {
   "cell_type": "code",
   "execution_count": 14,
   "metadata": {},
   "outputs": [],
   "source": [
    "#Calulating the number of missing values per column using 'isnull'. \n",
    "def count_columns(df): \n",
    "    print (\"\\nCounting the number of missing values per column....\")\n",
    "    total_missing_values_by_column = df.isnull().sum()  \n",
    "    col_nan_count = total_missing_values_by_column.to_frame('Count_NaN')\n",
    "    col_nan_count.insert(loc=0,column='Column Name',value = col_nan_count.index)\n",
    "    col_nan_count = col_nan_count.reset_index(drop=True)\n",
    "    col_nan_count = col_nan_count.sort_values(by = 'Count_NaN',ascending = False)\n",
    "    display (col_nan_count.head(10))\n",
    "    return col_nan_count,total_missing_values_by_column"
   ]
  },
  {
   "cell_type": "code",
   "execution_count": 15,
   "metadata": {},
   "outputs": [
    {
     "name": "stdout",
     "output_type": "stream",
     "text": [
      "\n",
      "Counting the number of missing values per column....\n"
     ]
    },
    {
     "data": {
      "text/html": [
       "<div>\n",
       "<style scoped>\n",
       "    .dataframe tbody tr th:only-of-type {\n",
       "        vertical-align: middle;\n",
       "    }\n",
       "\n",
       "    .dataframe tbody tr th {\n",
       "        vertical-align: top;\n",
       "    }\n",
       "\n",
       "    .dataframe thead th {\n",
       "        text-align: right;\n",
       "    }\n",
       "</style>\n",
       "<table border=\"1\" class=\"dataframe\">\n",
       "  <thead>\n",
       "    <tr style=\"text-align: right;\">\n",
       "      <th></th>\n",
       "      <th>Column Name</th>\n",
       "      <th>Count_NaN</th>\n",
       "    </tr>\n",
       "  </thead>\n",
       "  <tbody>\n",
       "    <tr>\n",
       "      <th>40</th>\n",
       "      <td>TITEL_KZ</td>\n",
       "      <td>889061</td>\n",
       "    </tr>\n",
       "    <tr>\n",
       "      <th>0</th>\n",
       "      <td>AGER_TYP</td>\n",
       "      <td>685843</td>\n",
       "    </tr>\n",
       "    <tr>\n",
       "      <th>47</th>\n",
       "      <td>KK_KUNDENTYP</td>\n",
       "      <td>584612</td>\n",
       "    </tr>\n",
       "    <tr>\n",
       "      <th>64</th>\n",
       "      <td>KBA05_BAUMAX</td>\n",
       "      <td>476524</td>\n",
       "    </tr>\n",
       "    <tr>\n",
       "      <th>11</th>\n",
       "      <td>GEBURTSJAHR</td>\n",
       "      <td>392318</td>\n",
       "    </tr>\n",
       "    <tr>\n",
       "      <th>43</th>\n",
       "      <td>ALTER_HH</td>\n",
       "      <td>310267</td>\n",
       "    </tr>\n",
       "    <tr>\n",
       "      <th>70</th>\n",
       "      <td>KKK</td>\n",
       "      <td>158064</td>\n",
       "    </tr>\n",
       "    <tr>\n",
       "      <th>73</th>\n",
       "      <td>REGIOTYP</td>\n",
       "      <td>158064</td>\n",
       "    </tr>\n",
       "    <tr>\n",
       "      <th>48</th>\n",
       "      <td>W_KEIT_KIND_HH</td>\n",
       "      <td>147988</td>\n",
       "    </tr>\n",
       "    <tr>\n",
       "      <th>60</th>\n",
       "      <td>KBA05_ANTG1</td>\n",
       "      <td>133324</td>\n",
       "    </tr>\n",
       "  </tbody>\n",
       "</table>\n",
       "</div>"
      ],
      "text/plain": [
       "       Column Name  Count_NaN\n",
       "40        TITEL_KZ     889061\n",
       "0         AGER_TYP     685843\n",
       "47    KK_KUNDENTYP     584612\n",
       "64    KBA05_BAUMAX     476524\n",
       "11     GEBURTSJAHR     392318\n",
       "43        ALTER_HH     310267\n",
       "70             KKK     158064\n",
       "73        REGIOTYP     158064\n",
       "48  W_KEIT_KIND_HH     147988\n",
       "60     KBA05_ANTG1     133324"
      ]
     },
     "metadata": {},
     "output_type": "display_data"
    }
   ],
   "source": [
    "col_nan_count, total_missing_values_by_column = count_columns(azdias)"
   ]
  },
  {
   "cell_type": "code",
   "execution_count": 16,
   "metadata": {
    "scrolled": false
   },
   "outputs": [],
   "source": [
    "def plot_missing_by_cols(totals): \n",
    "    #Histogram of the number of missing values per column (featrure).\n",
    "    xref = [40000,200000]\n",
    "    ref_colors=['r','g','y']\n",
    "\n",
    "    for ref, c in zip(xref,ref_colors):\n",
    "        plt.axvline(x=ref, c=c, label= 'ref at = {}'.format(ref))\n",
    "    plt.legend()\n",
    "    plt.grid(True)\n",
    "    plt.xlabel('Count of NaN')\n",
    "    plt.ylabel('Number of Columns')\n",
    "    plt.title('Distibution of Missing Values by Column')\n",
    "    plt.hist(totals.values,50)\n",
    "    plt.show()"
   ]
  },
  {
   "cell_type": "code",
   "execution_count": 17,
   "metadata": {},
   "outputs": [],
   "source": [
    "#oftype(total_missing_values_by_column)\n",
    "#print (total_missing_values_by_column)"
   ]
  },
  {
   "cell_type": "code",
   "execution_count": 18,
   "metadata": {},
   "outputs": [
    {
     "data": {
      "image/png": "[encoded data removed]",
      "text/plain": [
       "<matplotlib.figure.Figure at 0x7fd9832eedd8>"
      ]
     },
     "metadata": {
      "needs_background": "light"
     },
     "output_type": "display_data"
    }
   ],
   "source": [
    "plot_missing_by_cols(total_missing_values_by_column)"
   ]
  },
  {
   "cell_type": "markdown",
   "metadata": {},
   "source": [
    "Below is a sorted, ascending list of unique column counts. There are 53 columns with NaN and only 16 unique counts.  The data is not randomly distributed and there is clustering. "
   ]
  },
  {
   "cell_type": "code",
   "execution_count": 19,
   "metadata": {},
   "outputs": [],
   "source": [
    "\n",
    "def dropColumns(df,limit):\n",
    "    print (\"\\nDropping outlier columns from the dataset per limit.....\")\n",
    "    drop_columns = list(df.isnull().sum()[df.isnull().sum()>limit].index)\n",
    "    print (\"Number of columns in dropped list: \",len(drop_columns))\n",
    "    print (\"Before dropping: \",df.shape)\n",
    "    df = df.drop(drop_columns, axis = 1)\n",
    "    print (\"After dropping: \",df.shape)\n",
    "    print (\"Columns dropped: \",drop_columns)\n",
    "    return df"
   ]
  },
  {
   "cell_type": "code",
   "execution_count": 20,
   "metadata": {},
   "outputs": [
    {
     "name": "stdout",
     "output_type": "stream",
     "text": [
      "\n",
      "Dropping outlier columns from the dataset per limit.....\n",
      "Number of columns in dropped list:  6\n",
      "Before dropping:  (891221, 85)\n",
      "After dropping:  (891221, 79)\n",
      "Columns dropped:  ['AGER_TYP', 'GEBURTSJAHR', 'TITEL_KZ', 'ALTER_HH', 'KK_KUNDENTYP', 'KBA05_BAUMAX']\n"
     ]
    }
   ],
   "source": [
    "azdias = dropColumns(azdias,200000)"
   ]
  },
  {
   "cell_type": "markdown",
   "metadata": {},
   "source": [
    "#### Discussion 1.1.2: Assess Missing Data in Each Column\n",
    "\n",
    "With the help of the above histogram, the limit for dropping was defined as 200,000. This resulted in six columns being deleted. "
   ]
  },
  {
   "cell_type": "markdown",
   "metadata": {},
   "source": [
    "#### Step 1.1.3: Assess Missing Data in Each Row\n",
    "\n",
    "Now, you'll perform a similar assessment for the rows of the dataset. How much data is missing in each row? As with the columns, you should see some groups of points that have a very different numbers of missing values. Divide the data into two subsets: one for data points that are above some threshold for missing values, and a second subset for points below that threshold.\n",
    "\n",
    "In order to know what to do with the outlier rows, we should see if the distribution of data values on columns that are not missing data (or are missing very little data) are similar or different between the two groups. Select at least five of these columns and compare the distribution of values.\n",
    "- You can use seaborn's [`countplot()`](https://seaborn.pydata.org/generated/seaborn.countplot.html) function to create a bar chart of code frequencies and matplotlib's [`subplot()`](https://matplotlib.org/api/_as_gen/matplotlib.pyplot.subplot.html) function to put bar charts for the two subplots side by side.\n",
    "- To reduce repeated code, you might want to write a function that can perform this comparison, taking as one of its arguments a column to be compared.\n",
    "\n",
    "Depending on what you observe in your comparison, this will have implications on how you approach your conclusions later in the analysis. If the distributions of non-missing features look similar between the data with many missing values and the data with few or no missing values, then we could argue that simply dropping those points from the analysis won't present a major issue. On the other hand, if the data with many missing values looks very different from the data with few or no missing values, then we should make a note on those data as special. We'll revisit these data later on. **Either way, you should continue your analysis for now using just the subset of the data with few or no missing values.**"
   ]
  },
  {
   "cell_type": "code",
   "execution_count": 21,
   "metadata": {},
   "outputs": [],
   "source": [
    "def countRows(df):\n",
    "    # Missing data in each row of the dataset\n",
    "    row_total = df.isnull().sum(axis=1)\n",
    "    row_total[np.isfinite(row_total)]\n",
    "    row_nan_count = row_total.to_frame('Count_NaN')\n",
    "    row_nan_count.insert(loc=0,column='Row',value = row_nan_count.index)\n",
    "    row_nan_count = row_nan_count.reset_index(drop=True)\n",
    "    row_nan_count = row_nan_count.sort_values(by = 'Count_NaN',ascending = False)\n",
    "    print (row_nan_count.shape)\n",
    "    #display (row_nan_count.head())\n",
    "    return row_nan_count, row_total "
   ]
  },
  {
   "cell_type": "code",
   "execution_count": 22,
   "metadata": {},
   "outputs": [
    {
     "name": "stdout",
     "output_type": "stream",
     "text": [
      "(891221, 2)\n"
     ]
    }
   ],
   "source": [
    "row_nan_count, row_total = countRows(azdias)"
   ]
  },
  {
   "cell_type": "markdown",
   "metadata": {},
   "source": [
    " How much data is missing in each row of the dataset? Will be summarized in a histogram instead. "
   ]
  },
  {
   "cell_type": "code",
   "execution_count": 23,
   "metadata": {},
   "outputs": [],
   "source": [
    "# How much data is missing in each row of the dataset? \n",
    "# Shown as historgram. \n",
    "\n",
    "def plot_rowCount(rowcount): \n",
    "    xref = [25]\n",
    "    ref_colors=['y']\n",
    "\n",
    "    for ref, c in zip(xref,ref_colors):\n",
    "        plt.axvline(x=ref, c=c, label= 'limit at = {}'.format(ref))\n",
    "    plt.legend()\n",
    "    plt.grid(True)\n",
    "    plt.xlabel('Count of NaN')\n",
    "    plt.ylabel('Rows')\n",
    "    plt.title('Distibution of Missing Values by Row')\n",
    "    plt.hist(rowcount['Count_NaN'],50)\n",
    "    plt.show()"
   ]
  },
  {
   "cell_type": "code",
   "execution_count": 24,
   "metadata": {},
   "outputs": [
    {
     "data": {
      "image/png": "[encoded data removed]",
      "text/plain": [
       "<matplotlib.figure.Figure at 0x7fd980f80ef0>"
      ]
     },
     "metadata": {
      "needs_background": "light"
     },
     "output_type": "display_data"
    }
   ],
   "source": [
    "plot_rowCount(row_nan_count)"
   ]
  },
  {
   "cell_type": "code",
   "execution_count": 25,
   "metadata": {},
   "outputs": [],
   "source": [
    "# Spliting the rows into hi and low values for missing data: \n",
    "\n",
    "def split_rows(limit):\n",
    "    nan_rowcount = azdias.isnull().sum(axis=1)\n",
    "    \n",
    "    rows_lower = nan_rowcount[nan_rowcount <= limit]\n",
    "    rows_higher = nan_rowcount[nan_rowcount > limit]\n",
    "    print('rows with higher missing values:', rows_higher.shape[0], 'or', \\\n",
    "      np.round(rows_higher.shape[0]*100/nan_rowcount.shape[0],2), '% ')\n",
    "    print('rows with lower missing values:', rows_lower.shape[0], 'or', \\\n",
    "      np.round(rows_lower.shape[0]*100/nan_rowcount.shape[0],2), '% ')\n",
    "    return nan_rowcount, rows_lower,rows_higher"
   ]
  },
  {
   "cell_type": "code",
   "execution_count": 26,
   "metadata": {},
   "outputs": [
    {
     "name": "stdout",
     "output_type": "stream",
     "text": [
      "rows with higher missing values: 93260 or 10.46 % \n",
      "rows with lower missing values: 797961 or 89.54 % \n"
     ]
    }
   ],
   "source": [
    "nan_rowcount, rows_lower, rows_higher = split_rows(25)"
   ]
  },
  {
   "cell_type": "code",
   "execution_count": 27,
   "metadata": {},
   "outputs": [],
   "source": [
    "#for the 2 subsets of rows, filter by columns with low or no failures: \n",
    "\n",
    "def rows_filterBy_col(column): \n",
    "    rows_lower_colfilter = azdias.loc[rows_lower.index,column]\n",
    "    rows_higher_colfilter = azdias.loc[rows_higher.index,column]\n",
    "    rows_lower_colfilter = rows_lower_colfilter[np.isfinite(rows_lower_colfilter)]\n",
    "    rows_higher_colfilter = rows_higher_colfilter[np.isfinite(rows_higher_colfilter)]\n",
    "    #print (\"rows_lower_colfilter: \\n\",rows_lower_colfilter[:30])\n",
    "    #print (\"\\nrows_higher_colfilter:\\n \",rows_higher_colfilter[:30] )\n",
    "    return column, rows_lower_colfilter, rows_higher_colfilter"
   ]
  },
  {
   "cell_type": "code",
   "execution_count": 28,
   "metadata": {},
   "outputs": [],
   "source": [
    "column, rows_lower_colfilter, rows_higher_colfilter = rows_filterBy_col('ALTERSKATEGORIE_GROB')"
   ]
  },
  {
   "cell_type": "code",
   "execution_count": 29,
   "metadata": {},
   "outputs": [],
   "source": [
    "df_col1 = rows_filterBy_col('ALTERSKATEGORIE_GROB')\n",
    "df_col2 = rows_filterBy_col('FINANZTYP')\n",
    "df_col3 = rows_filterBy_col('FINANZ_UNAUFFAELLIGER')\n",
    "df_col4 = rows_filterBy_col('FINANZ_SPARER')\n",
    "df_col5 = rows_filterBy_col('FINANZ_HAUSBAUER')\n",
    "df_col6 = rows_filterBy_col('FINANZ_MINIMALIST')"
   ]
  },
  {
   "cell_type": "code",
   "execution_count": 30,
   "metadata": {},
   "outputs": [],
   "source": [
    "\n",
    "#defining function to compare missing values in specified column\n",
    "import matplotlib.pyplot as plt\n",
    "plt.style.use('seaborn-deep')\n",
    "def make_histos(df_col1,df_col2,df_col3,df_col4,df_col5,df_col6):\n",
    "   \n",
    "    bins = 20\n",
    "    bins = np.linspace(0, 10, 50)\n",
    "    \n",
    "    column1, df1, df2 = df_col1\n",
    "    column2, df3, df4 = df_col2\n",
    "    column3, df5, df6 = df_col3\n",
    "    column4, df7, df8 = df_col4\n",
    "    column5, df9, df10 = df_col5\n",
    "    column6, df11, df12 = df_col6\n",
    "\n",
    "    fig, ax = plt.subplots(2,3, sharex=True,sharey=True,figsize=(14,4),gridspec_kw={'hspace': 0.3})\n",
    "    \n",
    "    ax0, ax1,ax2,ax3,ax4,ax5 = ax.flatten()\n",
    "     \n",
    "    ax0.hist(df1,bins,label='Lower',histtype='bar',stacked = False)\n",
    "    ax0.hist(df2,bins,label='Higher',histtype='bar', stacked = False)\n",
    "    ax0.set_title('Category: ' + column1)\n",
    "    ax0.legend(loc='upper right')\n",
    "    ax0.grid(True)\n",
    "    \n",
    "    ax1.hist(df3,bins,label='Lower',stacked = False)\n",
    "    ax1.hist(df4,bins,label='Higher',stacked = False)\n",
    "    ax1.set_title('Category: ' + column2)\n",
    "    ax1.legend(loc='upper right')\n",
    "    ax1.grid(True)\n",
    "    \n",
    "    ax2.hist(df5,bins,label='Lower',stacked = False)\n",
    "    ax2.hist(df6,bins,label='Higher',stacked = False)\n",
    "    ax2.set_title('Category: ' + column3)\n",
    "    ax2.legend(loc='upper right')\n",
    "    ax2.grid(True)\n",
    "        \n",
    "    ax3.hist(df7,bins,label='Lower',stacked = False)\n",
    "    ax3.hist(df8,bins,label='Higher',stacked = False)\n",
    "    ax3.set_title('Category: ' + column4)\n",
    "    ax3.legend(loc='upper right')\n",
    "    ax3.grid(True)\n",
    "    \n",
    "    ax4.hist(df9,bins,label='Lower',stacked = False)\n",
    "    ax4.hist(df10,bins,label='Higher',stacked = False)\n",
    "    ax4.set_title('Category: ' + column5)\n",
    "    ax4.legend(loc='upper right')\n",
    "    ax4.grid(True)\n",
    "    \n",
    "    ax5.hist(df11,bins,label='Lower',stacked = False)\n",
    "    ax5.hist(df12,bins,label='Higher',stacked = False)\n",
    "    ax5.set_title('Category: ' + column6)\n",
    "    ax5.legend(loc='upper right')\n",
    "    ax5.grid(True)\n",
    "    \n",
    "    plt.subplots_adjust(wspace= 0.1)\n",
    "    plt.legend(loc='upper right')\n",
    " \n",
    "    fig.text(0.5,0.04,'Category Code', ha='center')\n",
    "    fig.text(0.04,0.5,'Number of Rows', va='center', rotation='vertical')\n",
    "    plt.show()\n",
    "    return\n",
    "\n",
    "#figure, axs = plt.subplots(nrows=len(compare_columns), ncols=2, figsize = (15,20))\n",
    "#figure.subplots_adjust(hspace = 1, wspace=.3)"
   ]
  },
  {
   "cell_type": "code",
   "execution_count": 31,
   "metadata": {
    "scrolled": true
   },
   "outputs": [
    {
     "data": {
      "image/png": "[encoded data removed]",
      "text/plain": [
       "<matplotlib.figure.Figure at 0x7fd980e5d3c8>"
      ]
     },
     "metadata": {
      "needs_background": "light"
     },
     "output_type": "display_data"
    }
   ],
   "source": [
    "make_histos(df_col1,df_col2,df_col3,df_col4,df_col5,df_col5)"
   ]
  },
  {
   "cell_type": "code",
   "execution_count": 32,
   "metadata": {},
   "outputs": [],
   "source": [
    "def dropRows(df,limit):\n",
    "    print (\"\\nDropping outlier rows from the dataset per limit.....\")\n",
    "    print (\"\\nBefore dropping: \",df.shape)\n",
    "    total_rows = df.shape[0]\n",
    "    nan_rowcount = df.isnull().sum(axis=1)\n",
    "    #plot_rowCount(nan_rowcount)\n",
    "    drop_rows  = nan_rowcount[nan_rowcount > limit]\n",
    "    #print (\"drop_rows: \",drop_rows)\n",
    "    #print (drop_rows.index)\n",
    "    print (\"Number of rows in dropped list: \",len(drop_rows))\n",
    "    df_drop = df.drop(drop_rows.index, axis = 0)\n",
    "    print (\"After dropping: \",df_drop.shape)\n",
    "    print (\"Percent of rows dropped: {}%\".format(100*(len(drop_rows)/total_rows)))\n",
    "    return df_drop"
   ]
  },
  {
   "cell_type": "code",
   "execution_count": 33,
   "metadata": {},
   "outputs": [
    {
     "name": "stdout",
     "output_type": "stream",
     "text": [
      "\n",
      "Dropping outlier rows from the dataset per limit.....\n",
      "\n",
      "Before dropping:  (891221, 79)\n",
      "Number of rows in dropped list:  93260\n",
      "After dropping:  (797961, 79)\n",
      "Percent of rows dropped: 10.464295612423854%\n"
     ]
    }
   ],
   "source": [
    "azdias = dropRows(azdias,25)"
   ]
  },
  {
   "cell_type": "markdown",
   "metadata": {},
   "source": [
    "#### Discussion 1.1.3: Assess Missing Data in Each Row\n",
    "\n",
    "Overall, the rows with a higher number of missing values fall within the distribution of rows with a lower number of missing values, suggesting there is no statistical difference. \n",
    "\n",
    "In addition, for the finance categories (FINANZ_XXX), they tend to be average, with values of 3-4, again suggesting no real difference. \n",
    "\n",
    "The one caveat is that missing data was screened when the data was read into a dataframe and there could be a pattern here. "
   ]
  },
  {
   "cell_type": "markdown",
   "metadata": {},
   "source": [
    "### Step 1.2: Select and Re-Encode Features\n",
    "\n",
    "Checking for missing data isn't the only way in which you can prepare a dataset for analysis. Since the unsupervised learning techniques to be used will only work on data that is encoded numerically, you need to make a few encoding changes or additional assumptions to be able to make progress. In addition, while almost all of the values in the dataset are encoded using numbers, not all of them represent numeric values. Check the third column of the feature summary (`feat_info`) for a summary of types of measurement.\n",
    "- For numeric and interval data, these features can be kept without changes.\n",
    "- Most of the variables in the dataset are ordinal in nature. While ordinal values may technically be non-linear in spacing, make the simplifying assumption that the ordinal variables can be treated as being interval in nature (that is, kept without any changes).\n",
    "- Special handling may be necessary for the remaining two variable types: categorical, and 'mixed'.\n",
    "\n",
    "In the first two parts of this sub-step, you will perform an investigation of the categorical and mixed-type features and make a decision on each of them, whether you will keep, drop, or re-encode each. Then, in the last part, you will create a new data frame with only the selected and engineered columns.\n",
    "\n",
    "Data wrangling is often the trickiest part of the data analysis process, and there's a lot of it to be done here. But stick with it: once you're done with this step, you'll be ready to get to the machine learning parts of the project!"
   ]
  },
  {
   "cell_type": "code",
   "execution_count": 34,
   "metadata": {},
   "outputs": [
    {
     "data": {
      "text/html": [
       "<div>\n",
       "<style scoped>\n",
       "    .dataframe tbody tr th:only-of-type {\n",
       "        vertical-align: middle;\n",
       "    }\n",
       "\n",
       "    .dataframe tbody tr th {\n",
       "        vertical-align: top;\n",
       "    }\n",
       "\n",
       "    .dataframe thead th {\n",
       "        text-align: right;\n",
       "    }\n",
       "</style>\n",
       "<table border=\"1\" class=\"dataframe\">\n",
       "  <thead>\n",
       "    <tr style=\"text-align: right;\">\n",
       "      <th></th>\n",
       "      <th>attribute</th>\n",
       "      <th>information_level</th>\n",
       "      <th>type</th>\n",
       "      <th>missing_or_unknown</th>\n",
       "    </tr>\n",
       "  </thead>\n",
       "  <tbody>\n",
       "    <tr>\n",
       "      <th>0</th>\n",
       "      <td>AGER_TYP</td>\n",
       "      <td>person</td>\n",
       "      <td>categorical</td>\n",
       "      <td>[-1,0]</td>\n",
       "    </tr>\n",
       "    <tr>\n",
       "      <th>1</th>\n",
       "      <td>ALTERSKATEGORIE_GROB</td>\n",
       "      <td>person</td>\n",
       "      <td>ordinal</td>\n",
       "      <td>[-1,0,9]</td>\n",
       "    </tr>\n",
       "    <tr>\n",
       "      <th>2</th>\n",
       "      <td>ANREDE_KZ</td>\n",
       "      <td>person</td>\n",
       "      <td>categorical</td>\n",
       "      <td>[-1,0]</td>\n",
       "    </tr>\n",
       "  </tbody>\n",
       "</table>\n",
       "</div>"
      ],
      "text/plain": [
       "              attribute information_level         type missing_or_unknown\n",
       "0              AGER_TYP            person  categorical             [-1,0]\n",
       "1  ALTERSKATEGORIE_GROB            person      ordinal           [-1,0,9]\n",
       "2             ANREDE_KZ            person  categorical             [-1,0]"
      ]
     },
     "metadata": {},
     "output_type": "display_data"
    },
    {
     "data": {
      "text/plain": [
       "ordinal        49\n",
       "categorical    21\n",
       "numeric         7\n",
       "mixed           7\n",
       "interval        1\n",
       "Name: type, dtype: int64"
      ]
     },
     "metadata": {},
     "output_type": "display_data"
    }
   ],
   "source": [
    "# How many features are there of each data type?\n",
    "display (feat_info.head(3))\n",
    "display (feat_info['type'].value_counts())"
   ]
  },
  {
   "cell_type": "markdown",
   "metadata": {},
   "source": [
    "#### Step 1.2.1: Re-Encode Categorical Features\n",
    "\n",
    "For categorical data, you would ordinarily need to encode the levels as dummy variables. Depending on the number of categories, perform one of the following:\n",
    "- For binary (two-level) categoricals that take numeric values, you can keep them without needing to do anything.\n",
    "- There is one binary variable that takes on non-numeric values. For this one, you need to re-encode the values as numbers or create a dummy variable.\n",
    "- For multi-level categoricals (three or more values), you can choose to encode the values using multiple dummy variables (e.g. via [OneHotEncoder](http://scikit-learn.org/stable/modules/generated/sklearn.preprocessing.OneHotEncoder.html)), or (to keep things straightforward) just drop them from the analysis. As always, document your choices in the Discussion section."
   ]
  },
  {
   "cell_type": "code",
   "execution_count": 35,
   "metadata": {},
   "outputs": [],
   "source": [
    "#azdias,feat_info = reLoad(azdias,feat_info)"
   ]
  },
  {
   "cell_type": "code",
   "execution_count": 36,
   "metadata": {},
   "outputs": [],
   "source": [
    "# Assess categorical variables: which are binary, which are multi-level, and\n",
    "# which one needs to be re-encoded?\n",
    "# Use Feat_info to identify columns with categorical data: \n",
    "def create_binary_multi_categories(df_main, df_lookup):\n",
    "    category_columns = df_lookup.loc[df_lookup['type'] == 'categorical']\n",
    "    #print (category_columns[:3])\n",
    "    multi_categorical = []\n",
    "    binary_categorical = []\n",
    "    for column in category_columns['attribute']:\n",
    "        if column in df_main:\n",
    "            if df_main[column].nunique() <= 2:\n",
    "                #print (\"\\ncolumn binary: \",column, \"nunique: \",df_main[column].nunique())\n",
    "                binary_categorical.append(column)\n",
    "            else:\n",
    "                #print (\"\\ncolumn multi: \",column, \"nunique: \",df_main[column].nunique())\n",
    "                multi_categorical.append(column) \n",
    "    print (\"\\nNumber of multi categorical variables: {} and Number of binary categorical variables: {}\\n\".format \\\n",
    "       (len(multi_categorical),len(binary_categorical)))\n",
    "    #print (\"Binary Categorical Columns: \\n\",binary_categorical)\n",
    "    #print (\"\\nMulti Categorical Columns: \\n\",multi_categorical)\n",
    "    return binary_categorical, multi_categorical"
   ]
  },
  {
   "cell_type": "code",
   "execution_count": 37,
   "metadata": {},
   "outputs": [
    {
     "name": "stdout",
     "output_type": "stream",
     "text": [
      "\n",
      "Number of multi categorical variables: 13 and Number of binary categorical variables: 5\n",
      "\n"
     ]
    }
   ],
   "source": [
    "binary_categorical, multi_categorical = create_binary_multi_categories(azdias,feat_info)"
   ]
  },
  {
   "cell_type": "code",
   "execution_count": 38,
   "metadata": {},
   "outputs": [],
   "source": [
    "# Re-encode categorical variable(s) to be kept in the analysis.\n",
    "def list_binary_multi_categories(df,bin_cat,multi_cat): \n",
    "    print (\"Binary: \\n\")\n",
    "    for column in bin_cat :\n",
    "        print (column,df[column].unique())\n",
    "    print (\"-----\" *20)\n",
    "    print (\"Number of Multi:\\n\")\n",
    "    for column in multi_cat :\n",
    "        print (column,df[column].unique())"
   ]
  },
  {
   "cell_type": "code",
   "execution_count": 39,
   "metadata": {},
   "outputs": [
    {
     "name": "stdout",
     "output_type": "stream",
     "text": [
      "Binary: \n",
      "\n",
      "ANREDE_KZ [2 1]\n",
      "GREEN_AVANTGARDE [0 1]\n",
      "SOHO_KZ [ 1.  0.]\n",
      "VERS_TYP [  2.   1.  nan]\n",
      "OST_WEST_KZ ['W' 'O']\n",
      "----------------------------------------------------------------------------------------------------\n",
      "Number of Multi:\n",
      "\n",
      "CJT_GESAMTTYP [  5.   3.   2.   4.   1.   6.  nan]\n",
      "FINANZTYP [1 6 5 2 4 3]\n",
      "GFK_URLAUBERTYP [ 10.   1.   5.  12.   9.   3.   8.  11.   4.   2.   7.   6.  nan]\n",
      "LP_FAMILIE_FEIN [  5.   1.  nan  10.   2.   7.  11.   8.   4.   6.   9.   3.]\n",
      "LP_FAMILIE_GROB [  3.   1.  nan   5.   2.   4.]\n",
      "LP_STATUS_FEIN [  2.   3.   9.   4.   1.  10.   5.   8.   6.   7.  nan]\n",
      "LP_STATUS_GROB [  1.   2.   4.   5.   3.  nan]\n",
      "NATIONALITAET_KZ [  1.   3.   2.  nan]\n",
      "SHOPPER_TYP [  3.   2.   1.   0.  nan]\n",
      "ZABEOTYP [5 3 4 1 6 2]\n",
      "GEBAEUDETYP [ 8.  1.  3.  2.  6.  4.  5.]\n",
      "CAMEO_DEUG_2015 [  8.   4.   2.   6.   1.   9.   5.   7.  nan   3.]\n",
      "CAMEO_DEU_2015 ['8A' '4C' '2A' '6B' '8C' '4A' '2D' '1A' '1E' '9D' '5C' '8B' '7A' '5D' '9E'\n",
      " nan '9B' '1B' '3D' '4E' '4B' '3C' '5A' '7B' '9A' '6D' '6E' '2C' '7C' '9C'\n",
      " '7D' '5E' '1D' '8D' '6C' '6A' '5B' '4D' '3A' '2B' '7E' '3B' '6F' '5F' '1C']\n"
     ]
    }
   ],
   "source": [
    "list_binary_multi_categories(azdias,binary_categorical,multi_categorical)"
   ]
  },
  {
   "cell_type": "code",
   "execution_count": 40,
   "metadata": {},
   "outputs": [],
   "source": [
    "# Changing unique codes into standard codes\n",
    "def encode_binary(df):\n",
    " print (\"\\nBefore Replacement: \",df['OST_WEST_KZ'].unique())\n",
    " df['OST_WEST_KZ'].replace(['W','O'], [1.0,0.0], inplace=True)\n",
    " print (\"After Replacement: \",df['OST_WEST_KZ'].unique())\n",
    " return df"
   ]
  },
  {
   "cell_type": "code",
   "execution_count": 41,
   "metadata": {},
   "outputs": [
    {
     "name": "stdout",
     "output_type": "stream",
     "text": [
      "\n",
      "Before Replacement:  ['W' 'O']\n",
      "After Replacement:  [ 1.  0.]\n"
     ]
    }
   ],
   "source": [
    "azdias = encode_binary(azdias)"
   ]
  },
  {
   "cell_type": "markdown",
   "metadata": {},
   "source": [
    "All binary list being replaced with [1,2]. Along with '-1', '0' reserved for unknown. "
   ]
  },
  {
   "cell_type": "code",
   "execution_count": 42,
   "metadata": {},
   "outputs": [],
   "source": [
    "# Turning multi-level variables into binary with get_dummies: \n",
    "def encode_multi(df,multi):\n",
    "    print (\"\\nbefore dummies\", df.shape)\n",
    "    df = pd.get_dummies(df, columns = multi)\n",
    "    print (\"after dummy column insertion\", df.shape)\n",
    "    return df"
   ]
  },
  {
   "cell_type": "code",
   "execution_count": 43,
   "metadata": {},
   "outputs": [
    {
     "name": "stdout",
     "output_type": "stream",
     "text": [
      "\n",
      "before dummies (797961, 79)\n",
      "after dummy column insertion (797961, 194)\n"
     ]
    }
   ],
   "source": [
    "azdias = encode_multi(azdias,multi_categorical)"
   ]
  },
  {
   "cell_type": "markdown",
   "metadata": {},
   "source": [
    "#### Discussion 1.2.1: Re-Encode Categorical Features\n",
    "\n",
    "First some definitions. A categorical variable is one that has two or more catagories but there is no implied ordering. Blue, brown and green eyes are categorical (or also called nominal). Ordinal features are categorical with ordering. For example, freshman, sophmore, junior and senior. are ordinal. Numerical values are integers that are equally spaced. \n",
    "\n",
    "The below is a summary of the variable types in the feat_info dataframe: \n",
    "\n",
    "| Type        | Count |\n",
    "|-------------|:-----:|\n",
    "| Ordinal     |   49  |\n",
    "| Categorical |   21  |\n",
    "| Numeric     |   7   |\n",
    "| Mixed       |   7   |\n",
    "| Interval    |   1   |\n",
    "\n"
   ]
  },
  {
   "cell_type": "markdown",
   "metadata": {},
   "source": [
    "#### Step 1.2.2: Engineer Mixed-Type Features\n",
    "\n",
    "There are a handful of features that are marked as \"mixed\" in the feature summary that require special treatment in order to be included in the analysis. There are two in particular that deserve attention; the handling of the rest are up to your own choices:\n",
    "- \"PRAEGENDE_JUGENDJAHRE\" combines information on three dimensions: generation by decade, movement (mainstream vs. avantgarde), and nation (east vs. west). While there aren't enough levels to disentangle east from west, you should create two new variables to capture the other two dimensions: an interval-type variable for decade, and a binary variable for movement.\n",
    "- \"CAMEO_INTL_2015\" combines information on two axes: wealth and life stage. Break up the two-digit codes by their 'tens'-place and 'ones'-place digits into two new ordinal variables (which, for the purposes of this project, is equivalent to just treating them as their raw numeric values).\n",
    "- If you decide to keep or engineer new features around the other mixed-type features, make sure you note your steps in the Discussion section.\n",
    "\n",
    "Be sure to check `Data_Dictionary.md` for the details needed to finish these tasks."
   ]
  },
  {
   "cell_type": "code",
   "execution_count": 44,
   "metadata": {},
   "outputs": [],
   "source": [
    "# Investigate \"PRAEGENDE_JUGENDJAHRE\" and engineer two new variables.\n",
    "# New variable decade with value corresponding to decade: \n",
    "\n",
    "#generation encoded as '1' for mainstream and '2' for Avantgarde \n",
    "\n",
    "def generation(value):\n",
    "    decades = {0:np.nan,1:40,2:40,3:50,4:50,5:60,6:60,7:60,8:70,9:70,10:80,11:80,12:80,13:80,14:90,15:90}\n",
    "    gen = decades[value]\n",
    "    return gen\n",
    "\n",
    "def movement(value):\n",
    "    movements = {0:np.nan,1:1,2:2,3:1,4:2,5:1,6:2,7:2,8:1,9:2,10:3,11:2,12:1,13:2,14:1,15:2}\n",
    "    gen = movements[value]\n",
    "    return gen\n",
    "\n",
    "#azdias[\"Generation\"] = azdias['PRAEGENDE_JUGENDJAHRE'].fillna(0).apply(generation)\n",
    "#azdias[\"Movement\"] = azdias['PRAEGENDE_JUGENDJAHRE'].fillna(0).apply(movement)\n",
    "\n",
    "#print (azdias[['PRAEGENDE_JUGENDJAHRE','Generation','Movement']].head(7))"
   ]
  },
  {
   "cell_type": "code",
   "execution_count": 45,
   "metadata": {},
   "outputs": [],
   "source": [
    "# Investigate \"CAMEO_INTL_2015\" and engineer two new variables.\n",
    "def wealth(value):\n",
    "    if value == 'XX':\n",
    "        return np.nan\n",
    "    if pd.isnull(value):\n",
    "        return np.nan\n",
    "    else:\n",
    "        return int(str(value)[0])\n",
    "\n",
    "def lifestage(value):\n",
    "    if value == 'XX':\n",
    "        return np.nan\n",
    "    if pd.isnull(value):\n",
    "        return np.nan\n",
    "    else:\n",
    "        return int(str(value)[1])"
   ]
  },
  {
   "cell_type": "code",
   "execution_count": 46,
   "metadata": {},
   "outputs": [],
   "source": [
    "#Generating new variables: \n",
    "def newVariables(df): \n",
    "    print (\"adding new variables..\", df.shape)\n",
    "    df[\"Generation\"] = df['PRAEGENDE_JUGENDJAHRE'].fillna(0).apply(generation)\n",
    "    df[\"Movement\"] = df['PRAEGENDE_JUGENDJAHRE'].fillna(0).apply(movement)\n",
    "    df['CAMEO_Wealth'] = df['CAMEO_INTL_2015'].apply(wealth)\n",
    "    df['CAMEO_Lifestage'] = df['CAMEO_INTL_2015'].apply(lifestage)\n",
    "    \n",
    "    print (\"Shape after new variables: \",df.shape)\n",
    "    print (df[['CAMEO_INTL_2015','CAMEO_Wealth','CAMEO_Lifestage']].head())\n",
    "    print (df[['PRAEGENDE_JUGENDJAHRE','Generation','Movement']].head())\n",
    "\n",
    "    return df "
   ]
  },
  {
   "cell_type": "code",
   "execution_count": 47,
   "metadata": {},
   "outputs": [
    {
     "name": "stdout",
     "output_type": "stream",
     "text": [
      "(797961, 194)\n",
      "adding new variables.. (797961, 194)\n",
      "Shape after new variables:  (797961, 198)\n",
      "   CAMEO_INTL_2015  CAMEO_Wealth  CAMEO_Lifestage\n",
      "1             51.0           5.0              1.0\n",
      "2             24.0           2.0              4.0\n",
      "3             12.0           1.0              2.0\n",
      "4             43.0           4.0              3.0\n",
      "5             54.0           5.0              4.0\n",
      "   PRAEGENDE_JUGENDJAHRE  Generation  Movement\n",
      "1                   14.0        90.0       1.0\n",
      "2                   15.0        90.0       2.0\n",
      "3                    8.0        70.0       1.0\n",
      "4                    8.0        70.0       1.0\n",
      "5                    3.0        50.0       1.0\n",
      "After newVariables: (797961, 198)\n"
     ]
    }
   ],
   "source": [
    "print (azdias.shape)\n",
    "azdias = newVariables(azdias)\n",
    "print (\"After newVariables:\",azdias.shape)"
   ]
  },
  {
   "cell_type": "code",
   "execution_count": null,
   "metadata": {},
   "outputs": [],
   "source": []
  },
  {
   "cell_type": "markdown",
   "metadata": {},
   "source": [
    "#### Discussion 1.2.2: Engineer Mixed-Type Features\n",
    "All binary list have values replaced with [1,2].  The variables  '-1' and  '0' reserved for unknown. ANREDE_KZ was left untouched as it was correctly formatted. OST_WEST_KZ with values of 'W' and 'O' were re-encoded to 1 and 0. \n",
    "\n",
    "PRAEGENDE_JUGENDJAHRE variables were translated into 2 new variables, 'generation' and 'movement' using pandas df.apply.  CAMEO_INTL_2015 also generated 2 new variables, 'wealth' and 'lifestage'. Original columns were dropped. \n",
    "\n",
    "Multi-categorical features were encoded with get_dummies. "
   ]
  },
  {
   "cell_type": "markdown",
   "metadata": {},
   "source": [
    "#### Step 1.2.3: Complete Feature Selection\n",
    "\n",
    "In order to finish this step up, you need to make sure that your data frame now only has the columns that you want to keep. To summarize, the dataframe should consist of the following:\n",
    "- All numeric, interval, and ordinal type columns from the original dataset.\n",
    "- Binary categorical features (all numerically-encoded).\n",
    "- Engineered features from other multi-level categorical features and mixed features.\n",
    "\n",
    "Make sure that for any new columns that you have engineered, that you've excluded the original columns from the final dataset. Otherwise, their values will interfere with the analysis later on the project. For example, you should not keep \"PRAEGENDE_JUGENDJAHRE\", since its values won't be useful for the algorithm: only the values derived from it in the engineered features you created should be retained. As a reminder, your data should only be from **the subset with few or no missing values**."
   ]
  },
  {
   "cell_type": "code",
   "execution_count": 48,
   "metadata": {},
   "outputs": [],
   "source": [
    "# If there are other re-engineering tasks you need to perform, make sure you\n",
    "# take care of them here. (Dealing with missing data will come in step 2.1.)\n",
    "def excludeOriginalColumns(df):\n",
    "    print (\"\\nBefore excluding columns\", df.shape)\n",
    "    if set(['PRAEGENDE_JUGENDJAHRE', 'CAMEO_INTL_2015']).issubset(df.columns):\n",
    "       df = df.drop(['PRAEGENDE_JUGENDJAHRE','CAMEO_INTL_2015'], axis=1)\n",
    "    print (\"After excluding columns\", df.shape)\n",
    "    return df"
   ]
  },
  {
   "cell_type": "code",
   "execution_count": 49,
   "metadata": {},
   "outputs": [
    {
     "name": "stdout",
     "output_type": "stream",
     "text": [
      "\n",
      "Before excluding columns (797961, 198)\n",
      "After excluding columns (797961, 196)\n"
     ]
    }
   ],
   "source": [
    "azdias = excludeOriginalColumns(azdias) "
   ]
  },
  {
   "cell_type": "code",
   "execution_count": 50,
   "metadata": {},
   "outputs": [],
   "source": [
    "# Do whatever you need to in order to ensure that the dataframe only contains\n",
    "# the columns that should be passed to the algorithm functions."
   ]
  },
  {
   "cell_type": "markdown",
   "metadata": {},
   "source": [
    "### Step 1.3: Create a Cleaning Function\n",
    "\n",
    "Even though you've finished cleaning up the general population demographics data, it's important to look ahead to the future and realize that you'll need to perform the same cleaning steps on the customer demographics data. In this substep, complete the function below to execute the main feature selection, encoding, and re-engineering steps you performed above. Then, when it comes to looking at the customer data in Step 3, you can just run this function on that DataFrame to get the trimmed dataset in a single step."
   ]
  },
  {
   "cell_type": "code",
   "execution_count": 51,
   "metadata": {},
   "outputs": [],
   "source": [
    "def myimpute(df):\n",
    "    print (\"Starting Imputer Shape: \",df.shape)\n",
    "    percent = 100*(df.isnull().sum().sum()/(df.shape[0]*df.shape[1]))\n",
    "    print (\"\\nThe total number of missing values before imputing is: {} or {:.1f}%. \\\n",
    "       .\".format(df.isnull().sum().sum(),percent))\n",
    "    imputer = Imputer(missing_values = 'NaN',strategy='most_frequent')\n",
    "\n",
    "    df_cleaned_impute = pd.DataFrame(imputer.fit_transform(df))\n",
    "                                     \n",
    "    df_cleaned_impute.columns = df.columns\n",
    "    df_cleaned_impute.index = df.index\n",
    "                                     \n",
    "    print (\"Final Cleaned, Imputed Shape: \",df_cleaned_impute.shape)\n",
    "    #display (azdias_cleaned_impute.head())\n",
    "    #print (\"\\nMissing Values After Imputing: \",df_cleaned_impute.isnull().sum().sum())\n",
    "    print (\"\\n Imputing completed.\")\n",
    "    return df_cleaned_impute "
   ]
  },
  {
   "cell_type": "code",
   "execution_count": 52,
   "metadata": {},
   "outputs": [],
   "source": [
    "def clean_data1(df,column_limit):\n",
    "    \"\"\"\n",
    "    Perform feature trimming, re-encoding, and engineering for demographics\n",
    "    data\n",
    "    \n",
    "    INPUT: Demographics DataFrame. Column Limit. \n",
    "    OUTPUT: Trimmed and cleaned demographics DataFrame\n",
    "    \"\"\"\n",
    "    start = timer()\n",
    "    \n",
    "    # Convert feat_info missing value codes to np.nan: \n",
    "    nancodes = translate()\n",
    "    \n",
    "    print (\"--\"*20)\n",
    "    print (\"FINANZ_MINIMALIST\",df['FINANZ_MINIMALIST'].head(5))\n",
    "    \n",
    "    # With corrected feat_info (nancodes), convert nan codes to np.nan \n",
    "    df_missing_codes_replaced = values_to_codes(df,nancodes)\n",
    "    print (df_missing_codes_replaced.shape)\n",
    "    df_missing_codes_replaced.head()\n",
    "    \n",
    "    #count the number of missing values per column:\n",
    "    col_nan_count, total_missing_values_by_column = count_columns(df_missing_codes_replaced)\n",
    "   \n",
    "    # Use plot to define limit for the number of missing values allowed per column.\n",
    "    plot_missing_by_cols(total_missing_values_by_column)\n",
    "    \n",
    "    # Drop columns above limit \n",
    "    df_columns_dropped = dropColumns(df_missing_codes_replaced,column_limit)\n",
    "    print (df_missing_codes_replaced.shape)\n",
    "    \n",
    "    print (\"FINANZ_MINIMALIST after columns dropped\",df_columns_dropped['FINANZ_MINIMALIST'].head(5))\n",
    "    \n",
    "    row_nan_count, row_total = countRows(df_columns_dropped)\n",
    "\n",
    "    plot_rowCount(row_nan_count)\n",
    "    \n",
    "    df_rows_dropped = dropRows(df_columns_dropped,25)\n",
    "    print (\"After dropping rows: \",df_rows_dropped.shape)\n",
    "    \n",
    "    binary_categorical, multi_categorical = create_binary_multi_categories(df_rows_dropped,feat_info)\n",
    "\n",
    "    #list_binary_multi_categories(azdias,binary_categorical,multi_categorical)\n",
    "    \n",
    "    df_rows_dropped = encode_binary(df_rows_dropped)\n",
    "    \n",
    "    df_encoded = encode_multi(df_rows_dropped,multi_categorical)\n",
    "    \n",
    "    df_encoded = newVariables(df_encoded)\n",
    "\n",
    "    df_imputed = myimpute(df_encoded) \n",
    "    df_columns_excluded = excludeOriginalColumns(df_imputed) \n",
    "\n",
    "    print (\"FINANZ_MINIMALIST after columns excluded\",df_columns_excluded['FINANZ_MINIMALIST'].head(5))\n",
    "    \n",
    "    print (\"\\nEnd of cleaning. \")\n",
    "    end = timer()\n",
    "    print(f\"\\nCleaned data in {end - start:0.0f} seconds\")\n",
    "    \n",
    "    return df_columns_excluded "
   ]
  },
  {
   "cell_type": "code",
   "execution_count": 53,
   "metadata": {},
   "outputs": [
    {
     "name": "stdout",
     "output_type": "stream",
     "text": [
      "\n",
      "Loading Data....\n",
      "General demographic data loaded. Shape:  (891221, 85)\n"
     ]
    }
   ],
   "source": [
    "azdias_raw, feat_info = loadData() "
   ]
  },
  {
   "cell_type": "code",
   "execution_count": 54,
   "metadata": {},
   "outputs": [
    {
     "name": "stdout",
     "output_type": "stream",
     "text": [
      "\n",
      "Converting feat_info missing value strings to float....\n",
      "----------------------------------------\n",
      "FINANZ_MINIMALIST 0    3\n",
      "1    1\n",
      "2    1\n",
      "3    4\n",
      "4    4\n",
      "Name: FINANZ_MINIMALIST, dtype: int64\n",
      "\n",
      "Replacing dataframe missing values with np.nan...\n",
      "(891221, 85)\n",
      "\n",
      "Counting the number of missing values per column....\n"
     ]
    },
    {
     "data": {
      "text/html": [
       "<div>\n",
       "<style scoped>\n",
       "    .dataframe tbody tr th:only-of-type {\n",
       "        vertical-align: middle;\n",
       "    }\n",
       "\n",
       "    .dataframe tbody tr th {\n",
       "        vertical-align: top;\n",
       "    }\n",
       "\n",
       "    .dataframe thead th {\n",
       "        text-align: right;\n",
       "    }\n",
       "</style>\n",
       "<table border=\"1\" class=\"dataframe\">\n",
       "  <thead>\n",
       "    <tr style=\"text-align: right;\">\n",
       "      <th></th>\n",
       "      <th>Column Name</th>\n",
       "      <th>Count_NaN</th>\n",
       "    </tr>\n",
       "  </thead>\n",
       "  <tbody>\n",
       "    <tr>\n",
       "      <th>40</th>\n",
       "      <td>TITEL_KZ</td>\n",
       "      <td>889061</td>\n",
       "    </tr>\n",
       "    <tr>\n",
       "      <th>0</th>\n",
       "      <td>AGER_TYP</td>\n",
       "      <td>685843</td>\n",
       "    </tr>\n",
       "    <tr>\n",
       "      <th>47</th>\n",
       "      <td>KK_KUNDENTYP</td>\n",
       "      <td>584612</td>\n",
       "    </tr>\n",
       "    <tr>\n",
       "      <th>64</th>\n",
       "      <td>KBA05_BAUMAX</td>\n",
       "      <td>476524</td>\n",
       "    </tr>\n",
       "    <tr>\n",
       "      <th>11</th>\n",
       "      <td>GEBURTSJAHR</td>\n",
       "      <td>392318</td>\n",
       "    </tr>\n",
       "    <tr>\n",
       "      <th>43</th>\n",
       "      <td>ALTER_HH</td>\n",
       "      <td>310267</td>\n",
       "    </tr>\n",
       "    <tr>\n",
       "      <th>70</th>\n",
       "      <td>KKK</td>\n",
       "      <td>158064</td>\n",
       "    </tr>\n",
       "    <tr>\n",
       "      <th>73</th>\n",
       "      <td>REGIOTYP</td>\n",
       "      <td>158064</td>\n",
       "    </tr>\n",
       "    <tr>\n",
       "      <th>48</th>\n",
       "      <td>W_KEIT_KIND_HH</td>\n",
       "      <td>147988</td>\n",
       "    </tr>\n",
       "    <tr>\n",
       "      <th>60</th>\n",
       "      <td>KBA05_ANTG1</td>\n",
       "      <td>133324</td>\n",
       "    </tr>\n",
       "  </tbody>\n",
       "</table>\n",
       "</div>"
      ],
      "text/plain": [
       "       Column Name  Count_NaN\n",
       "40        TITEL_KZ     889061\n",
       "0         AGER_TYP     685843\n",
       "47    KK_KUNDENTYP     584612\n",
       "64    KBA05_BAUMAX     476524\n",
       "11     GEBURTSJAHR     392318\n",
       "43        ALTER_HH     310267\n",
       "70             KKK     158064\n",
       "73        REGIOTYP     158064\n",
       "48  W_KEIT_KIND_HH     147988\n",
       "60     KBA05_ANTG1     133324"
      ]
     },
     "metadata": {},
     "output_type": "display_data"
    },
    {
     "data": {
      "image/png": "[encoded data removed]",
      "text/plain": [
       "<matplotlib.figure.Figure at 0x7fd980fbafd0>"
      ]
     },
     "metadata": {
      "needs_background": "light"
     },
     "output_type": "display_data"
    },
    {
     "name": "stdout",
     "output_type": "stream",
     "text": [
      "\n",
      "Dropping outlier columns from the dataset per limit.....\n",
      "Number of columns in dropped list:  6\n",
      "Before dropping:  (891221, 85)\n",
      "After dropping:  (891221, 79)\n",
      "Columns dropped:  ['AGER_TYP', 'GEBURTSJAHR', 'TITEL_KZ', 'ALTER_HH', 'KK_KUNDENTYP', 'KBA05_BAUMAX']\n",
      "(891221, 85)\n",
      "FINANZ_MINIMALIST after columns dropped 0    3\n",
      "1    1\n",
      "2    1\n",
      "3    4\n",
      "4    4\n",
      "Name: FINANZ_MINIMALIST, dtype: int64\n",
      "(891221, 2)\n"
     ]
    },
    {
     "data": {
      "image/png": "[encoded data removed]",
      "text/plain": [
       "<matplotlib.figure.Figure at 0x7fd9810025f8>"
      ]
     },
     "metadata": {
      "needs_background": "light"
     },
     "output_type": "display_data"
    },
    {
     "name": "stdout",
     "output_type": "stream",
     "text": [
      "\n",
      "Dropping outlier rows from the dataset per limit.....\n",
      "\n",
      "Before dropping:  (891221, 79)\n",
      "Number of rows in dropped list:  93260\n",
      "After dropping:  (797961, 79)\n",
      "Percent of rows dropped: 10.464295612423854%\n",
      "After dropping rows:  (797961, 79)\n",
      "\n",
      "Number of multi categorical variables: 13 and Number of binary categorical variables: 5\n",
      "\n",
      "\n",
      "Before Replacement:  ['W' 'O']\n",
      "After Replacement:  [ 1.  0.]\n",
      "\n",
      "before dummies (797961, 79)\n",
      "after dummy column insertion (797961, 194)\n",
      "adding new variables.. (797961, 194)\n",
      "Shape after new variables:  (797961, 198)\n",
      "   CAMEO_INTL_2015  CAMEO_Wealth  CAMEO_Lifestage\n",
      "1             51.0           5.0              1.0\n",
      "2             24.0           2.0              4.0\n",
      "3             12.0           1.0              2.0\n",
      "4             43.0           4.0              3.0\n",
      "5             54.0           5.0              4.0\n",
      "   PRAEGENDE_JUGENDJAHRE  Generation  Movement\n",
      "1                   14.0        90.0       1.0\n",
      "2                   15.0        90.0       2.0\n",
      "3                    8.0        70.0       1.0\n",
      "4                    8.0        70.0       1.0\n",
      "5                    3.0        50.0       1.0\n",
      "Starting Imputer Shape:  (797961, 198)\n",
      "\n",
      "The total number of missing values before imputing is: 916730 or 0.6%.        .\n",
      "Final Cleaned, Imputed Shape:  (797961, 198)\n",
      "\n",
      " Imputing completed.\n",
      "\n",
      "Before excluding columns (797961, 198)\n",
      "After excluding columns (797961, 196)\n",
      "FINANZ_MINIMALIST after columns excluded 1    1.0\n",
      "2    1.0\n",
      "3    4.0\n",
      "4    4.0\n",
      "5    3.0\n",
      "Name: FINANZ_MINIMALIST, dtype: float64\n",
      "\n",
      "End of cleaning. \n",
      "\n",
      "Cleaned data in 84 seconds\n"
     ]
    }
   ],
   "source": [
    "azdiasCleaned = clean_data1(azdias_raw,270000)"
   ]
  },
  {
   "cell_type": "markdown",
   "metadata": {},
   "source": [
    "## Step 2: Feature Transformation\n",
    "\n",
    "### Step 2.1: Apply Feature Scaling\n",
    "\n",
    "Before we apply dimensionality reduction techniques to the data, we need to perform feature scaling so that the principal component vectors are not influenced by the natural differences in scale for features. Starting from this part of the project, you'll want to keep an eye on the [API reference page for sklearn](http://scikit-learn.org/stable/modules/classes.html) to help you navigate to all of the classes and functions that you'll need. In this substep, you'll need to check the following:\n",
    "\n",
    "- sklearn requires that data not have missing values in order for its estimators to work properly. So, before applying the scaler to your data, make sure that you've cleaned the DataFrame of the remaining missing values. This can be as simple as just removing all data points with missing data, or applying an [Imputer](http://scikit-learn.org/stable/modules/generated/sklearn.preprocessing.Imputer.html) to replace all missing values. You might also try a more complicated procedure where you temporarily remove missing values in order to compute the scaling parameters before re-introducing those missing values and applying imputation. Think about how much missing data you have and what possible effects each approach might have on your analysis, and justify your decision in the discussion section below.\n",
    "- For the actual scaling function, a [StandardScaler](http://scikit-learn.org/stable/modules/generated/sklearn.preprocessing.StandardScaler.html) instance is suggested, scaling each feature to mean 0 and standard deviation 1.\n",
    "- For these classes, you can make use of the `.fit_transform()` method to both fit a procedure to the data as well as apply the transformation to the data at the same time. Don't forget to keep the fit sklearn objects handy, since you'll be applying them to the customer demographics data towards the end of the project."
   ]
  },
  {
   "cell_type": "code",
   "execution_count": 55,
   "metadata": {},
   "outputs": [],
   "source": [
    "# Function to generate PCA values. \n",
    "def do_pca(n_components, df):\n",
    "    start=timer()\n",
    "    '''\n",
    "    This is being borrowed from a helper function earlier in the class: \n",
    "    Transforms data using PCA to create n_components, and provides back the results of the\n",
    "    transformation.\n",
    "\n",
    "    INPUT: n_components - int - the number of principal components to create\n",
    "           data - the scaled data \n",
    "\n",
    "    OUTPUT: pca - the pca object created after fitting the data\n",
    "            X_pca - the transformed X matrix with new number of components\n",
    "            \n",
    "    '''\n",
    "    pca = PCA(n_components)\n",
    "    df_pca = pca.fit_transform(df)\n",
    "    end=timer() \n",
    "    print(f\"Executed in {(end - start)/60:0.1f} minutes\")\n",
    "    return pca, df_pca"
   ]
  },
  {
   "cell_type": "code",
   "execution_count": 56,
   "metadata": {},
   "outputs": [],
   "source": [
    "# Function to generate scaled data. 3 scaler options are offered, standard, minmax, robust. \n",
    "\n",
    "def do_standardized( df, myscaler):\n",
    "    #INPUT: dataframe, the scaler type to use\n",
    "    #OUTPUT: scaled data\n",
    "    start=timer()  \n",
    "    global scaledData \n",
    "    if myscaler == 1:\n",
    "        scaler = StandardScaler() \n",
    "        scaledData = scaler.fit_transform(df)\n",
    "        print (\"Standard Scaler applied\")\n",
    "    elif myscaler == 2: \n",
    "         scaler = MinMaxScaler(feature_range=[0,1])\n",
    "         scaledData = scaler.fit_transform(df)\n",
    "         print (\"MinMax Scaler applied\")\n",
    "    elif myscaler == 3:\n",
    "        scaler = RobustScaler()\n",
    "        scaledData = scaler.fit_transform(df)\n",
    "        print (\"Robust Scaler applied\")\n",
    "    else: \n",
    "        print (\"Scaler not recognized\")\n",
    "    end=timer() \n",
    "    print(f\"Executed in {(end - start)/60:0.1f} minutes\")\n",
    "    return scaler, scaledData "
   ]
  },
  {
   "cell_type": "code",
   "execution_count": 57,
   "metadata": {},
   "outputs": [
    {
     "name": "stdout",
     "output_type": "stream",
     "text": [
      "Robust Scaler applied\n",
      "Executed in 0.6 minutes\n"
     ]
    }
   ],
   "source": [
    "scaler, azdiasScaled = do_standardized(azdiasCleaned,3)"
   ]
  },
  {
   "cell_type": "code",
   "execution_count": 58,
   "metadata": {},
   "outputs": [],
   "source": [
    "#scaler1, azdiasScaled1 = do_standardized(azdiasCleaned,1)\n",
    "#pca1, Xpca1 = do_pca(194,azdiasScaled1)\n",
    "#pickle.dump(pca,open('pca_std_194','wb'))"
   ]
  },
  {
   "cell_type": "code",
   "execution_count": 59,
   "metadata": {},
   "outputs": [],
   "source": [
    "#scaler2, azdiasScaled2 = do_standardized(azdiasCleaned,2)\n",
    "#pca2, Xpca2 = do_pca(194,azdiasScaled2)\n",
    "#pickle.dump(pca1,open('pca_minmax_194','wb'))"
   ]
  },
  {
   "cell_type": "code",
   "execution_count": 60,
   "metadata": {},
   "outputs": [],
   "source": [
    "#scaler3, azdiasScaled3 = do_standardized(azdiasCleaned,3)\n",
    "#pca3, Xpca3 = do_pca(194,azdiasScaled3)\n",
    "#pickle.dump(pca2,open('pca_robust_194','wb'))"
   ]
  },
  {
   "cell_type": "code",
   "execution_count": 61,
   "metadata": {},
   "outputs": [
    {
     "name": "stdout",
     "output_type": "stream",
     "text": [
      "Executed in 1.0 minutes\n"
     ]
    }
   ],
   "source": [
    "azdiasPCA, azdiasXPCA = do_pca(25,azdiasScaled)\n",
    "pickle.dump(azdiasPCA,open('azdias_std_25','wb'))\n",
    "pickle.dump(azdiasXPCA, open('azdiasXPCA', 'wb'))"
   ]
  },
  {
   "cell_type": "code",
   "execution_count": 62,
   "metadata": {},
   "outputs": [],
   "source": [
    "def loadPCA():\n",
    "    pca = pickle.load(open('pca_std_194', 'rb'))\n",
    "    pca1 = pickle.load(open('pca_minmax_194', 'rb'))\n",
    "    pca2 = pickle.load(open('pca_robust_194', 'rb'))\n",
    "    pca10 = pickle.load(open('pca_robust_10', 'rb'))\n",
    "    Xpca10 = pickle.load(open(\"Xpca10\", 'rb'))\n",
    "    pca25 = pickle.load(open('pca_robust_25', 'rb'))\n",
    "    Xpca25 = pickle.load(open(\"Xpca25\", 'rb'))\n",
    "    return pca, pca1, pca2, pca10, Xpca10, pca25, Xpca25"
   ]
  },
  {
   "cell_type": "code",
   "execution_count": 63,
   "metadata": {},
   "outputs": [],
   "source": [
    " #pca, pca1,pca2, pca10, Xpca10, pca25, Xpca25 = loadPCA()"
   ]
  },
  {
   "cell_type": "code",
   "execution_count": 64,
   "metadata": {},
   "outputs": [
    {
     "name": "stdout",
     "output_type": "stream",
     "text": [
      "pca variance explained: 0.80 with 25 components \n"
     ]
    }
   ],
   "source": [
    "\n",
    "print (\"pca variance explained: %4.2f with %2d components \"%(azdiasPCA.explained_variance_ratio_.sum(), azdiasPCA.n_components))"
   ]
  },
  {
   "cell_type": "code",
   "execution_count": 65,
   "metadata": {},
   "outputs": [],
   "source": [
    "\n",
    "def scree_plot(pca,pca1,pca2):\n",
    "    '''\n",
    "    Creates a scree plot associated with the principal components. Modifid from previous class helper fxn. \n",
    "    \n",
    "    INPUT: pca - the result of instantian of PCA in scikit learn\n",
    "            \n",
    "    OUTPUT:\n",
    "            None\n",
    "    '''\n",
    "    num_components = len(pca.explained_variance_ratio_)\n",
    "    ind = np.arange(num_components)\n",
    "    vals = pca.explained_variance_ratio_\n",
    "    cumvals = np.cumsum(vals)\n",
    "    \n",
    "    num_components1 = len(pca1.explained_variance_ratio_)\n",
    "    ind1 = np.arange(num_components1)\n",
    "    vals1 = pca1.explained_variance_ratio_\n",
    "    cumvals1 = np.cumsum(vals1)\n",
    "    \n",
    "    num_components2 = len(pca2.explained_variance_ratio_)\n",
    "    ind2 = np.arange(num_components2)\n",
    "    vals2 = pca2.explained_variance_ratio_\n",
    "    cumvals2 = np.cumsum(vals2)\n",
    "    \n",
    "    plt.figure(figsize=(10, 6))\n",
    "    ax = plt.subplot(111)\n",
    "  \n",
    "    #ax.bar(ind, vals)\n",
    "\n",
    "    ax.plot(ind, cumvals, label = 'StandardScaler')\n",
    "    ax.plot(ind1, cumvals1,label = 'MinMaxScaler')\n",
    "    ax.plot(ind2, cumvals2,label = 'RobustScaler')\n",
    "    \n",
    "    ax.grid(True)\n",
    "    plt.legend(loc='upper right')\n",
    "    \n",
    "    plt.xlim(0,200)\n",
    "    #for i in range(num_components):\n",
    "    #    ax.annotate(r\"%s%%\" % ((str(vals[i]*100)[:4])), (ind[i]+0.2, vals[i]), va=\"bottom\", ha=\"center\", fontsize=12)\n",
    " \n",
    "    ax.xaxis.set_tick_params(width=1)\n",
    "    ax.yaxis.set_tick_params(width=2, length=12)\n",
    "    ax.axvline(25, linestyle='dashed', color='black')\n",
    "    ax.axhline(0.8, linestyle='dashed', color='black')\n",
    " \n",
    "    ax.set_facecolor(\"lightgray\")\n",
    "    ax.set_xlabel(\"Principal Component\")\n",
    "    ax.set_ylabel(\"Variance Explained (%)\")\n",
    "    plt.title('Explained Variance Per Principal Component')\n",
    "    plt.savefig('./plots/pca_scalers.png')\n",
    "    plt.show() "
   ]
  },
  {
   "cell_type": "code",
   "execution_count": 66,
   "metadata": {},
   "outputs": [],
   "source": [
    "#scree_plot(pca1,pca2,pca3)"
   ]
  },
  {
   "cell_type": "code",
   "execution_count": 67,
   "metadata": {},
   "outputs": [],
   "source": [
    "#Image('./plots/pca_scalers.png')"
   ]
  },
  {
   "cell_type": "code",
   "execution_count": 68,
   "metadata": {},
   "outputs": [],
   "source": [
    "# Apply feature scaling to the general population demographics data.\n",
    "\n",
    "\n",
    "def scree_plot_bars(pca):\n",
    "    # Creates a scree plot associated with the principal components. Modified from class example. \n",
    "\n",
    "    num_components = len(pca.explained_variance_ratio_)\n",
    "    ind = np.arange(num_components)\n",
    "    vals = pca.explained_variance_ratio_\n",
    "    cumvals = np.cumsum(vals)\n",
    "    \n",
    "    plt.figure(figsize=(10, 6))\n",
    "    ax = plt.subplot(111)\n",
    "  \n",
    "    ax.bar(ind, vals)\n",
    "    ax.plot(ind, cumvals, label = 'RobustScaler')\n",
    "   \n",
    "    ax.grid(True)\n",
    "    plt.legend(loc='upper right')\n",
    "    \n",
    "    plt.xlim(0,21)\n",
    "    for i in range(num_components):\n",
    "        ax.annotate(r\"%s%%\" % ((str(vals[i]*100)[:4])), (ind[i]+0.2, vals[i]), va=\"bottom\", ha=\"center\", fontsize=10)\n",
    " \n",
    "    ax.xaxis.set_tick_params(width=1)\n",
    "    ax.yaxis.set_tick_params(width=2, length=12)\n",
    " \n",
    "    ax.set_xlabel(\"Principal Component\")\n",
    "    ax.set_ylabel(\"Variance Explained (%)\")\n",
    "    plt.title('Explained Variance Per Principal Component')\n",
    "    plt.xticks(np.arange(0,21,step =2))\n",
    "    plt.savefig('./plots/pca_bars.png')\n",
    "    plt.show() "
   ]
  },
  {
   "cell_type": "code",
   "execution_count": 69,
   "metadata": {},
   "outputs": [],
   "source": [
    "#scree_plot_bars(azdiasXPCA) \n",
    "\n",
    "\n",
    "###Image('./plots/pca_bars.png')"
   ]
  },
  {
   "cell_type": "code",
   "execution_count": 70,
   "metadata": {},
   "outputs": [],
   "source": [
    "\n",
    "def explainedVariance(df,target):\n",
    "    start = timer()\n",
    "    # function will determine the number of components required to achieve target variance explained\n",
    "    pca = PCA() \n",
    "    pca.fit(df)\n",
    "    cumsum = np.cumsum(pca.explained_variance_ratio_)\n",
    "    d = np.argmax(cumsum >= target ) + 1\n",
    "    end = timer() \n",
    "    print(f\"Executed in {(end - start)/60:0.1f} minutes\")\n",
    "    return d"
   ]
  },
  {
   "cell_type": "code",
   "execution_count": 71,
   "metadata": {},
   "outputs": [
    {
     "name": "stdout",
     "output_type": "stream",
     "text": [
      "Executed in 2.9 minutes\n",
      "Number of components to achieve target explained variance of 0.8% is: 25\n"
     ]
    }
   ],
   "source": [
    "target = 0.8 # The amount of variance to be comprehended\n",
    "n_components = explainedVariance(azdiasScaled,target)\n",
    "print (\"Number of components to achieve target explained variance of {}% is: {}\".format(target, n_components))"
   ]
  },
  {
   "cell_type": "markdown",
   "metadata": {},
   "source": [
    "### Discussion 2.1: Apply Feature Scaling\n",
    "An imputer was used to fill in for missing values. The 'most frequent' strategy was used. \n",
    "For feature scaling, 3 different scalers were applied: standard, minmax and robust. Robust gave a significantly better result - with 25 principle components, the amount was variation explained went from 50% for standard scaler to 80% for the robust scaler. "
   ]
  },
  {
   "cell_type": "markdown",
   "metadata": {},
   "source": [
    "### Step 2.2: Perform Dimensionality Reduction\n",
    "\n",
    "On your scaled data, you are now ready to apply dimensionality reduction techniques.\n",
    "\n",
    "- Use sklearn's [PCA](http://scikit-learn.org/stable/modules/generated/sklearn.decomposition.PCA.html) class to apply principal component analysis on the data, thus finding the vectors of maximal variance in the data. To start, you should not set any parameters (so all components are computed) or set a number of components that is at least half the number of features (so there's enough features to see the general trend in variability).\n",
    "- Check out the ratio of variance explained by each principal component as well as the cumulative variance explained. Try plotting the cumulative or sequential values using matplotlib's [`plot()`](https://matplotlib.org/api/_as_gen/matplotlib.pyplot.plot.html) function. Based on what you find, select a value for the number of transformed features you'll retain for the clustering part of the project.\n",
    "- Once you've made a choice for the number of components to keep, make sure you re-fit a PCA instance to perform the decided-on transformation."
   ]
  },
  {
   "cell_type": "code",
   "execution_count": 72,
   "metadata": {},
   "outputs": [],
   "source": [
    "# Investigate the variance accounted for by each principal component.\n",
    "# See above"
   ]
  },
  {
   "cell_type": "code",
   "execution_count": 73,
   "metadata": {},
   "outputs": [],
   "source": [
    "# Re-apply PCA to the data while selecting for number of components to retain.\n",
    "# See above\n"
   ]
  },
  {
   "cell_type": "markdown",
   "metadata": {},
   "source": [
    "### Discussion 2.2: Perform Dimensionality Reduction\n",
    "\n",
    "Different scalers were analyzed: Standard, MinMax and Robust. It was found that the Robust scaler achieved the highest explained variance with the fewest components. For a target expalained variance of 80% the Robust model needed only 25 components. For comparison, the standard scaler only explained 45% of the variance with 25 components. \n",
    "\n",
    "Once the Robust scaler was selected, the PCA scree plot was generated. "
   ]
  },
  {
   "cell_type": "markdown",
   "metadata": {},
   "source": [
    "### Step 2.3: Interpret Principal Components\n",
    "\n",
    "Now that we have our transformed principal components, it's a nice idea to check out the weight of each variable on the first few components to see if they can be interpreted in some fashion.\n",
    "\n",
    "As a reminder, each principal component is a unit vector that points in the direction of highest variance (after accounting for the variance captured by earlier principal components). The further a weight is from zero, the more the principal component is in the direction of the corresponding feature. If two features have large weights of the same sign (both positive or both negative), then increases in one tend expect to be associated with increases in the other. To contrast, features with different signs can be expected to show a negative correlation: increases in one variable should result in a decrease in the other.\n",
    "\n",
    "- To investigate the features, you should map each weight to their corresponding feature name, then sort the features according to weight. The most interesting features for each principal component, then, will be those at the beginning and end of the sorted list. Use the data dictionary document to help you understand these most prominent features, their relationships, and what a positive or negative value on the principal component might indicate.\n",
    "- You should investigate and interpret feature associations from the first three principal components in this substep. To help facilitate this, you should write a function that you can call at any time to print the sorted list of feature weights, for the *i*-th principal component. This might come in handy in the next step of the project, when you interpret the tendencies of the discovered clusters."
   ]
  },
  {
   "cell_type": "code",
   "execution_count": 74,
   "metadata": {},
   "outputs": [],
   "source": [
    "# Map weights for the first principal component to corresponding feature names\n",
    "# and then print the linked values, sorted by weight.\n",
    "def pca_weights(pca, x):\n",
    "    df = pd.DataFrame(pca.components_, columns=list(azdiasCleaned.columns))\n",
    "    weights = df.iloc[x].sort_values(ascending=False)\n",
    "    return (np.round(weights,3))"
   ]
  },
  {
   "cell_type": "code",
   "execution_count": null,
   "metadata": {},
   "outputs": [],
   "source": []
  },
  {
   "cell_type": "code",
   "execution_count": 75,
   "metadata": {},
   "outputs": [
    {
     "data": {
      "text/plain": [
       "MIN_GEBAEUDEJAHR      0.925\n",
       "PLZ8_ANTG1            0.077\n",
       "KONSUMNAEHE           0.070\n",
       "PLZ8_GBZ              0.065\n",
       "GEBAEUDETYP_RASTER    0.054\n",
       "Name: 0, dtype: float64"
      ]
     },
     "metadata": {},
     "output_type": "display_data"
    },
    {
     "data": {
      "text/plain": [
       "ORTSGR_KLS9           -0.076\n",
       "PLZ8_ANTG4            -0.079\n",
       "PLZ8_ANTG3            -0.085\n",
       "FINANZ_HAUSBAUER      -0.091\n",
       "ANZ_HAUSHALTE_AKTIV   -0.170\n",
       "Name: 0, dtype: float64"
      ]
     },
     "metadata": {},
     "output_type": "display_data"
    }
   ],
   "source": [
    "pca_weights_0 = pca_weights(azdiasPCA,0)\n",
    "display (pca_weights_0.head(), pca_weights_0.tail())"
   ]
  },
  {
   "cell_type": "code",
   "execution_count": 76,
   "metadata": {},
   "outputs": [
    {
     "data": {
      "text/plain": [
       "ANZ_HAUSHALTE_AKTIV    0.418\n",
       "MIN_GEBAEUDEJAHR       0.321\n",
       "PLZ8_ANTG3             0.244\n",
       "PLZ8_BAUMAX            0.171\n",
       "PLZ8_ANTG4             0.170\n",
       "Name: 1, dtype: float64"
      ]
     },
     "metadata": {},
     "output_type": "display_data"
    },
    {
     "data": {
      "text/plain": [
       "ANZ_PERSONEN     -0.146\n",
       "KBA05_GBZ        -0.154\n",
       "PLZ8_GBZ         -0.225\n",
       "PLZ8_ANTG1       -0.248\n",
       "WOHNDAUER_2008   -0.266\n",
       "Name: 1, dtype: float64"
      ]
     },
     "metadata": {},
     "output_type": "display_data"
    }
   ],
   "source": [
    "# Map weights for the second principal component to corresponding feature names\n",
    "pca_weights_1 = pca_weights(azdiasPCA,1)\n",
    "display (pca_weights_1.head(), pca_weights_1.tail())"
   ]
  },
  {
   "cell_type": "code",
   "execution_count": 77,
   "metadata": {},
   "outputs": [
    {
     "data": {
      "text/plain": [
       "WOHNDAUER_2008          0.671\n",
       "ANZ_HAUSHALTE_AKTIV     0.247\n",
       "ALTERSKATEGORIE_GROB    0.150\n",
       "MIN_GEBAEUDEJAHR        0.150\n",
       "SEMIO_ERL               0.138\n",
       "Name: 2, dtype: float64"
      ]
     },
     "metadata": {},
     "output_type": "display_data"
    },
    {
     "data": {
      "text/plain": [
       "FINANZ_SPARER   -0.139\n",
       "SEMIO_TRADV     -0.154\n",
       "SEMIO_PFLICHT   -0.165\n",
       "SEMIO_RAT       -0.183\n",
       "SEMIO_REL       -0.268\n",
       "Name: 2, dtype: float64"
      ]
     },
     "metadata": {},
     "output_type": "display_data"
    }
   ],
   "source": [
    "# Map weights for the third principal component to corresponding feature names\n",
    "pca_weights_2 = pca_weights(azdiasPCA,2)\n",
    "display (pca_weights_2.head(), pca_weights_2.tail())"
   ]
  },
  {
   "cell_type": "markdown",
   "metadata": {},
   "source": [
    "### Discussion 2.3: Interpret Principal Components\n",
    "\n",
    "#### Principle Component 0 Positive Correlation\n",
    "- MIN_GEBAEUDEJAHR - First year building was mentioned in database \n",
    "- PLZ8_ANTG1 - Number of 1-2 family homes in PLZ8 region \n",
    "- KONSUMNAEHE - Distance from building to point of sale \n",
    "- PLZ8_GBZ - number of buildings in PLZ8 region \n",
    "- GEBAEUDETYP_RASTER - Ratio of residential to commercial activity \n",
    "\n",
    "#### Principle Component 0 Negative Correlation\n",
    "- ANZ_HAUSHALTE_AKTIV - Number of households in the building \n",
    "- PLZ8_ANTG4 Number of 10+ family houses in the PLZ8\n",
    "- PLZ8_ANTG3 Number of 6-10 family houses in PLZ8 \n",
    "- WOHNDAUER_2008 - Length of residence (>greater than 10years) \n",
    "\n",
    "#### PCA Summary\n",
    "The strongest message is that smaller households with single family dwellings are typical customers. "
   ]
  },
  {
   "cell_type": "markdown",
   "metadata": {},
   "source": [
    "## Step 3: Clustering\n",
    "\n",
    "### Step 3.1: Apply Clustering to General Population\n",
    "\n",
    "You've assessed and cleaned the demographics data, then scaled and transformed them. Now, it's time to see how the data clusters in the principal components space. In this substep, you will apply k-means clustering to the dataset and use the average within-cluster distances from each point to their assigned cluster's centroid to decide on a number of clusters to keep.\n",
    "\n",
    "- Use sklearn's [KMeans](http://scikit-learn.org/stable/modules/generated/sklearn.cluster.KMeans.html#sklearn.cluster.KMeans) class to perform k-means clustering on the PCA-transformed data.\n",
    "- Then, compute the average difference from each point to its assigned cluster's center. **Hint**: The KMeans object's `.score()` method might be useful here, but note that in sklearn, scores tend to be defined so that larger is better. Try applying it to a small, toy dataset, or use an internet search to help your understanding.\n",
    "- Perform the above two steps for a number of different cluster counts. You can then see how the average distance decreases with an increasing number of clusters. However, each additional cluster provides a smaller net benefit. Use this fact to select a final number of clusters in which to group the data. **Warning**: because of the large size of the dataset, it can take a long time for the algorithm to resolve. The more clusters to fit, the longer the algorithm will take. You should test for cluster counts through at least 10 clusters to get the full picture, but you shouldn't need to test for a number of clusters above about 30.\n",
    "- Once you've selected a final number of clusters to use, re-fit a KMeans instance to perform the clustering operation. Make sure that you also obtain the cluster assignments for the general demographics data, since you'll be using them in the final Step 3.3."
   ]
  },
  {
   "cell_type": "code",
   "execution_count": 78,
   "metadata": {},
   "outputs": [],
   "source": [
    "#azdias_clean, pca10, Xpca10 = restart()"
   ]
  },
  {
   "cell_type": "code",
   "execution_count": 79,
   "metadata": {},
   "outputs": [],
   "source": [
    "# Over a number of different cluster counts...\n",
    "\n",
    "\n",
    "    # run k-means clustering on the data and...\n",
    "    \n",
    "    \n",
    "    # compute the average within-cluster distances.\n",
    "    \n",
    "    "
   ]
  },
  {
   "cell_type": "code",
   "execution_count": 80,
   "metadata": {},
   "outputs": [],
   "source": [
    "def scree_KMeans_plot(data):\n",
    "    scores = [] \n",
    "    k_values = []\n",
    "    start = timer()\n",
    "    for k in range(1,15):\n",
    "        k_values.append(k)\n",
    "        kmeans = KMeans(n_clusters=k)\n",
    "        model = kmeans.fit(data)\n",
    "        labels = kmeans.predict(data)\n",
    "        score = -(kmeans.score(data))\n",
    "        scores.append(score)\n",
    "      \n",
    "    plt.plot(k_values, scores, marker = 'o')\n",
    "    plt.ylabel('K-Cluster Score')\n",
    "    plt.xlabel('k value')\n",
    "    plt.title('Number of Clusters vs KMeans Score')\n",
    "    plt.savefig('Cluster_vs_score_plot.png')\n",
    "    end = timer() \n",
    "    print(f\"\\nFunction in {(end - start)/60:0.1f} minutes\")\n",
    "    plt.show()"
   ]
  },
  {
   "cell_type": "code",
   "execution_count": 81,
   "metadata": {},
   "outputs": [],
   "source": [
    "# Investigate the change in within-cluster distance across number of clusters.\n",
    "\n",
    "#scree_KMeans_plot(azdiasXPCA)"
   ]
  },
  {
   "cell_type": "code",
   "execution_count": 82,
   "metadata": {},
   "outputs": [],
   "source": [
    "#display 'Cluster_vs_score_plot.png'\n",
    "#Image('Cluster_vs_score_plot.png')"
   ]
  },
  {
   "cell_type": "code",
   "execution_count": 83,
   "metadata": {},
   "outputs": [],
   "source": [
    "def silhouetteScore(df): \n",
    "    range_n_clusters = list(range(2,7))\n",
    "    for n_clusters in range_n_clusters:\n",
    "        kmeans = KMeans(n_clusters=n_clusters, random_state=10)\n",
    "        cluster_labels = kmeans.fit_predict(df)\n",
    "        score = silhouette_score(df,cluster_labels)\n",
    "        print(\"For n_clusters = {}, silhouette score is {}\".format(n_clusters, score))"
   ]
  },
  {
   "cell_type": "code",
   "execution_count": 84,
   "metadata": {},
   "outputs": [],
   "source": [
    "# Takes a long time so is commented out\n",
    "#silhouetteScore(azdiasScaled)"
   ]
  },
  {
   "cell_type": "code",
   "execution_count": 85,
   "metadata": {},
   "outputs": [],
   "source": [
    "# Function below is available if system memory becomes an issue: \n",
    "\n",
    "def azdiasCleanup():\n",
    "    # release dataframes to free memory: \n",
    "    try: \n",
    "        del azdiasCleaned \n",
    "    except NameError: \n",
    "        print (\"dataframe azdiasCleaned does not exist\")\n",
    "    try: \n",
    "        del azdias \n",
    "    except NameError: \n",
    "        print (\"dataframe azdias does not exist\")\n",
    "    try: \n",
    "        del azdias_raw \n",
    "    except NameError: \n",
    "        print (\"dataframe azdias_raw does not exist\")\n",
    "    print (\"\\ncollecting garbage\")\n",
    "    gc.collect()\n"
   ]
  },
  {
   "cell_type": "code",
   "execution_count": 86,
   "metadata": {},
   "outputs": [],
   "source": [
    "#azdiasCleanup()"
   ]
  },
  {
   "cell_type": "code",
   "execution_count": 87,
   "metadata": {},
   "outputs": [],
   "source": [
    "#silhouetteScore(azdiasXPCA)"
   ]
  },
  {
   "cell_type": "code",
   "execution_count": 88,
   "metadata": {},
   "outputs": [
    {
     "name": "stdout",
     "output_type": "stream",
     "text": [
      "Function executed in 2.6 minutes\n"
     ]
    }
   ],
   "source": [
    "# Re-fit the k-means model with the selected number of clusters and obtain\n",
    "# cluster predictions for the general population demographics data.\n",
    "start = timer()\n",
    "kmeans = KMeans(n_clusters=10)\n",
    "azdiasLabels = kmeans.fit_predict(azdiasXPCA)\n",
    "end = timer() \n",
    "print(f\"Function executed in {(end - start)/60:0.1f} minutes\")"
   ]
  },
  {
   "cell_type": "code",
   "execution_count": 89,
   "metadata": {},
   "outputs": [
    {
     "name": "stdout",
     "output_type": "stream",
     "text": [
      "(797961,)\n",
      "[8 7 2 3 7 7 7 1 4 0 5 5 4 4 4 4 2 8 4 4]\n"
     ]
    },
    {
     "data": {
      "text/plain": [
       "{0, 1, 2, 3, 4, 5, 6, 7, 8, 9}"
      ]
     },
     "metadata": {},
     "output_type": "display_data"
    }
   ],
   "source": [
    "# Checking the cluster labels \n",
    "print (azdiasLabels.shape)\n",
    "print (azdiasLabels[:20])\n",
    "display (set(azdiasLabels))\n",
    "#print (\"max: \",azdiasLabels.max(), \"min: \",azdiasLabels.min())"
   ]
  },
  {
   "cell_type": "markdown",
   "metadata": {},
   "source": [
    "### Discussion 3.1: Apply Clustering to General Population\n",
    "\n",
    "A scree plot was used to determine the number of clusters to use with KMeans. 10 was selected as there are only minor improvements in the score with larger numbers of clusters. \n",
    "\n",
    "A function was written to calculate the silouette score. The silouette scores were similar to the standard results."
   ]
  },
  {
   "cell_type": "markdown",
   "metadata": {},
   "source": [
    "### Step 3.2: Apply All Steps to the Customer Data\n",
    "\n",
    "Now that you have clusters and cluster centers for the general population, it's time to see how the customer data maps on to those clusters. Take care to not confuse this for re-fitting all of the models to the customer data. Instead, you're going to use the fits from the general population to clean, transform, and cluster the customer data. In the last step of the project, you will interpret how the general population fits apply to the customer data.\n",
    "\n",
    "- Don't forget when loading in the customers data, that it is semicolon (`;`) delimited.\n",
    "- Apply the same feature wrangling, selection, and engineering steps to the customer demographics using the `clean_data()` function you created earlier. (You can assume that the customer demographics data has similar meaning behind missing data patterns as the general demographics data.)\n",
    "- Use the sklearn objects from the general demographics data, and apply their transformations to the customers data. That is, you should not be using a `.fit()` or `.fit_transform()` method to re-fit the old objects, nor should you be creating new sklearn objects! Carry the data through the feature scaling, PCA, and clustering steps, obtaining cluster assignments for all of the data in the customer demographics data."
   ]
  },
  {
   "cell_type": "code",
   "execution_count": 90,
   "metadata": {},
   "outputs": [],
   "source": [
    "# Load in the customer demographics data.\n",
    "# Load in the general demographics and feature summary file. \n",
    "def loadCustomerData(): \n",
    "    print (\"\\nLoading Data....\")\n",
    "    missing_values_azdias = ['-1',\"''\",'X','XX']\n",
    "    customer = pd.read_csv('Udacity_CUSTOMERS_Subset.csv', delimiter = ';', na_values = missing_values_azdias)\n",
    "    print (\"Data loaded.\")\n",
    "    return customer"
   ]
  },
  {
   "cell_type": "code",
   "execution_count": 91,
   "metadata": {},
   "outputs": [
    {
     "name": "stdout",
     "output_type": "stream",
     "text": [
      "\n",
      "Loading Data....\n",
      "Data loaded.\n"
     ]
    }
   ],
   "source": [
    "customer = loadCustomerData()"
   ]
  },
  {
   "cell_type": "code",
   "execution_count": 92,
   "metadata": {
    "scrolled": true
   },
   "outputs": [
    {
     "name": "stdout",
     "output_type": "stream",
     "text": [
      "\n",
      "Converting feat_info missing value strings to float....\n",
      "----------------------------------------\n",
      "FINANZ_MINIMALIST 0    5\n",
      "1    5\n",
      "2    5\n",
      "3    5\n",
      "4    3\n",
      "Name: FINANZ_MINIMALIST, dtype: int64\n",
      "\n",
      "Replacing dataframe missing values with np.nan...\n",
      "(191652, 85)\n",
      "\n",
      "Counting the number of missing values per column....\n"
     ]
    },
    {
     "data": {
      "text/html": [
       "<div>\n",
       "<style scoped>\n",
       "    .dataframe tbody tr th:only-of-type {\n",
       "        vertical-align: middle;\n",
       "    }\n",
       "\n",
       "    .dataframe tbody tr th {\n",
       "        vertical-align: top;\n",
       "    }\n",
       "\n",
       "    .dataframe thead th {\n",
       "        text-align: right;\n",
       "    }\n",
       "</style>\n",
       "<table border=\"1\" class=\"dataframe\">\n",
       "  <thead>\n",
       "    <tr style=\"text-align: right;\">\n",
       "      <th></th>\n",
       "      <th>Column Name</th>\n",
       "      <th>Count_NaN</th>\n",
       "    </tr>\n",
       "  </thead>\n",
       "  <tbody>\n",
       "    <tr>\n",
       "      <th>40</th>\n",
       "      <td>TITEL_KZ</td>\n",
       "      <td>189340</td>\n",
       "    </tr>\n",
       "    <tr>\n",
       "      <th>47</th>\n",
       "      <td>KK_KUNDENTYP</td>\n",
       "      <td>111937</td>\n",
       "    </tr>\n",
       "    <tr>\n",
       "      <th>64</th>\n",
       "      <td>KBA05_BAUMAX</td>\n",
       "      <td>109535</td>\n",
       "    </tr>\n",
       "    <tr>\n",
       "      <th>0</th>\n",
       "      <td>AGER_TYP</td>\n",
       "      <td>96738</td>\n",
       "    </tr>\n",
       "    <tr>\n",
       "      <th>11</th>\n",
       "      <td>GEBURTSJAHR</td>\n",
       "      <td>93024</td>\n",
       "    </tr>\n",
       "    <tr>\n",
       "      <th>43</th>\n",
       "      <td>ALTER_HH</td>\n",
       "      <td>68747</td>\n",
       "    </tr>\n",
       "    <tr>\n",
       "      <th>73</th>\n",
       "      <td>REGIOTYP</td>\n",
       "      <td>60064</td>\n",
       "    </tr>\n",
       "    <tr>\n",
       "      <th>70</th>\n",
       "      <td>KKK</td>\n",
       "      <td>60064</td>\n",
       "    </tr>\n",
       "    <tr>\n",
       "      <th>48</th>\n",
       "      <td>W_KEIT_KIND_HH</td>\n",
       "      <td>56937</td>\n",
       "    </tr>\n",
       "    <tr>\n",
       "      <th>65</th>\n",
       "      <td>KBA05_GBZ</td>\n",
       "      <td>55982</td>\n",
       "    </tr>\n",
       "  </tbody>\n",
       "</table>\n",
       "</div>"
      ],
      "text/plain": [
       "       Column Name  Count_NaN\n",
       "40        TITEL_KZ     189340\n",
       "47    KK_KUNDENTYP     111937\n",
       "64    KBA05_BAUMAX     109535\n",
       "0         AGER_TYP      96738\n",
       "11     GEBURTSJAHR      93024\n",
       "43        ALTER_HH      68747\n",
       "73        REGIOTYP      60064\n",
       "70             KKK      60064\n",
       "48  W_KEIT_KIND_HH      56937\n",
       "65       KBA05_GBZ      55982"
      ]
     },
     "metadata": {},
     "output_type": "display_data"
    },
    {
     "data": {
      "image/png": "[encoded data removed]",
      "text/plain": [
       "<matplotlib.figure.Figure at 0x7fd97f45bc18>"
      ]
     },
     "metadata": {
      "needs_background": "light"
     },
     "output_type": "display_data"
    },
    {
     "name": "stdout",
     "output_type": "stream",
     "text": [
      "\n",
      "Dropping outlier columns from the dataset per limit.....\n",
      "Number of columns in dropped list:  5\n",
      "Before dropping:  (191652, 85)\n",
      "After dropping:  (191652, 80)\n",
      "Columns dropped:  ['AGER_TYP', 'GEBURTSJAHR', 'TITEL_KZ', 'KK_KUNDENTYP', 'KBA05_BAUMAX']\n",
      "(191652, 85)\n",
      "FINANZ_MINIMALIST after columns dropped 0    5\n",
      "1    5\n",
      "2    5\n",
      "3    5\n",
      "4    3\n",
      "Name: FINANZ_MINIMALIST, dtype: int64\n",
      "(191652, 2)\n"
     ]
    },
    {
     "data": {
      "image/png": "[encoded data removed]",
      "text/plain": [
       "<matplotlib.figure.Figure at 0x7fd97f40d908>"
      ]
     },
     "metadata": {
      "needs_background": "light"
     },
     "output_type": "display_data"
    },
    {
     "name": "stdout",
     "output_type": "stream",
     "text": [
      "\n",
      "Dropping outlier rows from the dataset per limit.....\n",
      "\n",
      "Before dropping:  (191652, 80)\n",
      "Number of rows in dropped list:  49943\n",
      "After dropping:  (141709, 80)\n",
      "Percent of rows dropped: 26.059211487487737%\n",
      "After dropping rows:  (141709, 80)\n",
      "\n",
      "Number of multi categorical variables: 13 and Number of binary categorical variables: 5\n",
      "\n",
      "\n",
      "Before Replacement:  ['W' 'O']\n",
      "After Replacement:  [ 1.  0.]\n",
      "\n",
      "before dummies (141709, 80)\n",
      "after dummy column insertion (141709, 194)\n",
      "adding new variables.. (141709, 194)\n",
      "Shape after new variables:  (141709, 198)\n",
      "   CAMEO_INTL_2015  CAMEO_Wealth  CAMEO_Lifestage\n",
      "0             13.0           1.0              3.0\n",
      "2             34.0           3.0              4.0\n",
      "3             24.0           2.0              4.0\n",
      "4             41.0           4.0              1.0\n",
      "5             34.0           3.0              4.0\n",
      "   PRAEGENDE_JUGENDJAHRE  Generation  Movement\n",
      "0                    4.0        50.0       2.0\n",
      "2                    4.0        50.0       2.0\n",
      "3                    1.0        40.0       1.0\n",
      "4                    8.0        70.0       1.0\n",
      "5                    4.0        50.0       2.0\n",
      "Starting Imputer Shape:  (141709, 198)\n",
      "\n",
      "The total number of missing values before imputing is: 149947 or 0.5%.        .\n",
      "Final Cleaned, Imputed Shape:  (141709, 198)\n",
      "\n",
      " Imputing completed.\n",
      "\n",
      "Before excluding columns (141709, 198)\n",
      "After excluding columns (141709, 196)\n",
      "FINANZ_MINIMALIST after columns excluded 0    5.0\n",
      "2    5.0\n",
      "3    5.0\n",
      "4    3.0\n",
      "5    5.0\n",
      "Name: FINANZ_MINIMALIST, dtype: float64\n",
      "\n",
      "End of cleaning. \n",
      "\n",
      "Cleaned data in 11 seconds\n"
     ]
    }
   ],
   "source": [
    "# Apply preprocessing, feature transformation, and clustering from the general\n",
    "# demographics onto the customer data, obtaining cluster predictions for the\n",
    "# customer demographics data.\n",
    "\n",
    "customerCleaned = clean_data1(customer,75000) "
   ]
  },
  {
   "cell_type": "code",
   "execution_count": 93,
   "metadata": {},
   "outputs": [],
   "source": [
    "def matchColumns(df1,df2) :\n",
    "    # This function matches the features/columns in 2 datasets: \n",
    "     print (\"Shape of df1: \",df1.shape, \"Shape of df2: \",df2.shape)\n",
    "     df1_unique_columns = list(set(df1.columns) - set(df2.columns))\n",
    "     print (\"Unique df1 columns:): \",  df1_unique_columns)\n",
    "     df2_unique_columns = list(set(df2.columns) - set(df1.columns))\n",
    "     print (\"Unmatched columns1 are (missing in azdias): \",df2_unique_columns)\n",
    "     if set(df1_unique_columns).issubset(df1.columns):\n",
    "        print(\"\\nNumber of Columns in df1 database: \",df1.shape[1]) \n",
    "        print (\"Dropping columns in df1...\")\n",
    "        df1 = df1.drop(df1_unique_columns, axis = 1)\n",
    "     if set(df2_unique_columns).issubset(df2.columns):\n",
    "        print(\"Number of Columns in df2 database: \",df2.shape[1])\n",
    "        print (\"Dropping columns {} in df2 (customer)...\".format(df2_unique_columns))\n",
    "        df2 = df2.drop(df2_unique_columns, axis = 1)\n",
    "     print (\"New Shape of df1: \",df1.shape, \"New Shape of df2: \",df2.shape)\n",
    "         \n",
    "     check_unmatchedColumns = list(set(df1.columns) - set(df2.columns))\n",
    "     print (\"Post Unmatched columns are: \",check_unmatchedColumns)\n",
    "     return df1,df2"
   ]
  },
  {
   "cell_type": "code",
   "execution_count": 94,
   "metadata": {},
   "outputs": [
    {
     "name": "stdout",
     "output_type": "stream",
     "text": [
      "Shape of df1:  (797961, 196) Shape of df2:  (141709, 196)\n",
      "Unique df1 columns:):  ['GEBAEUDETYP_5.0']\n",
      "Unmatched columns1 are (missing in azdias):  ['ALTER_HH']\n",
      "\n",
      "Number of Columns in df1 database:  196\n",
      "Dropping columns in df1...\n",
      "Number of Columns in df2 database:  196\n",
      "Dropping columns ['ALTER_HH'] in df2 (customer)...\n",
      "New Shape of df1:  (797961, 195) New Shape of df2:  (141709, 195)\n",
      "Post Unmatched columns are:  []\n"
     ]
    }
   ],
   "source": [
    "azdiasMatched, customerMatched = matchColumns(azdiasCleaned, customerCleaned)"
   ]
  },
  {
   "cell_type": "code",
   "execution_count": 95,
   "metadata": {},
   "outputs": [
    {
     "name": "stdout",
     "output_type": "stream",
     "text": [
      "Robust Scaler applied\n",
      "Executed in 0.7 minutes\n"
     ]
    }
   ],
   "source": [
    "scaler, azdiasScaled = do_standardized(azdiasMatched,3)\n"
   ]
  },
  {
   "cell_type": "code",
   "execution_count": 96,
   "metadata": {},
   "outputs": [
    {
     "name": "stdout",
     "output_type": "stream",
     "text": [
      "Robust Scaler applied\n",
      "Executed in 0.1 minutes\n"
     ]
    }
   ],
   "source": [
    "customer_scaler, customerScaled = do_standardized(customerMatched,3)"
   ]
  },
  {
   "cell_type": "code",
   "execution_count": 97,
   "metadata": {},
   "outputs": [
    {
     "name": "stdout",
     "output_type": "stream",
     "text": [
      "Executed in 0.8 minutes\n"
     ]
    },
    {
     "data": {
      "text/plain": [
       "(797961, 25)"
      ]
     },
     "execution_count": 97,
     "metadata": {},
     "output_type": "execute_result"
    }
   ],
   "source": [
    "# Redo azdias PCA with matched columns\n",
    "azdiasPCA_matched,azdiasXPCA_matched = do_pca(25,azdiasScaled)\n",
    "azdiasXPCA_matched.shape"
   ]
  },
  {
   "cell_type": "code",
   "execution_count": 98,
   "metadata": {},
   "outputs": [
    {
     "name": "stdout",
     "output_type": "stream",
     "text": [
      "numpy (797961,)\n",
      "Function in 3.0 minutes\n"
     ]
    }
   ],
   "source": [
    " \n",
    "start = timer()\n",
    "# Redo KMeans with matched columns \n",
    "kmeans = KMeans(n_clusters=10, init='random',\n",
    "    n_init=10, max_iter=200)\n",
    "azdiasLabels = kmeans.fit_predict(azdiasXPCA_matched)\n",
    "oftype(azdiasLabels)\n",
    "end = timer()\n",
    "pickle.dump(azdiasLabels, open('azdiasLabels', 'wb'))\n",
    "print(f\"Function in {(end - start)/60:0.1f} minutes\")\n"
   ]
  },
  {
   "cell_type": "code",
   "execution_count": 99,
   "metadata": {},
   "outputs": [],
   "source": [
    "\n",
    "def repeats(df):\n",
    "    row = []\n",
    "    start = timer()\n",
    "    for repetition in range(3):\n",
    "        df1 = pd.DataFrame( columns = ['Cluster', 'Percent', 'Trial']) \n",
    "        i=0 \n",
    "        kmeans = KMeans(n_clusters=2, init='random',n_init=10, max_iter=200)\n",
    "        Labels = kmeans.fit_predict(df)\n",
    "        clusterDict = collections.Counter(Labels)\n",
    "        customerClusterSum = sum(clusterDict.values())\n",
    "        for key,value in sorted(clusterDict.items()):\n",
    "            \n",
    "            percent = np.round(100*value/customerClusterSum,2)\n",
    "            print (key, ' ->',percent,'%')\n",
    "            row = [key, percent,i]\n",
    "            df1 = df1.loc[i] = [key,percent,i]\n",
    "            i=i+1\n",
    "\n",
    "                                   \n",
    "    end = timer() \n",
    "    print(f\"Execution in {(end - start)/60:0.1f} minutes\")\n",
    "    return df1\n",
    "        \n",
    "      "
   ]
  },
  {
   "cell_type": "code",
   "execution_count": 100,
   "metadata": {},
   "outputs": [],
   "source": [
    "#df1 = repeats(azdiasXPCA)\n"
   ]
  },
  {
   "cell_type": "code",
   "execution_count": 101,
   "metadata": {},
   "outputs": [
    {
     "data": {
      "text/plain": [
       "\"  \\nfig, ax = plt.subplots(figsize=(10,4))\\nsns.barplot(ax=ax, x=df1['Cluster'], y = df1['Percent', hue=df1.Percent)\\n#sns.barplot(ax=ax, x=customerProportions.Cluster, y = customerProportions.Proportion, hue=customerProportions.Population)\\nax.set_xlabel('Cluster')\\nax.set_title('Proportions per cluster for general vs customer populations');  \\n\""
      ]
     },
     "execution_count": 101,
     "metadata": {},
     "output_type": "execute_result"
    }
   ],
   "source": [
    "'''  \n",
    "fig, ax = plt.subplots(figsize=(10,4))\n",
    "sns.barplot(ax=ax, x=df1['Cluster'], y = df1['Percent', hue=df1.Percent)\n",
    "#sns.barplot(ax=ax, x=customerProportions.Cluster, y = customerProportions.Proportion, hue=customerProportions.Population)\n",
    "ax.set_xlabel('Cluster')\n",
    "ax.set_title('Proportions per cluster for general vs customer populations');  \n",
    "'''"
   ]
  },
  {
   "cell_type": "code",
   "execution_count": 102,
   "metadata": {},
   "outputs": [],
   "source": [
    "#azdiasLabels = pickle.load(open(\"azdiasLabels\", 'rb'))"
   ]
  },
  {
   "cell_type": "code",
   "execution_count": 103,
   "metadata": {},
   "outputs": [
    {
     "name": "stdout",
     "output_type": "stream",
     "text": [
      "Counter({7: 138625, 6: 137253, 1: 110008, 5: 104511, 2: 95915, 8: 87083, 4: 49989, 9: 45796, 0: 24489, 3: 4292})\n",
      "0  -> 3.07 %\n",
      "1  -> 13.79 %\n",
      "2  -> 12.02 %\n",
      "3  -> 0.54 %\n",
      "4  -> 6.26 %\n",
      "5  -> 13.1 %\n",
      "6  -> 17.2 %\n",
      "7  -> 17.37 %\n",
      "8  -> 10.91 %\n",
      "9  -> 5.74 %\n"
     ]
    }
   ],
   "source": [
    "# Count number in each cluster for general population \n",
    "clusterDict = collections.Counter(azdiasLabels)\n",
    "print (clusterDict)\n",
    "\n",
    "customerClusterSum = sum(clusterDict.values())\n",
    "\n",
    "for key,value in sorted(clusterDict.items()): \n",
    "    print (key, ' ->',np.round(100*value/customerClusterSum,2),'%')"
   ]
  },
  {
   "cell_type": "code",
   "execution_count": 104,
   "metadata": {},
   "outputs": [
    {
     "data": {
      "text/plain": [
       "(141709, 25)"
      ]
     },
     "execution_count": 104,
     "metadata": {},
     "output_type": "execute_result"
    }
   ],
   "source": [
    "# Get customer PCA components using azdias model \n",
    "customerXPCA = azdiasPCA_matched.transform(customerScaled)\n",
    "customerXPCA.shape\n"
   ]
  },
  {
   "cell_type": "code",
   "execution_count": 105,
   "metadata": {},
   "outputs": [
    {
     "data": {
      "text/plain": [
       "(141709,)"
      ]
     },
     "metadata": {},
     "output_type": "display_data"
    },
    {
     "data": {
      "text/plain": [
       "array([7, 6, 7, 8, 6, 7, 7, 3, 4, 5, 2, 4, 6, 2, 2], dtype=int32)"
      ]
     },
     "execution_count": 105,
     "metadata": {},
     "output_type": "execute_result"
    }
   ],
   "source": [
    " \n",
    "# Generate customer cluster labels for PCA components\n",
    "customerLabels = kmeans.predict(customerXPCA)\n",
    "pickle.dump(customerLabels, open('customerLabels', 'wb'))\n",
    "display (customerLabels.shape)\n",
    "customerLabels[:15]\n"
   ]
  },
  {
   "cell_type": "code",
   "execution_count": 106,
   "metadata": {},
   "outputs": [],
   "source": [
    "#Load from previous execution to save time: \n",
    "#customerLabels = pickle.load(open(\"customerLabels\", 'rb'))"
   ]
  },
  {
   "cell_type": "code",
   "execution_count": 107,
   "metadata": {},
   "outputs": [
    {
     "name": "stdout",
     "output_type": "stream",
     "text": [
      "Counter({6: 35354, 7: 31718, 2: 24011, 8: 16350, 9: 11416, 4: 8104, 1: 4301, 5: 4179, 0: 3597, 3: 2679})\n",
      "0  -> 2.54 %\n",
      "1  -> 3.04 %\n",
      "2  -> 16.94 %\n",
      "3  -> 1.89 %\n",
      "4  -> 5.72 %\n",
      "5  -> 2.95 %\n",
      "6  -> 24.95 %\n",
      "7  -> 22.38 %\n",
      "8  -> 11.54 %\n",
      "9  -> 8.06 %\n"
     ]
    }
   ],
   "source": [
    "clusterDict = collections.Counter(customerLabels)\n",
    "print (clusterDict)\n",
    "\n",
    "customerClusterSum = sum(clusterDict.values())\n",
    "\n",
    "for key,value in sorted(clusterDict.items()): \n",
    "    print (key, ' ->',np.round(100*value/customerClusterSum,2),'%')"
   ]
  },
  {
   "cell_type": "code",
   "execution_count": 108,
   "metadata": {},
   "outputs": [
    {
     "name": "stdout",
     "output_type": "stream",
     "text": [
      "(141709, 25)\n",
      "(141709,)\n",
      "{0, 1, 2, 3, 4, 5, 6, 7, 8, 9}\n"
     ]
    }
   ],
   "source": [
    "print (customerXPCA.shape)\n",
    "print (customerLabels.shape)\n",
    "print (set(customerLabels))\n",
    "#scaler = StandardScaler()\n",
    "#print (scaler.inverse_transform(customer_pca.inverse_transform(kmeans.cluster_centers_)))"
   ]
  },
  {
   "cell_type": "markdown",
   "metadata": {},
   "source": [
    "### Step 3.3: Compare Customer Data to Demographics Data\n",
    "\n",
    "At this point, you have clustered data based on demographics of the general population of Germany, and seen how the customer data for a mail-order sales company maps onto those demographic clusters. In this final substep, you will compare the two cluster distributions to see where the strongest customer base for the company is.\n",
    "\n",
    "Consider the proportion of persons in each cluster for the general population, and the proportions for the customers. If we think the company's customer base to be universal, then the cluster assignment proportions should be fairly similar between the two. If there are only particular segments of the population that are interested in the company's products, then we should see a mismatch from one to the other. If there is a higher proportion of persons in a cluster for the customer data compared to the general population (e.g. 5% of persons are assigned to a cluster for the general population, but 15% of the customer data is closest to that cluster's centroid) then that suggests the people in that cluster to be a target audience for the company. On the other hand, the proportion of the data in a cluster being larger in the general population than the customer data (e.g. only 2% of customers closest to a population centroid that captures 6% of the data) suggests that group of persons to be outside of the target demographics.\n",
    "\n",
    "Take a look at the following points in this step:\n",
    "\n",
    "- Compute the proportion of data points in each cluster for the general population and the customer data. Visualizations will be useful here: both for the individual dataset proportions, but also to visualize the ratios in cluster representation between groups. Seaborn's [`countplot()`](https://seaborn.pydata.org/generated/seaborn.countplot.html) or [`barplot()`](https://seaborn.pydata.org/generated/seaborn.barplot.html) function could be handy.\n",
    "  - Recall the analysis you performed in step 1.1.3 of the project, where you separated out certain data points from the dataset if they had more than a specified threshold of missing values. If you found that this group was qualitatively different from the main bulk of the data, you should treat this as an additional data cluster in this analysis. Make sure that you account for the number of data points in this subset, for both the general population and customer datasets, when making your computations!\n",
    "- Which cluster or clusters are overrepresented in the customer dataset compared to the general population? Select at least one such cluster and infer what kind of people might be represented by that cluster. Use the principal component interpretations from step 2.3 or look at additional components to help you make this inference. Alternatively, you can use the `.inverse_transform()` method of the PCA and StandardScaler objects to transform centroids back to the original data space and interpret the retrieved values directly.\n",
    "- Perform a similar investigation for the underrepresented clusters. Which cluster or clusters are underrepresented in the customer dataset compared to the general population, and what kinds of people are typified by these clusters?"
   ]
  },
  {
   "cell_type": "code",
   "execution_count": 109,
   "metadata": {},
   "outputs": [],
   "source": [
    "# Compare the proportion of data in each cluster for the customer data to the\n",
    "# proportion of data in each cluster for the general population.\n",
    "def proportions(df,name): \n",
    "    clusterDict = collections.Counter(df)\n",
    "    clusterSum = sum(clusterDict.values())\n",
    "    for key,value in sorted(clusterDict.items()): \n",
    "        #print (key, ' ->',np.round(100*value/customerClusterSum,2),'%')\n",
    "        clusterDict[key] = np.round(value/clusterSum,3)\n",
    "    clusterDict = pd.DataFrame(list(clusterDict.items()),columns = ['Cluster','Proportion'])\n",
    "    clusterDict['Population'] = name\n",
    "    return clusterDict"
   ]
  },
  {
   "cell_type": "code",
   "execution_count": 110,
   "metadata": {
    "scrolled": true
   },
   "outputs": [
    {
     "data": {
      "text/html": [
       "<div>\n",
       "<style scoped>\n",
       "    .dataframe tbody tr th:only-of-type {\n",
       "        vertical-align: middle;\n",
       "    }\n",
       "\n",
       "    .dataframe tbody tr th {\n",
       "        vertical-align: top;\n",
       "    }\n",
       "\n",
       "    .dataframe thead th {\n",
       "        text-align: right;\n",
       "    }\n",
       "</style>\n",
       "<table border=\"1\" class=\"dataframe\">\n",
       "  <thead>\n",
       "    <tr style=\"text-align: right;\">\n",
       "      <th></th>\n",
       "      <th>Cluster</th>\n",
       "      <th>Proportion</th>\n",
       "      <th>Population</th>\n",
       "    </tr>\n",
       "    <tr>\n",
       "      <th>Cluster</th>\n",
       "      <th></th>\n",
       "      <th></th>\n",
       "      <th></th>\n",
       "    </tr>\n",
       "  </thead>\n",
       "  <tbody>\n",
       "    <tr>\n",
       "      <th>8</th>\n",
       "      <td>8</td>\n",
       "      <td>0.109</td>\n",
       "      <td>General</td>\n",
       "    </tr>\n",
       "    <tr>\n",
       "      <th>2</th>\n",
       "      <td>2</td>\n",
       "      <td>0.120</td>\n",
       "      <td>General</td>\n",
       "    </tr>\n",
       "    <tr>\n",
       "      <th>4</th>\n",
       "      <td>4</td>\n",
       "      <td>0.063</td>\n",
       "      <td>General</td>\n",
       "    </tr>\n",
       "    <tr>\n",
       "      <th>1</th>\n",
       "      <td>1</td>\n",
       "      <td>0.138</td>\n",
       "      <td>General</td>\n",
       "    </tr>\n",
       "    <tr>\n",
       "      <th>7</th>\n",
       "      <td>7</td>\n",
       "      <td>0.174</td>\n",
       "      <td>General</td>\n",
       "    </tr>\n",
       "    <tr>\n",
       "      <th>5</th>\n",
       "      <td>5</td>\n",
       "      <td>0.131</td>\n",
       "      <td>General</td>\n",
       "    </tr>\n",
       "    <tr>\n",
       "      <th>6</th>\n",
       "      <td>6</td>\n",
       "      <td>0.172</td>\n",
       "      <td>General</td>\n",
       "    </tr>\n",
       "    <tr>\n",
       "      <th>0</th>\n",
       "      <td>0</td>\n",
       "      <td>0.031</td>\n",
       "      <td>General</td>\n",
       "    </tr>\n",
       "    <tr>\n",
       "      <th>9</th>\n",
       "      <td>9</td>\n",
       "      <td>0.057</td>\n",
       "      <td>General</td>\n",
       "    </tr>\n",
       "    <tr>\n",
       "      <th>3</th>\n",
       "      <td>3</td>\n",
       "      <td>0.005</td>\n",
       "      <td>General</td>\n",
       "    </tr>\n",
       "    <tr>\n",
       "      <th>6</th>\n",
       "      <td>6</td>\n",
       "      <td>0.249</td>\n",
       "      <td>Customers</td>\n",
       "    </tr>\n",
       "    <tr>\n",
       "      <th>7</th>\n",
       "      <td>7</td>\n",
       "      <td>0.224</td>\n",
       "      <td>Customers</td>\n",
       "    </tr>\n",
       "    <tr>\n",
       "      <th>2</th>\n",
       "      <td>2</td>\n",
       "      <td>0.169</td>\n",
       "      <td>Customers</td>\n",
       "    </tr>\n",
       "    <tr>\n",
       "      <th>9</th>\n",
       "      <td>9</td>\n",
       "      <td>0.081</td>\n",
       "      <td>Customers</td>\n",
       "    </tr>\n",
       "    <tr>\n",
       "      <th>3</th>\n",
       "      <td>3</td>\n",
       "      <td>0.019</td>\n",
       "      <td>Customers</td>\n",
       "    </tr>\n",
       "    <tr>\n",
       "      <th>8</th>\n",
       "      <td>8</td>\n",
       "      <td>0.115</td>\n",
       "      <td>Customers</td>\n",
       "    </tr>\n",
       "    <tr>\n",
       "      <th>4</th>\n",
       "      <td>4</td>\n",
       "      <td>0.057</td>\n",
       "      <td>Customers</td>\n",
       "    </tr>\n",
       "    <tr>\n",
       "      <th>0</th>\n",
       "      <td>0</td>\n",
       "      <td>0.025</td>\n",
       "      <td>Customers</td>\n",
       "    </tr>\n",
       "    <tr>\n",
       "      <th>5</th>\n",
       "      <td>5</td>\n",
       "      <td>0.029</td>\n",
       "      <td>Customers</td>\n",
       "    </tr>\n",
       "    <tr>\n",
       "      <th>1</th>\n",
       "      <td>1</td>\n",
       "      <td>0.030</td>\n",
       "      <td>Customers</td>\n",
       "    </tr>\n",
       "  </tbody>\n",
       "</table>\n",
       "</div>"
      ],
      "text/plain": [
       "        Cluster  Proportion Population\n",
       "Cluster                               \n",
       "8             8       0.109    General\n",
       "2             2       0.120    General\n",
       "4             4       0.063    General\n",
       "1             1       0.138    General\n",
       "7             7       0.174    General\n",
       "5             5       0.131    General\n",
       "6             6       0.172    General\n",
       "0             0       0.031    General\n",
       "9             9       0.057    General\n",
       "3             3       0.005    General\n",
       "6             6       0.249  Customers\n",
       "7             7       0.224  Customers\n",
       "2             2       0.169  Customers\n",
       "9             9       0.081  Customers\n",
       "3             3       0.019  Customers\n",
       "8             8       0.115  Customers\n",
       "4             4       0.057  Customers\n",
       "0             0       0.025  Customers\n",
       "5             5       0.029  Customers\n",
       "1             1       0.030  Customers"
      ]
     },
     "execution_count": 110,
     "metadata": {},
     "output_type": "execute_result"
    }
   ],
   "source": [
    "# Calculating Proportions\n",
    "generalProportions = proportions(azdiasLabels,'General')\n",
    "customerProportions = proportions(customerLabels,'Customers')\n",
    "generalProportions = generalProportions.set_index('Cluster', drop=False)\n",
    "customerProportions = customerProportions.set_index('Cluster',drop=False)\n",
    "customerProportions['Cluster'] =customerProportions['Cluster'].astype(str)\n",
    "customerProportions['Delta'] = (customerProportions['Proportion'] - generalProportions['Proportion'])*100\n",
    "#delta = pd.DataFrame(customerProportions['Proportion'] - generalProportions['Proportion'])\n",
    "customerProportions.sort_values(by='Delta',ascending=False,inplace=True)\n",
    "\n",
    "all = pd.concat([generalProportions, customerProportions],sort=False)\n",
    "all = all.drop(['Delta'],axis=1)\n",
    "all\n"
   ]
  },
  {
   "cell_type": "code",
   "execution_count": 111,
   "metadata": {},
   "outputs": [
    {
     "data": {
      "image/png": "[encoded data removed]",
      "text/plain": [
       "<matplotlib.figure.Figure at 0x7fd9805d3630>"
      ]
     },
     "metadata": {
      "needs_background": "light"
     },
     "output_type": "display_data"
    }
   ],
   "source": [
    "#fig, ax = plt.subplots(2,3, sharex=True,sharey=True,figsize=(14,4),gridspec_kw={'hspace': 0.3})\n",
    "all['Cluster'] =all['Cluster'].astype(str)\n",
    "fig, ax = plt.subplots(figsize=(10,4))\n",
    "sns.barplot(ax=ax, x=all['Cluster'], y = all.Proportion, hue=all.Population)\n",
    "#sns.barplot(ax=ax, x=customerProportions.Cluster, y = customerProportions.Proportion, hue=customerProportions.Population)\n",
    "ax.set_xlabel('Cluster')\n",
    "ax.set_title('Proportions per cluster for general vs customer populations');    \n"
   ]
  },
  {
   "cell_type": "code",
   "execution_count": 112,
   "metadata": {},
   "outputs": [
    {
     "data": {
      "image/png": "[encoded data removed]",
      "text/plain": [
       "<matplotlib.figure.Figure at 0x7fd98023cd68>"
      ]
     },
     "metadata": {
      "needs_background": "light"
     },
     "output_type": "display_data"
    }
   ],
   "source": [
    "#Generating Pareto plot\n",
    "customerProportions.plot(x='Cluster', y='Delta',kind='bar',color='lightblue',grid=True)\n",
    "plt.axhline(0, linestyle='solid', color='blue')\n",
    "plt.suptitle('Pareto of Customer vs General Proportions Difference')\n",
    "plt.title('(+/-) is Customer Over/Under Represented')\n",
    "plt.ylabel = 'Percent Diff'\n",
    "plt.ylim(-12,12)\n",
    "plt.show()"
   ]
  },
  {
   "cell_type": "code",
   "execution_count": 113,
   "metadata": {
    "scrolled": false
   },
   "outputs": [
    {
     "name": "stdout",
     "output_type": "stream",
     "text": [
      "Customers that are over represented come from the below clusters:\n"
     ]
    },
    {
     "data": {
      "text/html": [
       "<div>\n",
       "<style scoped>\n",
       "    .dataframe tbody tr th:only-of-type {\n",
       "        vertical-align: middle;\n",
       "    }\n",
       "\n",
       "    .dataframe tbody tr th {\n",
       "        vertical-align: top;\n",
       "    }\n",
       "\n",
       "    .dataframe thead th {\n",
       "        text-align: right;\n",
       "    }\n",
       "</style>\n",
       "<table border=\"1\" class=\"dataframe\">\n",
       "  <thead>\n",
       "    <tr style=\"text-align: right;\">\n",
       "      <th></th>\n",
       "      <th>Cluster</th>\n",
       "      <th>difference</th>\n",
       "      <th>Customers</th>\n",
       "    </tr>\n",
       "  </thead>\n",
       "  <tbody>\n",
       "    <tr>\n",
       "      <th>1</th>\n",
       "      <td>6</td>\n",
       "      <td>0.077</td>\n",
       "      <td>overRepresented</td>\n",
       "    </tr>\n",
       "    <tr>\n",
       "      <th>0</th>\n",
       "      <td>7</td>\n",
       "      <td>0.050</td>\n",
       "      <td>overRepresented</td>\n",
       "    </tr>\n",
       "    <tr>\n",
       "      <th>6</th>\n",
       "      <td>2</td>\n",
       "      <td>0.049</td>\n",
       "      <td>overRepresented</td>\n",
       "    </tr>\n",
       "    <tr>\n",
       "      <th>7</th>\n",
       "      <td>9</td>\n",
       "      <td>0.024</td>\n",
       "      <td>overRepresented</td>\n",
       "    </tr>\n",
       "    <tr>\n",
       "      <th>3</th>\n",
       "      <td>3</td>\n",
       "      <td>0.014</td>\n",
       "      <td>overRepresented</td>\n",
       "    </tr>\n",
       "    <tr>\n",
       "      <th>2</th>\n",
       "      <td>8</td>\n",
       "      <td>0.006</td>\n",
       "      <td>overRepresented</td>\n",
       "    </tr>\n",
       "  </tbody>\n",
       "</table>\n",
       "</div>"
      ],
      "text/plain": [
       "   Cluster  difference        Customers\n",
       "1        6       0.077  overRepresented\n",
       "0        7       0.050  overRepresented\n",
       "6        2       0.049  overRepresented\n",
       "7        9       0.024  overRepresented\n",
       "3        3       0.014  overRepresented\n",
       "2        8       0.006  overRepresented"
      ]
     },
     "execution_count": 113,
     "metadata": {},
     "output_type": "execute_result"
    }
   ],
   "source": [
    "# What kinds of people are part of a cluster that is overrepresented in the\n",
    "# customer data compared to the general population?\n",
    "generalProportions = proportions(azdiasLabels,'General')\n",
    "customerProportions = proportions(customerLabels,'Customers')\n",
    "all = pd.concat([generalProportions, customerProportions],sort=True)\n",
    "\n",
    "all = all.sort_values(by=['Cluster','Population'],ascending = (True,False))\n",
    "all['difference'] = all.groupby(['Cluster'])['Proportion'].diff()\n",
    "\n",
    "all = all.dropna()\n",
    "\n",
    "print ('Customers that are over represented come from the below clusters:')\n",
    "all = all[all.difference > 0.0]\n",
    "overRepresented = all[['Cluster','difference']]\n",
    "overRepresented.insert(2,'Customers','overRepresented')\n",
    "overRepresented = overRepresented.sort_values('difference',ascending=False)\n",
    "overRepresented\n"
   ]
  },
  {
   "cell_type": "code",
   "execution_count": 114,
   "metadata": {},
   "outputs": [
    {
     "name": "stdout",
     "output_type": "stream",
     "text": [
      "Customers that are under represented come from the below clusters:\n"
     ]
    },
    {
     "data": {
      "text/html": [
       "<div>\n",
       "<style scoped>\n",
       "    .dataframe tbody tr th:only-of-type {\n",
       "        vertical-align: middle;\n",
       "    }\n",
       "\n",
       "    .dataframe tbody tr th {\n",
       "        vertical-align: top;\n",
       "    }\n",
       "\n",
       "    .dataframe thead th {\n",
       "        text-align: right;\n",
       "    }\n",
       "</style>\n",
       "<table border=\"1\" class=\"dataframe\">\n",
       "  <thead>\n",
       "    <tr style=\"text-align: right;\">\n",
       "      <th></th>\n",
       "      <th>Cluster</th>\n",
       "      <th>difference</th>\n",
       "      <th>Customers</th>\n",
       "    </tr>\n",
       "  </thead>\n",
       "  <tbody>\n",
       "    <tr>\n",
       "      <th>9</th>\n",
       "      <td>1</td>\n",
       "      <td>-0.108</td>\n",
       "      <td>underRepresented</td>\n",
       "    </tr>\n",
       "    <tr>\n",
       "      <th>5</th>\n",
       "      <td>5</td>\n",
       "      <td>-0.102</td>\n",
       "      <td>underRepresented</td>\n",
       "    </tr>\n",
       "    <tr>\n",
       "      <th>8</th>\n",
       "      <td>0</td>\n",
       "      <td>-0.006</td>\n",
       "      <td>underRepresented</td>\n",
       "    </tr>\n",
       "    <tr>\n",
       "      <th>4</th>\n",
       "      <td>4</td>\n",
       "      <td>-0.006</td>\n",
       "      <td>underRepresented</td>\n",
       "    </tr>\n",
       "  </tbody>\n",
       "</table>\n",
       "</div>"
      ],
      "text/plain": [
       "   Cluster  difference         Customers\n",
       "9        1      -0.108  underRepresented\n",
       "5        5      -0.102  underRepresented\n",
       "8        0      -0.006  underRepresented\n",
       "4        4      -0.006  underRepresented"
      ]
     },
     "execution_count": 114,
     "metadata": {},
     "output_type": "execute_result"
    }
   ],
   "source": [
    "# What kinds of people are part of a cluster that is underrepresented in the\n",
    "# customer data compared to the general population?\n",
    "generalProportions = proportions(azdiasLabels,'General')\n",
    "customerProportions = proportions(customerLabels,'Customers')\n",
    "all = pd.concat([generalProportions, customerProportions])\n",
    "all = all.sort_values(by=['Cluster','Population'],ascending = (True,False))\n",
    "all['difference'] = all.groupby(['Cluster'])['Proportion'].diff()\n",
    "all = all.dropna()\n",
    "print ('Customers that are under represented come from the below clusters:')\n",
    "all = all[all.difference < 0.0]\n",
    "underRepresented = all[['Cluster','difference']]\n",
    "underRepresented.insert(2,'Customers','underRepresented')\n",
    "underRepresented = underRepresented.sort_values('difference',ascending = True)\n",
    "underRepresented"
   ]
  },
  {
   "cell_type": "markdown",
   "metadata": {},
   "source": [
    "### Discussion 3.3: Compare Customer Data to Demographics Data\n",
    "\n",
    "The overall strategy was to first identify which clusters showed the most difference between the general and customer distributions. This would enable a description of who the customers were with respect These differences were pareto'd. One or two clusters were identified for further analysis. For a given cluster, For the clusters with greatest difference, the cluster centers were identified. Inverse_transform was done to obtain the PCA components.  used inverse_transorm to identify the PCA components  retrieve the cluster centers from kmeans and then use inverse_transform to identify the significant features from PCA. But this is not sufficient. There are 8For example, ALTERSKATEGORIE_GROB or estimated age, may be an important factor for a given cluster, but it does not reveal what the age is. For this, I referred to the cluster centers"
   ]
  },
  {
   "cell_type": "code",
   "execution_count": 115,
   "metadata": {},
   "outputs": [
    {
     "name": "stdout",
     "output_type": "stream",
     "text": [
      "The data below is cluster center data for cluster 1. Note it is 25 float values from PCA.\n",
      "[  9.42054849e-02  -3.11504926e+00   4.03943356e-01   9.13087322e-01\n",
      "   2.72185811e-01   2.60794666e-01   1.27903970e+00   9.31163717e-01\n",
      "   1.24812827e-01  -4.93339496e-02  -7.50728340e-02  -6.59695000e-02\n",
      "   1.82172336e-02   9.92616544e-02  -2.05681330e-03   1.97357789e-02\n",
      "  -6.18359884e-02  -8.69666055e-03  -6.20570274e-02  -4.08198650e-02\n",
      "   1.91201222e-02   2.31609449e-01  -2.31897834e-02  -7.24374809e-02\n",
      "  -7.47176813e-02]\n",
      "\n",
      "The KMeans label data is 0-9 when the cluster number is 10:  {0, 1, 2, 3, 4, 5, 6, 7, 8, 9}\n",
      "\n",
      "Cluster center data for cluster 1: \n",
      " 0     0.094205\n",
      "1    -3.115049\n",
      "2     0.403943\n",
      "3     0.913087\n",
      "4     0.272186\n",
      "5     0.260795\n",
      "6     1.279040\n",
      "7     0.931164\n",
      "8     0.124813\n",
      "9    -0.049334\n",
      "10   -0.075073\n",
      "11   -0.065970\n",
      "12    0.018217\n",
      "13    0.099262\n",
      "14   -0.002057\n",
      "15    0.019736\n",
      "16   -0.061836\n",
      "17   -0.008697\n",
      "18   -0.062057\n",
      "19   -0.040820\n",
      "20    0.019120\n",
      "21    0.231609\n",
      "22   -0.023190\n",
      "23   -0.072437\n",
      "24   -0.074718\n",
      "dtype: float64\n",
      "(25,)\n",
      "\n",
      "The top 5 clusters by index value: \n"
     ]
    },
    {
     "data": {
      "text/plain": [
       "6    1.279040\n",
       "7    0.931164\n",
       "3    0.913087\n",
       "2    0.403943\n",
       "4    0.272186\n",
       "dtype: float64"
      ]
     },
     "execution_count": 115,
     "metadata": {},
     "output_type": "execute_result"
    }
   ],
   "source": [
    "# To understand the cluster and PCA data, the following displays the data as it is transformed.\n",
    "# Note the cluster values are from 0-9 and individual cluster data has 25 data points, the number of\n",
    "#components in the PCA. \n",
    "\n",
    "clusterCenter1 = kmeans.cluster_centers_[1]\n",
    "print (\"The data below is cluster center data for cluster 1. Note it is 25 float values from PCA.\")\n",
    "print (clusterCenter1)\n",
    "print (\"\\nThe KMeans label data is 0-9 when the cluster number is 10: \",set(kmeans.labels_))\n",
    "\n",
    "clusterCenter1 = pd.Series(clusterCenter1)\n",
    "\n",
    "print (\"\\nCluster center data for cluster 1: \\n\",clusterCenter1)\n",
    "print (clusterCenter1.shape)\n",
    "clusterCenter1.sort_values(ascending=False, inplace = True)\n",
    "print (\"\\nThe top 5 clusters by index value: \")\n",
    "clusterCenter1.head()"
   ]
  },
  {
   "cell_type": "code",
   "execution_count": 116,
   "metadata": {},
   "outputs": [
    {
     "data": {
      "text/plain": [
       "6    1.279040\n",
       "7    0.931164\n",
       "3    0.913087\n",
       "2    0.403943\n",
       "4    0.272186\n",
       "dtype: float64"
      ]
     },
     "execution_count": 116,
     "metadata": {},
     "output_type": "execute_result"
    }
   ],
   "source": [
    "clusterCenter1.head()"
   ]
  },
  {
   "cell_type": "code",
   "execution_count": 117,
   "metadata": {},
   "outputs": [
    {
     "data": {
      "text/plain": [
       "WOHNDAUER_2008          0.671\n",
       "ANZ_HAUSHALTE_AKTIV     0.247\n",
       "ALTERSKATEGORIE_GROB    0.150\n",
       "MIN_GEBAEUDEJAHR        0.150\n",
       "SEMIO_ERL               0.138\n",
       "Name: 2, dtype: float64"
      ]
     },
     "metadata": {},
     "output_type": "display_data"
    }
   ],
   "source": [
    "# Top 2 principle components (2,4) of cluster 1 (customers overRepresented)\n",
    "cluster1_pca_weights_comp2= pca_weights(azdiasPCA,2)\n",
    "display (cluster1_pca_weights_comp2.head())"
   ]
  },
  {
   "cell_type": "code",
   "execution_count": 118,
   "metadata": {},
   "outputs": [
    {
     "data": {
      "text/plain": [
       "ANZ_HAUSHALTE_AKTIV    0.418\n",
       "MIN_GEBAEUDEJAHR       0.321\n",
       "PLZ8_ANTG3             0.244\n",
       "PLZ8_BAUMAX            0.171\n",
       "PLZ8_ANTG4             0.170\n",
       "Name: 1, dtype: float64"
      ]
     },
     "metadata": {},
     "output_type": "display_data"
    }
   ],
   "source": [
    "# Top 2 principle components (2,1) of cluster 1 (customers overRepresented)\n",
    "cluster5_pca_weights_comp1 = pca_weights(azdiasPCA,1)\n",
    "display (cluster5_pca_weights_comp1.head())"
   ]
  },
  {
   "cell_type": "code",
   "execution_count": 119,
   "metadata": {},
   "outputs": [
    {
     "data": {
      "text/plain": [
       "1     2.263951\n",
       "3     1.764427\n",
       "5     0.238399\n",
       "22    0.074488\n",
       "15    0.068645\n",
       "dtype: float64"
      ]
     },
     "execution_count": 119,
     "metadata": {},
     "output_type": "execute_result"
    }
   ],
   "source": [
    "# 5 top principal components of cluster 8 (customers underRepresented)\n",
    "clusterCenter8 = kmeans.cluster_centers_[8]\n",
    "clusterCenter8 = pd.Series(clusterCenter8)\n",
    "clusterCenter8.sort_values(ascending=False, inplace = True)\n",
    "clusterCenter8.head()"
   ]
  },
  {
   "cell_type": "code",
   "execution_count": 120,
   "metadata": {},
   "outputs": [
    {
     "data": {
      "text/plain": [
       "MIN_GEBAEUDEJAHR      0.925\n",
       "PLZ8_ANTG1            0.077\n",
       "KONSUMNAEHE           0.070\n",
       "PLZ8_GBZ              0.065\n",
       "GEBAEUDETYP_RASTER    0.054\n",
       "Name: 0, dtype: float64"
      ]
     },
     "metadata": {},
     "output_type": "display_data"
    }
   ],
   "source": [
    "# Top 2 principle components (0,3) of cluster  8 (customers underRepresented)\n",
    "cluster8_pca_weights_comp0= pca_weights(azdiasPCA,0)\n",
    "display (cluster8_pca_weights_comp0.head())"
   ]
  },
  {
   "cell_type": "code",
   "execution_count": 121,
   "metadata": {},
   "outputs": [
    {
     "data": {
      "text/plain": [
       "WOHNDAUER_2008    0.529\n",
       "SEMIO_REL         0.338\n",
       "ANZ_PERSONEN      0.300\n",
       "SEMIO_KULT        0.204\n",
       "SEMIO_PFLICHT     0.180\n",
       "Name: 3, dtype: float64"
      ]
     },
     "metadata": {},
     "output_type": "display_data"
    }
   ],
   "source": [
    "# Top 2 principle components (3,6) of cluster 8 (customers underRepresented)\n",
    "cluster8_pca_weights_comp3= pca_weights(azdiasPCA,3)\n",
    "display (cluster8_pca_weights_comp3.head())"
   ]
  },
  {
   "cell_type": "code",
   "execution_count": 122,
   "metadata": {
    "scrolled": true
   },
   "outputs": [
    {
     "name": "stdout",
     "output_type": "stream",
     "text": [
      "(10, 195)\n"
     ]
    },
    {
     "data": {
      "text/html": [
       "<div>\n",
       "<style scoped>\n",
       "    .dataframe tbody tr th:only-of-type {\n",
       "        vertical-align: middle;\n",
       "    }\n",
       "\n",
       "    .dataframe tbody tr th {\n",
       "        vertical-align: top;\n",
       "    }\n",
       "\n",
       "    .dataframe thead th {\n",
       "        text-align: right;\n",
       "    }\n",
       "</style>\n",
       "<table border=\"1\" class=\"dataframe\">\n",
       "  <thead>\n",
       "    <tr style=\"text-align: right;\">\n",
       "      <th></th>\n",
       "      <th>ALTERSKATEGORIE_GROB</th>\n",
       "      <th>ANREDE_KZ</th>\n",
       "      <th>FINANZ_MINIMALIST</th>\n",
       "      <th>FINANZ_SPARER</th>\n",
       "      <th>FINANZ_VORSORGER</th>\n",
       "      <th>FINANZ_ANLEGER</th>\n",
       "      <th>FINANZ_UNAUFFAELLIGER</th>\n",
       "      <th>FINANZ_HAUSBAUER</th>\n",
       "      <th>GREEN_AVANTGARDE</th>\n",
       "      <th>HEALTH_TYP</th>\n",
       "      <th>...</th>\n",
       "      <th>CAMEO_DEU_2015_8D</th>\n",
       "      <th>CAMEO_DEU_2015_9A</th>\n",
       "      <th>CAMEO_DEU_2015_9B</th>\n",
       "      <th>CAMEO_DEU_2015_9C</th>\n",
       "      <th>CAMEO_DEU_2015_9D</th>\n",
       "      <th>CAMEO_DEU_2015_9E</th>\n",
       "      <th>Generation</th>\n",
       "      <th>Movement</th>\n",
       "      <th>CAMEO_Wealth</th>\n",
       "      <th>CAMEO_Lifestage</th>\n",
       "    </tr>\n",
       "  </thead>\n",
       "  <tbody>\n",
       "    <tr>\n",
       "      <th>0</th>\n",
       "      <td>4.0</td>\n",
       "      <td>1.0</td>\n",
       "      <td>5.0</td>\n",
       "      <td>1.0</td>\n",
       "      <td>5.0</td>\n",
       "      <td>1.0</td>\n",
       "      <td>3.0</td>\n",
       "      <td>0.0</td>\n",
       "      <td>0.0</td>\n",
       "      <td>2.0</td>\n",
       "      <td>...</td>\n",
       "      <td>0.0</td>\n",
       "      <td>0.0</td>\n",
       "      <td>0.0</td>\n",
       "      <td>-0.0</td>\n",
       "      <td>0.0</td>\n",
       "      <td>0.0</td>\n",
       "      <td>59.0</td>\n",
       "      <td>2.0</td>\n",
       "      <td>1.0</td>\n",
       "      <td>4.0</td>\n",
       "    </tr>\n",
       "    <tr>\n",
       "      <th>1</th>\n",
       "      <td>4.0</td>\n",
       "      <td>0.0</td>\n",
       "      <td>6.0</td>\n",
       "      <td>1.0</td>\n",
       "      <td>5.0</td>\n",
       "      <td>1.0</td>\n",
       "      <td>2.0</td>\n",
       "      <td>1.0</td>\n",
       "      <td>1.0</td>\n",
       "      <td>2.0</td>\n",
       "      <td>...</td>\n",
       "      <td>0.0</td>\n",
       "      <td>0.0</td>\n",
       "      <td>0.0</td>\n",
       "      <td>-0.0</td>\n",
       "      <td>-0.0</td>\n",
       "      <td>-0.0</td>\n",
       "      <td>55.0</td>\n",
       "      <td>3.0</td>\n",
       "      <td>0.0</td>\n",
       "      <td>4.0</td>\n",
       "    </tr>\n",
       "    <tr>\n",
       "      <th>2</th>\n",
       "      <td>3.0</td>\n",
       "      <td>1.0</td>\n",
       "      <td>5.0</td>\n",
       "      <td>1.0</td>\n",
       "      <td>4.0</td>\n",
       "      <td>1.0</td>\n",
       "      <td>3.0</td>\n",
       "      <td>2.0</td>\n",
       "      <td>0.0</td>\n",
       "      <td>3.0</td>\n",
       "      <td>...</td>\n",
       "      <td>0.0</td>\n",
       "      <td>0.0</td>\n",
       "      <td>0.0</td>\n",
       "      <td>0.0</td>\n",
       "      <td>0.0</td>\n",
       "      <td>-0.0</td>\n",
       "      <td>64.0</td>\n",
       "      <td>3.0</td>\n",
       "      <td>1.0</td>\n",
       "      <td>4.0</td>\n",
       "    </tr>\n",
       "    <tr>\n",
       "      <th>3</th>\n",
       "      <td>4.0</td>\n",
       "      <td>0.0</td>\n",
       "      <td>5.0</td>\n",
       "      <td>1.0</td>\n",
       "      <td>5.0</td>\n",
       "      <td>1.0</td>\n",
       "      <td>2.0</td>\n",
       "      <td>3.0</td>\n",
       "      <td>0.0</td>\n",
       "      <td>3.0</td>\n",
       "      <td>...</td>\n",
       "      <td>0.0</td>\n",
       "      <td>0.0</td>\n",
       "      <td>0.0</td>\n",
       "      <td>0.0</td>\n",
       "      <td>0.0</td>\n",
       "      <td>0.0</td>\n",
       "      <td>55.0</td>\n",
       "      <td>2.0</td>\n",
       "      <td>3.0</td>\n",
       "      <td>4.0</td>\n",
       "    </tr>\n",
       "    <tr>\n",
       "      <th>4</th>\n",
       "      <td>4.0</td>\n",
       "      <td>1.0</td>\n",
       "      <td>5.0</td>\n",
       "      <td>1.0</td>\n",
       "      <td>5.0</td>\n",
       "      <td>1.0</td>\n",
       "      <td>2.0</td>\n",
       "      <td>1.0</td>\n",
       "      <td>0.0</td>\n",
       "      <td>3.0</td>\n",
       "      <td>...</td>\n",
       "      <td>0.0</td>\n",
       "      <td>0.0</td>\n",
       "      <td>0.0</td>\n",
       "      <td>0.0</td>\n",
       "      <td>0.0</td>\n",
       "      <td>0.0</td>\n",
       "      <td>58.0</td>\n",
       "      <td>3.0</td>\n",
       "      <td>0.0</td>\n",
       "      <td>4.0</td>\n",
       "    </tr>\n",
       "    <tr>\n",
       "      <th>5</th>\n",
       "      <td>4.0</td>\n",
       "      <td>1.0</td>\n",
       "      <td>5.0</td>\n",
       "      <td>1.0</td>\n",
       "      <td>5.0</td>\n",
       "      <td>1.0</td>\n",
       "      <td>2.0</td>\n",
       "      <td>2.0</td>\n",
       "      <td>0.0</td>\n",
       "      <td>3.0</td>\n",
       "      <td>...</td>\n",
       "      <td>0.0</td>\n",
       "      <td>0.0</td>\n",
       "      <td>0.0</td>\n",
       "      <td>0.0</td>\n",
       "      <td>0.0</td>\n",
       "      <td>0.0</td>\n",
       "      <td>61.0</td>\n",
       "      <td>2.0</td>\n",
       "      <td>2.0</td>\n",
       "      <td>4.0</td>\n",
       "    </tr>\n",
       "    <tr>\n",
       "      <th>6</th>\n",
       "      <td>4.0</td>\n",
       "      <td>1.0</td>\n",
       "      <td>5.0</td>\n",
       "      <td>1.0</td>\n",
       "      <td>5.0</td>\n",
       "      <td>1.0</td>\n",
       "      <td>2.0</td>\n",
       "      <td>3.0</td>\n",
       "      <td>0.0</td>\n",
       "      <td>2.0</td>\n",
       "      <td>...</td>\n",
       "      <td>0.0</td>\n",
       "      <td>0.0</td>\n",
       "      <td>0.0</td>\n",
       "      <td>0.0</td>\n",
       "      <td>0.0</td>\n",
       "      <td>0.0</td>\n",
       "      <td>50.0</td>\n",
       "      <td>2.0</td>\n",
       "      <td>2.0</td>\n",
       "      <td>4.0</td>\n",
       "    </tr>\n",
       "    <tr>\n",
       "      <th>7</th>\n",
       "      <td>4.0</td>\n",
       "      <td>1.0</td>\n",
       "      <td>6.0</td>\n",
       "      <td>1.0</td>\n",
       "      <td>5.0</td>\n",
       "      <td>1.0</td>\n",
       "      <td>2.0</td>\n",
       "      <td>2.0</td>\n",
       "      <td>0.0</td>\n",
       "      <td>2.0</td>\n",
       "      <td>...</td>\n",
       "      <td>0.0</td>\n",
       "      <td>-0.0</td>\n",
       "      <td>0.0</td>\n",
       "      <td>0.0</td>\n",
       "      <td>0.0</td>\n",
       "      <td>0.0</td>\n",
       "      <td>49.0</td>\n",
       "      <td>2.0</td>\n",
       "      <td>1.0</td>\n",
       "      <td>4.0</td>\n",
       "    </tr>\n",
       "    <tr>\n",
       "      <th>8</th>\n",
       "      <td>3.0</td>\n",
       "      <td>1.0</td>\n",
       "      <td>4.0</td>\n",
       "      <td>1.0</td>\n",
       "      <td>4.0</td>\n",
       "      <td>1.0</td>\n",
       "      <td>3.0</td>\n",
       "      <td>3.0</td>\n",
       "      <td>0.0</td>\n",
       "      <td>3.0</td>\n",
       "      <td>...</td>\n",
       "      <td>0.0</td>\n",
       "      <td>0.0</td>\n",
       "      <td>0.0</td>\n",
       "      <td>0.0</td>\n",
       "      <td>0.0</td>\n",
       "      <td>-0.0</td>\n",
       "      <td>64.0</td>\n",
       "      <td>2.0</td>\n",
       "      <td>2.0</td>\n",
       "      <td>3.0</td>\n",
       "    </tr>\n",
       "    <tr>\n",
       "      <th>9</th>\n",
       "      <td>4.0</td>\n",
       "      <td>1.0</td>\n",
       "      <td>5.0</td>\n",
       "      <td>1.0</td>\n",
       "      <td>5.0</td>\n",
       "      <td>1.0</td>\n",
       "      <td>2.0</td>\n",
       "      <td>3.0</td>\n",
       "      <td>0.0</td>\n",
       "      <td>3.0</td>\n",
       "      <td>...</td>\n",
       "      <td>0.0</td>\n",
       "      <td>0.0</td>\n",
       "      <td>0.0</td>\n",
       "      <td>0.0</td>\n",
       "      <td>0.0</td>\n",
       "      <td>0.0</td>\n",
       "      <td>55.0</td>\n",
       "      <td>2.0</td>\n",
       "      <td>3.0</td>\n",
       "      <td>3.0</td>\n",
       "    </tr>\n",
       "  </tbody>\n",
       "</table>\n",
       "<p>10 rows × 195 columns</p>\n",
       "</div>"
      ],
      "text/plain": [
       "   ALTERSKATEGORIE_GROB  ANREDE_KZ  FINANZ_MINIMALIST  FINANZ_SPARER  \\\n",
       "0                   4.0        1.0                5.0            1.0   \n",
       "1                   4.0        0.0                6.0            1.0   \n",
       "2                   3.0        1.0                5.0            1.0   \n",
       "3                   4.0        0.0                5.0            1.0   \n",
       "4                   4.0        1.0                5.0            1.0   \n",
       "5                   4.0        1.0                5.0            1.0   \n",
       "6                   4.0        1.0                5.0            1.0   \n",
       "7                   4.0        1.0                6.0            1.0   \n",
       "8                   3.0        1.0                4.0            1.0   \n",
       "9                   4.0        1.0                5.0            1.0   \n",
       "\n",
       "   FINANZ_VORSORGER  FINANZ_ANLEGER  FINANZ_UNAUFFAELLIGER  FINANZ_HAUSBAUER  \\\n",
       "0               5.0             1.0                    3.0               0.0   \n",
       "1               5.0             1.0                    2.0               1.0   \n",
       "2               4.0             1.0                    3.0               2.0   \n",
       "3               5.0             1.0                    2.0               3.0   \n",
       "4               5.0             1.0                    2.0               1.0   \n",
       "5               5.0             1.0                    2.0               2.0   \n",
       "6               5.0             1.0                    2.0               3.0   \n",
       "7               5.0             1.0                    2.0               2.0   \n",
       "8               4.0             1.0                    3.0               3.0   \n",
       "9               5.0             1.0                    2.0               3.0   \n",
       "\n",
       "   GREEN_AVANTGARDE  HEALTH_TYP       ...         CAMEO_DEU_2015_8D  \\\n",
       "0               0.0         2.0       ...                       0.0   \n",
       "1               1.0         2.0       ...                       0.0   \n",
       "2               0.0         3.0       ...                       0.0   \n",
       "3               0.0         3.0       ...                       0.0   \n",
       "4               0.0         3.0       ...                       0.0   \n",
       "5               0.0         3.0       ...                       0.0   \n",
       "6               0.0         2.0       ...                       0.0   \n",
       "7               0.0         2.0       ...                       0.0   \n",
       "8               0.0         3.0       ...                       0.0   \n",
       "9               0.0         3.0       ...                       0.0   \n",
       "\n",
       "   CAMEO_DEU_2015_9A  CAMEO_DEU_2015_9B  CAMEO_DEU_2015_9C  CAMEO_DEU_2015_9D  \\\n",
       "0                0.0                0.0               -0.0                0.0   \n",
       "1                0.0                0.0               -0.0               -0.0   \n",
       "2                0.0                0.0                0.0                0.0   \n",
       "3                0.0                0.0                0.0                0.0   \n",
       "4                0.0                0.0                0.0                0.0   \n",
       "5                0.0                0.0                0.0                0.0   \n",
       "6                0.0                0.0                0.0                0.0   \n",
       "7               -0.0                0.0                0.0                0.0   \n",
       "8                0.0                0.0                0.0                0.0   \n",
       "9                0.0                0.0                0.0                0.0   \n",
       "\n",
       "   CAMEO_DEU_2015_9E  Generation  Movement  CAMEO_Wealth  CAMEO_Lifestage  \n",
       "0                0.0        59.0       2.0           1.0              4.0  \n",
       "1               -0.0        55.0       3.0           0.0              4.0  \n",
       "2               -0.0        64.0       3.0           1.0              4.0  \n",
       "3                0.0        55.0       2.0           3.0              4.0  \n",
       "4                0.0        58.0       3.0           0.0              4.0  \n",
       "5                0.0        61.0       2.0           2.0              4.0  \n",
       "6                0.0        50.0       2.0           2.0              4.0  \n",
       "7                0.0        49.0       2.0           1.0              4.0  \n",
       "8               -0.0        64.0       2.0           2.0              3.0  \n",
       "9                0.0        55.0       2.0           3.0              3.0  \n",
       "\n",
       "[10 rows x 195 columns]"
      ]
     },
     "metadata": {},
     "output_type": "display_data"
    }
   ],
   "source": [
    "#Cluster Centers \n",
    "clusterCenter_InverseTransform = pd.DataFrame(customer_scaler.inverse_transform(azdiasPCA_matched.inverse_transform(kmeans.cluster_centers_)))\n",
    "clusterCenter_InverseTransform.columns = customerMatched.columns\n",
    "print (clusterCenter_InverseTransform.shape)\n",
    "#cluster1_InverseTransform = round(clusterCenter_InverseTransform,0)\n",
    "display (np.round(clusterCenter_InverseTransform))"
   ]
  },
  {
   "cell_type": "code",
   "execution_count": 123,
   "metadata": {
    "scrolled": true
   },
   "outputs": [
    {
     "data": {
      "text/plain": [
       "0    6.0\n",
       "1    9.0\n",
       "2    9.0\n",
       "3    8.0\n",
       "4    8.0\n",
       "5    4.0\n",
       "6    9.0\n",
       "7    9.0\n",
       "8    8.0\n",
       "9    8.0\n",
       "Name: WOHNDAUER_2008, dtype: float64"
      ]
     },
     "metadata": {},
     "output_type": "display_data"
    },
    {
     "data": {
      "text/plain": [
       "0    2008.0\n",
       "1    1992.0\n",
       "2    1992.0\n",
       "3    1992.0\n",
       "4    1999.0\n",
       "5    1992.0\n",
       "6    1992.0\n",
       "7    1992.0\n",
       "8    1992.0\n",
       "9    1992.0\n",
       "Name: MIN_GEBAEUDEJAHR, dtype: float64"
      ]
     },
     "metadata": {},
     "output_type": "display_data"
    },
    {
     "data": {
      "text/plain": [
       "0     0.0\n",
       "1     0.0\n",
       "2     1.0\n",
       "3    56.0\n",
       "4     0.0\n",
       "5     2.0\n",
       "6     3.0\n",
       "7     1.0\n",
       "8     3.0\n",
       "9    14.0\n",
       "Name: ANZ_HAUSHALTE_AKTIV, dtype: float64"
      ]
     },
     "metadata": {},
     "output_type": "display_data"
    },
    {
     "data": {
      "text/plain": [
       "0    4.0\n",
       "1    4.0\n",
       "2    3.0\n",
       "3    4.0\n",
       "4    4.0\n",
       "5    4.0\n",
       "6    4.0\n",
       "7    4.0\n",
       "8    3.0\n",
       "9    4.0\n",
       "Name: ALTERSKATEGORIE_GROB, dtype: float64"
      ]
     },
     "metadata": {},
     "output_type": "display_data"
    },
    {
     "data": {
      "text/plain": [
       "0    3.0\n",
       "1    7.0\n",
       "2    3.0\n",
       "3    3.0\n",
       "4    4.0\n",
       "5    3.0\n",
       "6    3.0\n",
       "7    2.0\n",
       "8    3.0\n",
       "9    3.0\n",
       "Name: ANZ_PERSONEN, dtype: float64"
      ]
     },
     "metadata": {},
     "output_type": "display_data"
    },
    {
     "data": {
      "text/plain": [
       "0    3.0\n",
       "1    4.0\n",
       "2    4.0\n",
       "3    2.0\n",
       "4    4.0\n",
       "5    3.0\n",
       "6    3.0\n",
       "7    4.0\n",
       "8    2.0\n",
       "9    2.0\n",
       "Name: PLZ8_ANTG1, dtype: float64"
      ]
     },
     "metadata": {},
     "output_type": "display_data"
    }
   ],
   "source": [
    "# For the features that are significant, the original sublevels for each cluster are below\n",
    "display (np.round(clusterCenter_InverseTransform['WOHNDAUER_2008'],0))\n",
    "display (np.round(clusterCenter_InverseTransform['MIN_GEBAEUDEJAHR'],0))\n",
    "display (np.round(clusterCenter_InverseTransform['ANZ_HAUSHALTE_AKTIV'],0))\n",
    "display (np.round(clusterCenter_InverseTransform['ALTERSKATEGORIE_GROB'],0))\n",
    "display (np.round(clusterCenter_InverseTransform['ANZ_PERSONEN'],0))\n",
    "display (np.round(clusterCenter_InverseTransform['PLZ8_ANTG1'],0))\n"
   ]
  },
  {
   "cell_type": "markdown",
   "metadata": {},
   "source": [
    "### Comment \n",
    "Every time KMeans run the clusters are re-labeled. For example, what was previously cluster 1 is now 4. So this needs an update almost everytime kmeans runs. The \n",
    "   \n",
    "### Customer Over Represented\n",
    "- MIN_GEBAEUDEJAHR (First year building was mentioned in the database - 1992.)\n",
    "- WOHNDAUER_2008 (Length of residence - )\n",
    "- ANZ_HAUSHALTE_AKTIV (Number of households in the building\n",
    "- ALTERSKATEGORIE_GROB (estimated age)\n",
    "- SEMIO_ERL (Event driven personality (1-9,hi-lo))\n",
    "\n",
    "### Customer Under Represented\n",
    "- ANZ_PERSONEN\n",
    "- KBA13_ANZAHL_PKW\n",
    "- PLZ8_GBZ (Number of buildings within PLZ8 Region) \n",
    "- SEMIO REL - religious)\n",
    "- WOHNDAUER_2008 (Length of residence)\n",
    "- MIN_GEBAEUDEJAHR (First year building was mentioned in the database - 1992.)\n",
    "\n",
    "MIN_GEBAEUDEJAHR      0.925\n",
    "PLZ8_ANTG1            0.077\n",
    "KONSUMNAEHE           0.070\n",
    "PLZ8_GBZ              0.065\n",
    "GEBAEUDETYP_RASTER    0.054\n",
    "\n",
    "WOHNDAUER_2008    0.529\n",
    "SEMIO_REL         0.338\n",
    "ANZ_PERSONEN      0.300\n",
    "SEMIO_KULT        0.204\n",
    "SEMIO_PFLICHT     0.180\n",
    "\n",
    "\n",
    "\n",
    "### Gender,  Age, Zip Code\n",
    "Age (ALTERSKATEGORIE_GROB) with sub-level 46-60+, is an important market segment. Surprisingly, Gender(ANREDE_KZ)  does not show up as a significant factor. Neither does postal code, which commonly show a signature.  \n",
    "\n",
    "### Features both Under and Over Represented\n",
    "Note how some features, such as WOHNDAUER_2008 and MIN_GEBAEUDEJAHR, can show up on both the under and over represented lists. How can this be?  \n",
    "\n",
    "For the over Represented  WOHNDAUER_2008, it can be seen from the summary of cluster centers that cluster 4 has a value of 9 - or a length of residency of greater than 10 years  while for the under represented cluster 9 the value is 4 or 3-4 years. \n",
    "\n",
    "However, for MIN_GEBAEUDEJAHR, which also shows up in both over and under represented clusters, the value is the same in both - 1992. So although MIN_GEBAEUDEJAHR is a component of both clusters, it is not the feature that is driving the difference. Or it may be the strength of the feature - the variance. For the over represented cluster, this feature explains only 15.0% of the variance while for the under represented cluster it explains 92.5%. \n",
    "### Summary\n",
    "Mail order customers tend to be older, live in lower density housing for longer periods of time. This makes sense as mail ordering is already dated. In order to expand the customer base, especially to younger customers, an online presence should be considered. "
   ]
  },
  {
   "cell_type": "code",
   "execution_count": 124,
   "metadata": {},
   "outputs": [
    {
     "name": "stdout",
     "output_type": "stream",
     "text": [
      "Executed in 14.5 minutes\n"
     ]
    }
   ],
   "source": [
    "endProgram = timer() \n",
    "print(f\"Executed in {(endProgram - startProgram)/60:0.1f} minutes\")"
   ]
  },
  {
   "cell_type": "markdown",
   "metadata": {},
   "source": [
    "> Congratulations on making it this far in the project! Before you finish, make sure to check through the entire notebook from top to bottom to make sure that your analysis follows a logical flow and all of your findings are documented in **Discussion** cells. Once you've checked over all of your work, you should export the notebook as an HTML document to submit for evaluation. You can do this from the menu, navigating to **File -> Download as -> HTML (.html)**. You will submit both that document and this notebook for your project submission."
   ]
  },
  {
   "cell_type": "markdown",
   "metadata": {},
   "source": [
    "### Next Steps\n",
    "The repeatability of PCA and kmeans needs to be understood. In addition, The benefit of KMeans clustering over just PCA could also be quantified. "
   ]
  },
  {
   "cell_type": "code",
   "execution_count": null,
   "metadata": {},
   "outputs": [],
   "source": []
  }
 ],
 "metadata": {
  "kernelspec": {
   "display_name": "Python 3",
   "language": "python",
   "name": "python3"
  },
  "language_info": {
   "codemirror_mode": {
    "name": "ipython",
    "version": 3
   },
   "file_extension": ".py",
   "mimetype": "text/x-python",
   "name": "python",
   "nbconvert_exporter": "python",
   "pygments_lexer": "ipython3",
   "version": "3.6.3"
  }
 },
 "nbformat": 4,
 "nbformat_minor": 2
}
