{
 "cells": [
  {
   "cell_type": "markdown",
   "metadata": {},
   "source": [
    "# Project: Identify Customer Segments\n",
    "\n",
    "In this project, you will apply unsupervised learning techniques to identify segments of the population that form the core customer base for a mail-order sales company in Germany. These segments can then be used to direct marketing campaigns towards audiences that will have the highest expected rate of returns. The data that you will use has been provided by our partners at Bertelsmann Arvato Analytics, and represents a real-life data science task.\n",
    "\n",
    "This notebook will help you complete this task by providing a framework within which you will perform your analysis steps. In each step of the project, you will see some text describing the subtask that you will perform, followed by one or more code cells for you to complete your work. **Feel free to add additional code and markdown cells as you go along so that you can explore everything in precise chunks.** The code cells provided in the base template will outline only the major tasks, and will usually not be enough to cover all of the minor tasks that comprise it.\n",
    "\n",
    "It should be noted that while there will be precise guidelines on how you should handle certain tasks in the project, there will also be places where an exact specification is not provided. **There will be times in the project where you will need to make and justify your own decisions on how to treat the data.** These are places where there may not be only one way to handle the data. In real-life tasks, there may be many valid ways to approach an analysis task. One of the most important things you can do is clearly document your approach so that other scientists can understand the decisions you've made.\n",
    "\n",
    "At the end of most sections, there will be a Markdown cell labeled **Discussion**. In these cells, you will report your findings for the completed section, as well as document the decisions that you made in your approach to each subtask. **Your project will be evaluated not just on the code used to complete the tasks outlined, but also your communication about your observations and conclusions at each stage.**"
   ]
  },
  {
   "cell_type": "code",
   "execution_count": 1,
   "metadata": {},
   "outputs": [
    {
     "name": "stdout",
     "output_type": "stream",
     "text": [
      " Sklearn Version:  0.19.1\n"
     ]
    }
   ],
   "source": [
    "#======================================================================================#\n",
    "#                              Import Libraries                                        #\n",
    "#======================================================================================#\n",
    "# import libraries here; add more as necessary\n",
    "import sklearn \n",
    "import numpy as np\n",
    "import collections\n",
    "import pandas as pd\n",
    "import matplotlib.pyplot as plt\n",
    "import seaborn as sns\n",
    "from itertools import islice\n",
    "from sklearn.decomposition import PCA\n",
    "from sklearn.preprocessing import Imputer, StandardScaler,MinMaxScaler,RobustScaler\n",
    "import pickle\n",
    "from sklearn.cluster import KMeans\n",
    "from timeit import default_timer as timer\n",
    "print (\" Sklearn Version: \",sklearn.__version__)\n",
    "from helpers import *\n",
    "from IPython.display import Image\n",
    "from sklearn.metrics import silhouette_samples, silhouette_score\n",
    "import collections\n",
    "from IPython.display import display\n",
    "import gc\n",
    "# magic word for producing visualizations in notebook\n",
    "%matplotlib inline"
   ]
  },
  {
   "cell_type": "markdown",
   "metadata": {},
   "source": [
    "### Step 0: Load the Data\n",
    "\n",
    "There are four files associated with this project (not including this one):\n",
    "\n",
    "- `Udacity_AZDIAS_Subset.csv`: Demographics data for the general population of Germany; 891211 persons (rows) x 85 features (columns).\n",
    "- `Udacity_CUSTOMERS_Subset.csv`: Demographics data for customers of a mail-order company; 191652 persons (rows) x 85 features (columns).\n",
    "- `Data_Dictionary.md`: Detailed information file about the features in the provided datasets.\n",
    "- `AZDIAS_Feature_Summary.csv`: Summary of feature attributes for demographics data; 85 features (rows) x 4 columns\n",
    "\n",
    "Each row of the demographics files represents a single person, but also includes information outside of individuals, including information about their household, building, and neighborhood. You will use this information to cluster the general population into groups with similar demographic properties. Then, you will see how the people in the customers dataset fit into those created clusters. The hope here is that certain clusters are over-represented in the customers data, as compared to the general population; those over-represented clusters will be assumed to be part of the core userbase. This information can then be used for further applications, such as targeting for a marketing campaign.\n",
    "\n",
    "To start off with, load in the demographics data for the general population into a pandas DataFrame, and do the same for the feature attributes summary. Note for all of the `.csv` data files in this project: they're semicolon (`;`) delimited, so you'll need an additional argument in your [`read_csv()`](https://pandas.pydata.org/pandas-docs/stable/generated/pandas.read_csv.html) call to read in the data properly. Also, considering the size of the main dataset, it may take some time for it to load completely.\n",
    "\n",
    "Once the dataset is loaded, it's recommended that you take a little bit of time just browsing the general structure of the dataset and feature summary file. You'll be getting deep into the innards of the cleaning in the first major step of the project, so gaining some general familiarity can help you get your bearings."
   ]
  },
  {
   "cell_type": "code",
   "execution_count": 2,
   "metadata": {},
   "outputs": [],
   "source": [
    "startProgram = timer() "
   ]
  },
  {
   "cell_type": "code",
   "execution_count": 3,
   "metadata": {},
   "outputs": [],
   "source": [
    "# Load in the general demographics and feature summary file. \n",
    "def loadData(): \n",
    "    print (\"\\nLoading Data....\")\n",
    "    missing_values_azdias = ['-1',\"''\",'X','XX']\n",
    "    azdias = pd.read_csv('Udacity_AZDIAS_Subset.csv', delimiter = ';', na_values = missing_values_azdias)\n",
    "\n",
    "    missing_values_feat_info =  ['[X]','[XX]','[]','[-1,X]','[-1,XX]']\n",
    "    feat_info  = pd.read_csv('AZDIAS_Feature_Summary.csv', delimiter = ';', na_values = missing_values_feat_info)\n",
    "    print (\"General demographic data loaded. Shape: \", azdias.shape)\n",
    "    return azdias, feat_info"
   ]
  },
  {
   "cell_type": "code",
   "execution_count": 4,
   "metadata": {},
   "outputs": [
    {
     "name": "stdout",
     "output_type": "stream",
     "text": [
      "\n",
      "Loading Data....\n",
      "General demographic data loaded. Shape:  (891221, 85)\n",
      "(891221, 85)\n"
     ]
    },
    {
     "data": {
      "text/html": [
       "<div>\n",
       "<style scoped>\n",
       "    .dataframe tbody tr th:only-of-type {\n",
       "        vertical-align: middle;\n",
       "    }\n",
       "\n",
       "    .dataframe tbody tr th {\n",
       "        vertical-align: top;\n",
       "    }\n",
       "\n",
       "    .dataframe thead th {\n",
       "        text-align: right;\n",
       "    }\n",
       "</style>\n",
       "<table border=\"1\" class=\"dataframe\">\n",
       "  <thead>\n",
       "    <tr style=\"text-align: right;\">\n",
       "      <th></th>\n",
       "      <th>AGER_TYP</th>\n",
       "      <th>ALTERSKATEGORIE_GROB</th>\n",
       "      <th>ANREDE_KZ</th>\n",
       "      <th>CJT_GESAMTTYP</th>\n",
       "      <th>FINANZ_MINIMALIST</th>\n",
       "      <th>FINANZ_SPARER</th>\n",
       "      <th>FINANZ_VORSORGER</th>\n",
       "      <th>FINANZ_ANLEGER</th>\n",
       "      <th>FINANZ_UNAUFFAELLIGER</th>\n",
       "      <th>FINANZ_HAUSBAUER</th>\n",
       "      <th>...</th>\n",
       "      <th>PLZ8_ANTG1</th>\n",
       "      <th>PLZ8_ANTG2</th>\n",
       "      <th>PLZ8_ANTG3</th>\n",
       "      <th>PLZ8_ANTG4</th>\n",
       "      <th>PLZ8_BAUMAX</th>\n",
       "      <th>PLZ8_HHZ</th>\n",
       "      <th>PLZ8_GBZ</th>\n",
       "      <th>ARBEIT</th>\n",
       "      <th>ORTSGR_KLS9</th>\n",
       "      <th>RELAT_AB</th>\n",
       "    </tr>\n",
       "  </thead>\n",
       "  <tbody>\n",
       "    <tr>\n",
       "      <th>0</th>\n",
       "      <td>NaN</td>\n",
       "      <td>2</td>\n",
       "      <td>1</td>\n",
       "      <td>2.0</td>\n",
       "      <td>3</td>\n",
       "      <td>4</td>\n",
       "      <td>3</td>\n",
       "      <td>5</td>\n",
       "      <td>5</td>\n",
       "      <td>3</td>\n",
       "      <td>...</td>\n",
       "      <td>NaN</td>\n",
       "      <td>NaN</td>\n",
       "      <td>NaN</td>\n",
       "      <td>NaN</td>\n",
       "      <td>NaN</td>\n",
       "      <td>NaN</td>\n",
       "      <td>NaN</td>\n",
       "      <td>NaN</td>\n",
       "      <td>NaN</td>\n",
       "      <td>NaN</td>\n",
       "    </tr>\n",
       "    <tr>\n",
       "      <th>1</th>\n",
       "      <td>NaN</td>\n",
       "      <td>1</td>\n",
       "      <td>2</td>\n",
       "      <td>5.0</td>\n",
       "      <td>1</td>\n",
       "      <td>5</td>\n",
       "      <td>2</td>\n",
       "      <td>5</td>\n",
       "      <td>4</td>\n",
       "      <td>5</td>\n",
       "      <td>...</td>\n",
       "      <td>2.0</td>\n",
       "      <td>3.0</td>\n",
       "      <td>2.0</td>\n",
       "      <td>1.0</td>\n",
       "      <td>1.0</td>\n",
       "      <td>5.0</td>\n",
       "      <td>4.0</td>\n",
       "      <td>3.0</td>\n",
       "      <td>5.0</td>\n",
       "      <td>4.0</td>\n",
       "    </tr>\n",
       "    <tr>\n",
       "      <th>2</th>\n",
       "      <td>NaN</td>\n",
       "      <td>3</td>\n",
       "      <td>2</td>\n",
       "      <td>3.0</td>\n",
       "      <td>1</td>\n",
       "      <td>4</td>\n",
       "      <td>1</td>\n",
       "      <td>2</td>\n",
       "      <td>3</td>\n",
       "      <td>5</td>\n",
       "      <td>...</td>\n",
       "      <td>3.0</td>\n",
       "      <td>3.0</td>\n",
       "      <td>1.0</td>\n",
       "      <td>0.0</td>\n",
       "      <td>1.0</td>\n",
       "      <td>4.0</td>\n",
       "      <td>4.0</td>\n",
       "      <td>3.0</td>\n",
       "      <td>5.0</td>\n",
       "      <td>2.0</td>\n",
       "    </tr>\n",
       "    <tr>\n",
       "      <th>3</th>\n",
       "      <td>2.0</td>\n",
       "      <td>4</td>\n",
       "      <td>2</td>\n",
       "      <td>2.0</td>\n",
       "      <td>4</td>\n",
       "      <td>2</td>\n",
       "      <td>5</td>\n",
       "      <td>2</td>\n",
       "      <td>1</td>\n",
       "      <td>2</td>\n",
       "      <td>...</td>\n",
       "      <td>2.0</td>\n",
       "      <td>2.0</td>\n",
       "      <td>2.0</td>\n",
       "      <td>0.0</td>\n",
       "      <td>1.0</td>\n",
       "      <td>3.0</td>\n",
       "      <td>4.0</td>\n",
       "      <td>2.0</td>\n",
       "      <td>3.0</td>\n",
       "      <td>3.0</td>\n",
       "    </tr>\n",
       "    <tr>\n",
       "      <th>4</th>\n",
       "      <td>NaN</td>\n",
       "      <td>3</td>\n",
       "      <td>1</td>\n",
       "      <td>5.0</td>\n",
       "      <td>4</td>\n",
       "      <td>3</td>\n",
       "      <td>4</td>\n",
       "      <td>1</td>\n",
       "      <td>3</td>\n",
       "      <td>2</td>\n",
       "      <td>...</td>\n",
       "      <td>2.0</td>\n",
       "      <td>4.0</td>\n",
       "      <td>2.0</td>\n",
       "      <td>1.0</td>\n",
       "      <td>2.0</td>\n",
       "      <td>3.0</td>\n",
       "      <td>3.0</td>\n",
       "      <td>4.0</td>\n",
       "      <td>6.0</td>\n",
       "      <td>5.0</td>\n",
       "    </tr>\n",
       "  </tbody>\n",
       "</table>\n",
       "<p>5 rows × 85 columns</p>\n",
       "</div>"
      ],
      "text/plain": [
       "   AGER_TYP  ALTERSKATEGORIE_GROB  ANREDE_KZ  CJT_GESAMTTYP  \\\n",
       "0       NaN                     2          1            2.0   \n",
       "1       NaN                     1          2            5.0   \n",
       "2       NaN                     3          2            3.0   \n",
       "3       2.0                     4          2            2.0   \n",
       "4       NaN                     3          1            5.0   \n",
       "\n",
       "   FINANZ_MINIMALIST  FINANZ_SPARER  FINANZ_VORSORGER  FINANZ_ANLEGER  \\\n",
       "0                  3              4                 3               5   \n",
       "1                  1              5                 2               5   \n",
       "2                  1              4                 1               2   \n",
       "3                  4              2                 5               2   \n",
       "4                  4              3                 4               1   \n",
       "\n",
       "   FINANZ_UNAUFFAELLIGER  FINANZ_HAUSBAUER    ...     PLZ8_ANTG1  PLZ8_ANTG2  \\\n",
       "0                      5                 3    ...            NaN         NaN   \n",
       "1                      4                 5    ...            2.0         3.0   \n",
       "2                      3                 5    ...            3.0         3.0   \n",
       "3                      1                 2    ...            2.0         2.0   \n",
       "4                      3                 2    ...            2.0         4.0   \n",
       "\n",
       "   PLZ8_ANTG3  PLZ8_ANTG4  PLZ8_BAUMAX  PLZ8_HHZ  PLZ8_GBZ  ARBEIT  \\\n",
       "0         NaN         NaN          NaN       NaN       NaN     NaN   \n",
       "1         2.0         1.0          1.0       5.0       4.0     3.0   \n",
       "2         1.0         0.0          1.0       4.0       4.0     3.0   \n",
       "3         2.0         0.0          1.0       3.0       4.0     2.0   \n",
       "4         2.0         1.0          2.0       3.0       3.0     4.0   \n",
       "\n",
       "   ORTSGR_KLS9  RELAT_AB  \n",
       "0          NaN       NaN  \n",
       "1          5.0       4.0  \n",
       "2          5.0       2.0  \n",
       "3          3.0       3.0  \n",
       "4          6.0       5.0  \n",
       "\n",
       "[5 rows x 85 columns]"
      ]
     },
     "metadata": {},
     "output_type": "display_data"
    }
   ],
   "source": [
    "azdias, feat_info = loadData()\n",
    "print (azdias.shape)\n",
    "display (azdias.head())"
   ]
  },
  {
   "cell_type": "code",
   "execution_count": 5,
   "metadata": {},
   "outputs": [],
   "source": [
    "def loadCustomerData(): \n",
    "    print (\"\\nLoading Data....\")\n",
    "    missing_values_azdias = ['-1',\"''\",'X','XX']\n",
    "    customer = pd.read_csv('Udacity_CUSTOMERS_Subset.csv', delimiter = ';', na_values = missing_values_azdias)\n",
    "    print (\"Customer data loaded.\")\n",
    "    return customer"
   ]
  },
  {
   "cell_type": "markdown",
   "metadata": {},
   "source": [
    "Missing values are being filtered here. '-1' is always a missing value, along with \"''\". This is the easiest place to filter. "
   ]
  },
  {
   "cell_type": "code",
   "execution_count": 6,
   "metadata": {},
   "outputs": [
    {
     "name": "stdout",
     "output_type": "stream",
     "text": [
      "==============================================================================================================\n",
      "Demographics data file for 891221 persons and 85 features. \n",
      "\n"
     ]
    },
    {
     "data": {
      "text/html": [
       "<div>\n",
       "<style scoped>\n",
       "    .dataframe tbody tr th:only-of-type {\n",
       "        vertical-align: middle;\n",
       "    }\n",
       "\n",
       "    .dataframe tbody tr th {\n",
       "        vertical-align: top;\n",
       "    }\n",
       "\n",
       "    .dataframe thead th {\n",
       "        text-align: right;\n",
       "    }\n",
       "</style>\n",
       "<table border=\"1\" class=\"dataframe\">\n",
       "  <thead>\n",
       "    <tr style=\"text-align: right;\">\n",
       "      <th></th>\n",
       "      <th>AGER_TYP</th>\n",
       "      <th>ALTERSKATEGORIE_GROB</th>\n",
       "      <th>ANREDE_KZ</th>\n",
       "      <th>CJT_GESAMTTYP</th>\n",
       "      <th>FINANZ_MINIMALIST</th>\n",
       "      <th>FINANZ_SPARER</th>\n",
       "      <th>FINANZ_VORSORGER</th>\n",
       "      <th>FINANZ_ANLEGER</th>\n",
       "      <th>FINANZ_UNAUFFAELLIGER</th>\n",
       "      <th>FINANZ_HAUSBAUER</th>\n",
       "      <th>...</th>\n",
       "      <th>PLZ8_ANTG1</th>\n",
       "      <th>PLZ8_ANTG2</th>\n",
       "      <th>PLZ8_ANTG3</th>\n",
       "      <th>PLZ8_ANTG4</th>\n",
       "      <th>PLZ8_BAUMAX</th>\n",
       "      <th>PLZ8_HHZ</th>\n",
       "      <th>PLZ8_GBZ</th>\n",
       "      <th>ARBEIT</th>\n",
       "      <th>ORTSGR_KLS9</th>\n",
       "      <th>RELAT_AB</th>\n",
       "    </tr>\n",
       "  </thead>\n",
       "  <tbody>\n",
       "    <tr>\n",
       "      <th>0</th>\n",
       "      <td>NaN</td>\n",
       "      <td>2</td>\n",
       "      <td>1</td>\n",
       "      <td>2.0</td>\n",
       "      <td>3</td>\n",
       "      <td>4</td>\n",
       "      <td>3</td>\n",
       "      <td>5</td>\n",
       "      <td>5</td>\n",
       "      <td>3</td>\n",
       "      <td>...</td>\n",
       "      <td>NaN</td>\n",
       "      <td>NaN</td>\n",
       "      <td>NaN</td>\n",
       "      <td>NaN</td>\n",
       "      <td>NaN</td>\n",
       "      <td>NaN</td>\n",
       "      <td>NaN</td>\n",
       "      <td>NaN</td>\n",
       "      <td>NaN</td>\n",
       "      <td>NaN</td>\n",
       "    </tr>\n",
       "    <tr>\n",
       "      <th>1</th>\n",
       "      <td>NaN</td>\n",
       "      <td>1</td>\n",
       "      <td>2</td>\n",
       "      <td>5.0</td>\n",
       "      <td>1</td>\n",
       "      <td>5</td>\n",
       "      <td>2</td>\n",
       "      <td>5</td>\n",
       "      <td>4</td>\n",
       "      <td>5</td>\n",
       "      <td>...</td>\n",
       "      <td>2.0</td>\n",
       "      <td>3.0</td>\n",
       "      <td>2.0</td>\n",
       "      <td>1.0</td>\n",
       "      <td>1.0</td>\n",
       "      <td>5.0</td>\n",
       "      <td>4.0</td>\n",
       "      <td>3.0</td>\n",
       "      <td>5.0</td>\n",
       "      <td>4.0</td>\n",
       "    </tr>\n",
       "    <tr>\n",
       "      <th>2</th>\n",
       "      <td>NaN</td>\n",
       "      <td>3</td>\n",
       "      <td>2</td>\n",
       "      <td>3.0</td>\n",
       "      <td>1</td>\n",
       "      <td>4</td>\n",
       "      <td>1</td>\n",
       "      <td>2</td>\n",
       "      <td>3</td>\n",
       "      <td>5</td>\n",
       "      <td>...</td>\n",
       "      <td>3.0</td>\n",
       "      <td>3.0</td>\n",
       "      <td>1.0</td>\n",
       "      <td>0.0</td>\n",
       "      <td>1.0</td>\n",
       "      <td>4.0</td>\n",
       "      <td>4.0</td>\n",
       "      <td>3.0</td>\n",
       "      <td>5.0</td>\n",
       "      <td>2.0</td>\n",
       "    </tr>\n",
       "  </tbody>\n",
       "</table>\n",
       "<p>3 rows × 85 columns</p>\n",
       "</div>"
      ],
      "text/plain": [
       "   AGER_TYP  ALTERSKATEGORIE_GROB  ANREDE_KZ  CJT_GESAMTTYP  \\\n",
       "0       NaN                     2          1            2.0   \n",
       "1       NaN                     1          2            5.0   \n",
       "2       NaN                     3          2            3.0   \n",
       "\n",
       "   FINANZ_MINIMALIST  FINANZ_SPARER  FINANZ_VORSORGER  FINANZ_ANLEGER  \\\n",
       "0                  3              4                 3               5   \n",
       "1                  1              5                 2               5   \n",
       "2                  1              4                 1               2   \n",
       "\n",
       "   FINANZ_UNAUFFAELLIGER  FINANZ_HAUSBAUER    ...     PLZ8_ANTG1  PLZ8_ANTG2  \\\n",
       "0                      5                 3    ...            NaN         NaN   \n",
       "1                      4                 5    ...            2.0         3.0   \n",
       "2                      3                 5    ...            3.0         3.0   \n",
       "\n",
       "   PLZ8_ANTG3  PLZ8_ANTG4  PLZ8_BAUMAX  PLZ8_HHZ  PLZ8_GBZ  ARBEIT  \\\n",
       "0         NaN         NaN          NaN       NaN       NaN     NaN   \n",
       "1         2.0         1.0          1.0       5.0       4.0     3.0   \n",
       "2         1.0         0.0          1.0       4.0       4.0     3.0   \n",
       "\n",
       "   ORTSGR_KLS9  RELAT_AB  \n",
       "0          NaN       NaN  \n",
       "1          5.0       4.0  \n",
       "2          5.0       2.0  \n",
       "\n",
       "[3 rows x 85 columns]"
      ]
     },
     "metadata": {},
     "output_type": "display_data"
    },
    {
     "name": "stdout",
     "output_type": "stream",
     "text": [
      "==============================================================================================================\n",
      "Feature Summary file has 85 features and 4 attributes:\n"
     ]
    },
    {
     "data": {
      "text/html": [
       "<div>\n",
       "<style scoped>\n",
       "    .dataframe tbody tr th:only-of-type {\n",
       "        vertical-align: middle;\n",
       "    }\n",
       "\n",
       "    .dataframe tbody tr th {\n",
       "        vertical-align: top;\n",
       "    }\n",
       "\n",
       "    .dataframe thead th {\n",
       "        text-align: right;\n",
       "    }\n",
       "</style>\n",
       "<table border=\"1\" class=\"dataframe\">\n",
       "  <thead>\n",
       "    <tr style=\"text-align: right;\">\n",
       "      <th></th>\n",
       "      <th>attribute</th>\n",
       "      <th>information_level</th>\n",
       "      <th>type</th>\n",
       "      <th>missing_or_unknown</th>\n",
       "    </tr>\n",
       "  </thead>\n",
       "  <tbody>\n",
       "    <tr>\n",
       "      <th>0</th>\n",
       "      <td>AGER_TYP</td>\n",
       "      <td>person</td>\n",
       "      <td>categorical</td>\n",
       "      <td>[-1,0]</td>\n",
       "    </tr>\n",
       "    <tr>\n",
       "      <th>1</th>\n",
       "      <td>ALTERSKATEGORIE_GROB</td>\n",
       "      <td>person</td>\n",
       "      <td>ordinal</td>\n",
       "      <td>[-1,0,9]</td>\n",
       "    </tr>\n",
       "    <tr>\n",
       "      <th>2</th>\n",
       "      <td>ANREDE_KZ</td>\n",
       "      <td>person</td>\n",
       "      <td>categorical</td>\n",
       "      <td>[-1,0]</td>\n",
       "    </tr>\n",
       "  </tbody>\n",
       "</table>\n",
       "</div>"
      ],
      "text/plain": [
       "              attribute information_level         type missing_or_unknown\n",
       "0              AGER_TYP            person  categorical             [-1,0]\n",
       "1  ALTERSKATEGORIE_GROB            person      ordinal           [-1,0,9]\n",
       "2             ANREDE_KZ            person  categorical             [-1,0]"
      ]
     },
     "metadata": {},
     "output_type": "display_data"
    },
    {
     "name": "stdout",
     "output_type": "stream",
     "text": [
      "==============================================================================================================\n"
     ]
    }
   ],
   "source": [
    "# Check the structure of the data after it's loaded (e.g. print the number of\n",
    "# rows and columns, print the first few rows). Shape and Head.\n",
    "print (\"=\" * 110)\n",
    "print ('Demographics data file for {} persons and {} features. \\n'.format(azdias.shape[0], azdias.shape[1]))\n",
    "\n",
    "display (azdias.head(3))\n",
    "print (\"=\" * 110)\n",
    "\n",
    "print ('Feature Summary file has {} features and {} attributes:'.format(feat_info.shape[0], feat_info.shape[1]))\n",
    "display (feat_info.head(3))\n",
    "print (\"=\" * 110)"
   ]
  },
  {
   "cell_type": "markdown",
   "metadata": {},
   "source": [
    "> **Tip**: Add additional cells to keep everything in reasonably-sized chunks! Keyboard shortcut `esc --> a` (press escape to enter command mode, then press the 'A' key) adds a new cell before the active cell, and `esc --> b` adds a new cell after the active cell. If you need to convert an active cell to a markdown cell, use `esc --> m` and to convert to a code cell, use `esc --> y`. \n",
    "\n",
    "## Step 1: Preprocessing\n",
    "\n",
    "### Step 1.1: Assess Missing Data\n",
    "\n",
    "The feature summary file contains a summary of properties for each demographics data column. You will use this file to help you make cleaning decisions during this stage of the project. First of all, you should assess the demographics data in terms of missing data. Pay attention to the following points as you perform your analysis, and take notes on what you observe. Make sure that you fill in the **Discussion** cell with your findings and decisions at the end of each step that has one!\n",
    "\n",
    "#### Step 1.1.1: Convert Missing Value Codes to NaNs\n",
    "The fourth column of the feature attributes summary (loaded in above as `feat_info`) documents the codes from the data dictionary that indicate missing or unknown data. While the file encodes this as a list (e.g. `[-1,0]`), this will get read in as a string object. You'll need to do a little bit of parsing to make use of it to identify and clean the data. Convert data that matches a 'missing' or 'unknown' value code into a numpy NaN value. You might want to see how much data takes on a 'missing' or 'unknown' code, and how much data is naturally missing, as a point of interest.\n",
    "\n",
    "**As one more reminder, you are encouraged to add additional cells to break up your analysis into manageable chunks.**"
   ]
  },
  {
   "cell_type": "code",
   "execution_count": 7,
   "metadata": {},
   "outputs": [],
   "source": [
    "# Convert missing value codes from string to float list\n",
    "def translate():\n",
    "    print (\"\\nConverting feat_info missing value strings to float....\")\n",
    "    column_names = ['attribute','value']\n",
    "    nancodes = pd.DataFrame(columns = column_names)\n",
    "\n",
    "    for index, value in feat_info['missing_or_unknown'].items():\n",
    "        if type(value) == str:\n",
    "            value = value.translate(str.maketrans({'[':None,']':None})).split(',')\n",
    "            for num  in range(len(value)):\n",
    "                value[num] = float(value[num])\n",
    "        \n",
    "    # for missing values convert to [-1] so they are captured in column summaries:\n",
    "    \n",
    "        if type(value) == np.nan:\n",
    "            value = [-1]\n",
    "        nancodes.loc[index] = [feat_info['attribute'][index],value]\n",
    "    \n",
    "    nancodes.set_index('attribute',inplace=True)\n",
    "    #nancodes.head(3)\n",
    "    return nancodes"
   ]
  },
  {
   "cell_type": "code",
   "execution_count": 8,
   "metadata": {},
   "outputs": [
    {
     "name": "stdout",
     "output_type": "stream",
     "text": [
      "\n",
      "Converting feat_info missing value strings to float....\n"
     ]
    },
    {
     "data": {
      "text/html": [
       "<div>\n",
       "<style scoped>\n",
       "    .dataframe tbody tr th:only-of-type {\n",
       "        vertical-align: middle;\n",
       "    }\n",
       "\n",
       "    .dataframe tbody tr th {\n",
       "        vertical-align: top;\n",
       "    }\n",
       "\n",
       "    .dataframe thead th {\n",
       "        text-align: right;\n",
       "    }\n",
       "</style>\n",
       "<table border=\"1\" class=\"dataframe\">\n",
       "  <thead>\n",
       "    <tr style=\"text-align: right;\">\n",
       "      <th></th>\n",
       "      <th>value</th>\n",
       "    </tr>\n",
       "    <tr>\n",
       "      <th>attribute</th>\n",
       "      <th></th>\n",
       "    </tr>\n",
       "  </thead>\n",
       "  <tbody>\n",
       "    <tr>\n",
       "      <th>AGER_TYP</th>\n",
       "      <td>[-1.0, 0.0]</td>\n",
       "    </tr>\n",
       "    <tr>\n",
       "      <th>ALTERSKATEGORIE_GROB</th>\n",
       "      <td>[-1.0, 0.0, 9.0]</td>\n",
       "    </tr>\n",
       "    <tr>\n",
       "      <th>ANREDE_KZ</th>\n",
       "      <td>[-1.0, 0.0]</td>\n",
       "    </tr>\n",
       "    <tr>\n",
       "      <th>CJT_GESAMTTYP</th>\n",
       "      <td>[0.0]</td>\n",
       "    </tr>\n",
       "    <tr>\n",
       "      <th>FINANZ_MINIMALIST</th>\n",
       "      <td>[-1.0]</td>\n",
       "    </tr>\n",
       "  </tbody>\n",
       "</table>\n",
       "</div>"
      ],
      "text/plain": [
       "                                 value\n",
       "attribute                             \n",
       "AGER_TYP                   [-1.0, 0.0]\n",
       "ALTERSKATEGORIE_GROB  [-1.0, 0.0, 9.0]\n",
       "ANREDE_KZ                  [-1.0, 0.0]\n",
       "CJT_GESAMTTYP                    [0.0]\n",
       "FINANZ_MINIMALIST               [-1.0]"
      ]
     },
     "execution_count": 8,
     "metadata": {},
     "output_type": "execute_result"
    }
   ],
   "source": [
    "nancodes = translate()\n",
    "nancodes.head() "
   ]
  },
  {
   "cell_type": "code",
   "execution_count": 9,
   "metadata": {},
   "outputs": [
    {
     "name": "stdout",
     "output_type": "stream",
     "text": [
      "\n",
      "Selecting cells for missing value replacement.....\n",
      "nan\n",
      "9.0\n",
      "nan\n"
     ]
    }
   ],
   "source": [
    "    # For validation:\n",
    "    print (\"\\nSelecting cells for missing value replacement.....\")\n",
    "    print (azdias['AGER_TYP'][0])\n",
    "    print (azdias['ARBEIT'][4158])\n",
    "    print (azdias['CAMEO_DEUG_2015'][2511])"
   ]
  },
  {
   "cell_type": "code",
   "execution_count": 10,
   "metadata": {},
   "outputs": [],
   "source": [
    "def values_to_codes(df_main, df_lookup):\n",
    "    print (\"\\nReplacing dataframe missing values with np.nan...\")\n",
    "    for column in df_main.columns: \n",
    "        if column in df_lookup.index: \n",
    "            #print (column, df_lookup.loc[column][0])\n",
    "            df_main[column] = df_main[column].replace(nancodes.loc[column][0], np.nan)\n",
    " \n",
    "        else:\n",
    "            pass\n",
    "    return df_main"
   ]
  },
  {
   "cell_type": "code",
   "execution_count": 11,
   "metadata": {},
   "outputs": [
    {
     "name": "stdout",
     "output_type": "stream",
     "text": [
      "\n",
      "Replacing dataframe missing values with np.nan...\n"
     ]
    }
   ],
   "source": [
    "azdias = values_to_codes(azdias,nancodes)"
   ]
  },
  {
   "cell_type": "code",
   "execution_count": 12,
   "metadata": {},
   "outputs": [
    {
     "name": "stdout",
     "output_type": "stream",
     "text": [
      "Validating nan replacement....\n",
      "nan\n",
      "nan\n",
      "nan\n"
     ]
    }
   ],
   "source": [
    "    print (\"Validating nan replacement....\")\n",
    "    print (azdias['AGER_TYP'][0])\n",
    "    print (azdias['ARBEIT'][4158])\n",
    "    print (azdias['CAMEO_DEUG_2015'][2511])"
   ]
  },
  {
   "cell_type": "markdown",
   "metadata": {},
   "source": [
    "The 9.0 was succesfully converted to 'nan'. "
   ]
  },
  {
   "cell_type": "markdown",
   "metadata": {},
   "source": [
    "#### Step 1.1.2: Assess Missing Data in Each Column\n",
    "\n",
    "How much missing data is present in each column? There are a few columns that are outliers in terms of the proportion of values that are missing. You will want to use matplotlib's [`hist()`](https://matplotlib.org/api/_as_gen/matplotlib.pyplot.hist.html) function to visualize the distribution of missing value counts to find these columns. Identify and document these columns. While some of these columns might have justifications for keeping or re-encoding the data, for this project you should just remove them from the dataframe. (Feel free to make remarks about these outlier columns in the discussion, however!)\n",
    "\n",
    "For the remaining features, are there any patterns in which columns have, or share, missing data?"
   ]
  },
  {
   "cell_type": "markdown",
   "metadata": {},
   "source": []
  },
  {
   "cell_type": "code",
   "execution_count": 13,
   "metadata": {},
   "outputs": [],
   "source": [
    "#Calulating the number of missing values per column using isnull. \n",
    "def count_columns(df): \n",
    "    print (\"\\nCounting the number of missing values per column....\")\n",
    "    total_missing_values_by_column = df.isnull().sum()  \n",
    "    col_nan_count = total_missing_values_by_column.to_frame('Count_NaN')\n",
    "    col_nan_count.insert(loc=0,column='Column Name',value = col_nan_count.index)\n",
    "    col_nan_count = col_nan_count.reset_index(drop=True)\n",
    "    col_nan_count = col_nan_count.sort_values(by = 'Count_NaN',ascending = False)\n",
    "    display (col_nan_count.head(3))\n",
    "    return col_nan_count,total_missing_values_by_column"
   ]
  },
  {
   "cell_type": "code",
   "execution_count": 14,
   "metadata": {},
   "outputs": [
    {
     "name": "stdout",
     "output_type": "stream",
     "text": [
      "\n",
      "Counting the number of missing values per column....\n"
     ]
    },
    {
     "data": {
      "text/html": [
       "<div>\n",
       "<style scoped>\n",
       "    .dataframe tbody tr th:only-of-type {\n",
       "        vertical-align: middle;\n",
       "    }\n",
       "\n",
       "    .dataframe tbody tr th {\n",
       "        vertical-align: top;\n",
       "    }\n",
       "\n",
       "    .dataframe thead th {\n",
       "        text-align: right;\n",
       "    }\n",
       "</style>\n",
       "<table border=\"1\" class=\"dataframe\">\n",
       "  <thead>\n",
       "    <tr style=\"text-align: right;\">\n",
       "      <th></th>\n",
       "      <th>Column Name</th>\n",
       "      <th>Count_NaN</th>\n",
       "    </tr>\n",
       "  </thead>\n",
       "  <tbody>\n",
       "    <tr>\n",
       "      <th>40</th>\n",
       "      <td>TITEL_KZ</td>\n",
       "      <td>889061</td>\n",
       "    </tr>\n",
       "    <tr>\n",
       "      <th>0</th>\n",
       "      <td>AGER_TYP</td>\n",
       "      <td>685843</td>\n",
       "    </tr>\n",
       "    <tr>\n",
       "      <th>47</th>\n",
       "      <td>KK_KUNDENTYP</td>\n",
       "      <td>584612</td>\n",
       "    </tr>\n",
       "  </tbody>\n",
       "</table>\n",
       "</div>"
      ],
      "text/plain": [
       "     Column Name  Count_NaN\n",
       "40      TITEL_KZ     889061\n",
       "0       AGER_TYP     685843\n",
       "47  KK_KUNDENTYP     584612"
      ]
     },
     "metadata": {},
     "output_type": "display_data"
    }
   ],
   "source": [
    "col_nan_count, total_missing_values_by_column = count_columns(azdias)"
   ]
  },
  {
   "cell_type": "code",
   "execution_count": 15,
   "metadata": {
    "scrolled": false
   },
   "outputs": [],
   "source": [
    "def plot_missing_by_cols(totals): \n",
    "    #Histogram of the number of missing values per column (featrure).\n",
    "    xref = [40000,200000]\n",
    "    ref_colors=['r','g','y']\n",
    "\n",
    "    for ref, c in zip(xref,ref_colors):\n",
    "        plt.axvline(x=ref, c=c, label= 'ref at = {}'.format(ref))\n",
    "    plt.legend()\n",
    "    plt.grid(True)\n",
    "    plt.xlabel('Count of NaN')\n",
    "    plt.ylabel('Number of Columns')\n",
    "    plt.title('Distibution of Missing Values by Column')\n",
    "    plt.hist(totals.values,50)\n",
    "    plt.show()"
   ]
  },
  {
   "cell_type": "code",
   "execution_count": 16,
   "metadata": {},
   "outputs": [
    {
     "data": {
      "image/png": "[encoded data removed]",
      "text/plain": [
       "<matplotlib.figure.Figure at 0x7f42c4bf9668>"
      ]
     },
     "metadata": {
      "needs_background": "light"
     },
     "output_type": "display_data"
    }
   ],
   "source": [
    "plot_missing_by_cols(total_missing_values_by_column)\n"
   ]
  },
  {
   "cell_type": "markdown",
   "metadata": {},
   "source": [
    "Below is a sorted, ascending list of unique column counts. There are 53 columns with NaN and only 16 unique counts.  The data is not randomly distributed and there is clustering. "
   ]
  },
  {
   "cell_type": "code",
   "execution_count": 17,
   "metadata": {},
   "outputs": [],
   "source": [
    "\n",
    "def dropColumns(df,limit):\n",
    "    print (\"\\nDropping outlier columns from the dataset per limit.....\")\n",
    "    drop_columns = list(df.isnull().sum()[df.isnull().sum()>limit].index)\n",
    "    print (\"Number of columns in dropped list: \",len(drop_columns))\n",
    "    print (\"Before dropping: \",df.shape)\n",
    "    df = df.drop(drop_columns, axis = 1)\n",
    "    print (\"After dropping: \",df.shape)\n",
    "    return df"
   ]
  },
  {
   "cell_type": "code",
   "execution_count": 18,
   "metadata": {},
   "outputs": [
    {
     "name": "stdout",
     "output_type": "stream",
     "text": [
      "\n",
      "Dropping outlier columns from the dataset per limit.....\n",
      "Number of columns in dropped list:  6\n",
      "Before dropping:  (891221, 85)\n",
      "After dropping:  (891221, 79)\n"
     ]
    }
   ],
   "source": [
    "azdias = dropColumns(azdias,200000)"
   ]
  },
  {
   "cell_type": "markdown",
   "metadata": {},
   "source": [
    "#### Discussion 1.1.2: Assess Missing Data in Each Column\n",
    "\n",
    "Since I filtered the incoming data, fewer columns than typical are dropped. "
   ]
  },
  {
   "cell_type": "markdown",
   "metadata": {},
   "source": [
    "#### Step 1.1.3: Assess Missing Data in Each Row\n",
    "\n",
    "Now, you'll perform a similar assessment for the rows of the dataset. How much data is missing in each row? As with the columns, you should see some groups of points that have a very different numbers of missing values. Divide the data into two subsets: one for data points that are above some threshold for missing values, and a second subset for points below that threshold.\n",
    "\n",
    "In order to know what to do with the outlier rows, we should see if the distribution of data values on columns that are not missing data (or are missing very little data) are similar or different between the two groups. Select at least five of these columns and compare the distribution of values.\n",
    "- You can use seaborn's [`countplot()`](https://seaborn.pydata.org/generated/seaborn.countplot.html) function to create a bar chart of code frequencies and matplotlib's [`subplot()`](https://matplotlib.org/api/_as_gen/matplotlib.pyplot.subplot.html) function to put bar charts for the two subplots side by side.\n",
    "- To reduce repeated code, you might want to write a function that can perform this comparison, taking as one of its arguments a column to be compared.\n",
    "\n",
    "Depending on what you observe in your comparison, this will have implications on how you approach your conclusions later in the analysis. If the distributions of non-missing features look similar between the data with many missing values and the data with few or no missing values, then we could argue that simply dropping those points from the analysis won't present a major issue. On the other hand, if the data with many missing values looks very different from the data with few or no missing values, then we should make a note on those data as special. We'll revisit these data later on. **Either way, you should continue your analysis for now using just the subset of the data with few or no missing values.**"
   ]
  },
  {
   "cell_type": "code",
   "execution_count": 19,
   "metadata": {},
   "outputs": [],
   "source": [
    "def countRows(df):\n",
    "    # Missing data in each row of the dataset\n",
    "    row_total = df.isnull().sum(axis=1)\n",
    "    row_total[np.isfinite(row_total)]\n",
    "    row_nan_count = row_total.to_frame('Count_NaN')\n",
    "    row_nan_count.insert(loc=0,column='Row',value = row_nan_count.index)\n",
    "    row_nan_count = row_nan_count.reset_index(drop=True)\n",
    "    row_nan_count = row_nan_count.sort_values(by = 'Count_NaN',ascending = False)\n",
    "    print (row_nan_count.shape)\n",
    "    #display (row_nan_count.head())\n",
    "    return row_nan_count, row_total "
   ]
  },
  {
   "cell_type": "code",
   "execution_count": 20,
   "metadata": {},
   "outputs": [
    {
     "name": "stdout",
     "output_type": "stream",
     "text": [
      "(891221, 2)\n"
     ]
    }
   ],
   "source": [
    "row_nan_count, row_total = countRows(azdias)"
   ]
  },
  {
   "cell_type": "markdown",
   "metadata": {},
   "source": [
    " How much data is missing in each row of the dataset? Will be summarized in a histogram instead. "
   ]
  },
  {
   "cell_type": "code",
   "execution_count": 21,
   "metadata": {},
   "outputs": [],
   "source": [
    "# How much data is missing in each row of the dataset? \n",
    "# Shown as historgram. \n",
    "\n",
    "def plot_rowCount(rowcount): \n",
    "    xref = [25]\n",
    "    ref_colors=['y']\n",
    "\n",
    "    for ref, c in zip(xref,ref_colors):\n",
    "        plt.axvline(x=ref, c=c, label= 'limit at = {}'.format(ref))\n",
    "    plt.legend()\n",
    "    plt.grid(True)\n",
    "    plt.xlabel('Count of NaN')\n",
    "    plt.ylabel('Rows')\n",
    "    plt.title('Distibution of Missing Values by Row')\n",
    "    plt.hist(rowcount['Count_NaN'],50)\n",
    "    plt.show()"
   ]
  },
  {
   "cell_type": "code",
   "execution_count": 22,
   "metadata": {},
   "outputs": [
    {
     "data": {
      "image/png": "[encoded data removed]",
      "text/plain": [
       "<matplotlib.figure.Figure at 0x7f42c2aa6ef0>"
      ]
     },
     "metadata": {
      "needs_background": "light"
     },
     "output_type": "display_data"
    }
   ],
   "source": [
    "plot_rowCount(row_nan_count)"
   ]
  },
  {
   "cell_type": "code",
   "execution_count": 23,
   "metadata": {},
   "outputs": [],
   "source": [
    "# Spliting the rows into hi and low values for missing data: \n",
    "\n",
    "def split_rows(limit):\n",
    "    nan_rowcount = azdias.isnull().sum(axis=1)\n",
    "    \n",
    "    rows_lower = nan_rowcount[nan_rowcount <= limit]\n",
    "    rows_higher = nan_rowcount[nan_rowcount > limit]\n",
    "    print('rows with higher missing values:', rows_higher.shape[0], 'or', \\\n",
    "      np.round(rows_higher.shape[0]*100/nan_rowcount.shape[0],2), '% ')\n",
    "    print('rows with lower missing values:', rows_lower.shape[0], 'or', \\\n",
    "      np.round(rows_lower.shape[0]*100/nan_rowcount.shape[0],2), '% ')\n",
    "    return nan_rowcount, rows_lower,rows_higher"
   ]
  },
  {
   "cell_type": "code",
   "execution_count": 24,
   "metadata": {},
   "outputs": [
    {
     "name": "stdout",
     "output_type": "stream",
     "text": [
      "rows with higher missing values: 93260 or 10.46 % \n",
      "rows with lower missing values: 797961 or 89.54 % \n"
     ]
    }
   ],
   "source": [
    "nan_rowcount, rows_lower, rows_higher = split_rows(25)"
   ]
  },
  {
   "cell_type": "code",
   "execution_count": 25,
   "metadata": {},
   "outputs": [],
   "source": [
    "#for the 2 subsets of rows, filter by columns with low or no failures: \n",
    "\n",
    "def rows_filterBy_col(column): \n",
    "    rows_lower_colfilter = azdias.loc[rows_lower.index,column]\n",
    "    rows_higher_colfilter = azdias.loc[rows_higher.index,column]\n",
    "    rows_lower_colfilter = rows_lower_colfilter[np.isfinite(rows_lower_colfilter)]\n",
    "    rows_higher_colfilter = rows_higher_colfilter[np.isfinite(rows_higher_colfilter)]\n",
    "    #print (\"rows_lower_colfilter: \\n\",rows_lower_colfilter[:30])\n",
    "    #print (\"\\nrows_higher_colfilter:\\n \",rows_higher_colfilter[:30] )\n",
    "    return column, rows_lower_colfilter, rows_higher_colfilter"
   ]
  },
  {
   "cell_type": "code",
   "execution_count": 26,
   "metadata": {},
   "outputs": [],
   "source": [
    "column, rows_lower_colfilter, rows_higher_colfilter = rows_filterBy_col('ALTERSKATEGORIE_GROB')"
   ]
  },
  {
   "cell_type": "code",
   "execution_count": 27,
   "metadata": {},
   "outputs": [],
   "source": [
    "df_col1 = rows_filterBy_col('ALTERSKATEGORIE_GROB')\n",
    "df_col2 = rows_filterBy_col('FINANZTYP')\n",
    "df_col3 = rows_filterBy_col('FINANZ_UNAUFFAELLIGER')\n",
    "df_col4 = rows_filterBy_col('FINANZ_SPARER')\n",
    "df_col5 = rows_filterBy_col('FINANZ_HAUSBAUER')\n",
    "df_col6 = rows_filterBy_col('FINANZ_MINIMALIST')"
   ]
  },
  {
   "cell_type": "code",
   "execution_count": 28,
   "metadata": {},
   "outputs": [],
   "source": [
    "\n",
    "#defining function to compare missing values in specified column\n",
    "import matplotlib.pyplot as plt\n",
    "plt.style.use('seaborn-deep')\n",
    "def make_histos(df_col1,df_col2,df_col3,df_col4,df_col5,df_col6):\n",
    "   \n",
    "    bins = 20\n",
    "    bins = np.linspace(0, 10, 50)\n",
    "    \n",
    "    column1, df1, df2 = df_col1\n",
    "    column2, df3, df4 = df_col2\n",
    "    column3, df5, df6 = df_col3\n",
    "    column4, df7, df8 = df_col4\n",
    "    column5, df9, df10 = df_col5\n",
    "    column6, df11, df12 = df_col6\n",
    "\n",
    "    fig, ax = plt.subplots(2,3, sharex=True,sharey=True,figsize=(14,4),gridspec_kw={'hspace': 0.3})\n",
    "    \n",
    "    ax0, ax1,ax2,ax3,ax4,ax5 = ax.flatten()\n",
    "     \n",
    "    ax0.hist(df1,bins,label='Lower',histtype='bar',stacked = False)\n",
    "    ax0.hist(df2,bins,label='Higher',histtype='bar', stacked = False)\n",
    "    ax0.set_title('Category: ' + column1)\n",
    "    ax0.legend(loc='upper right')\n",
    "    ax0.grid(True)\n",
    "    \n",
    "    ax1.hist(df3,bins,label='Lower',stacked = False)\n",
    "    ax1.hist(df4,bins,label='Higher',stacked = False)\n",
    "    ax1.set_title('Category: ' + column2)\n",
    "    ax1.legend(loc='upper right')\n",
    "    ax1.grid(True)\n",
    "    \n",
    "    ax2.hist(df5,bins,label='Lower',stacked = False)\n",
    "    ax2.hist(df6,bins,label='Higher',stacked = False)\n",
    "    ax2.set_title('Category: ' + column3)\n",
    "    ax2.legend(loc='upper right')\n",
    "    ax2.grid(True)\n",
    "        \n",
    "    ax3.hist(df7,bins,label='Lower',stacked = False)\n",
    "    ax3.hist(df8,bins,label='Higher',stacked = False)\n",
    "    ax3.set_title('Category: ' + column4)\n",
    "    ax3.legend(loc='upper right')\n",
    "    ax3.grid(True)\n",
    "    \n",
    "    ax4.hist(df9,bins,label='Lower',stacked = False)\n",
    "    ax4.hist(df10,bins,label='Higher',stacked = False)\n",
    "    ax4.set_title('Category: ' + column5)\n",
    "    ax4.legend(loc='upper right')\n",
    "    ax4.grid(True)\n",
    "    \n",
    "    ax5.hist(df11,bins,label='Lower',stacked = False)\n",
    "    ax5.hist(df12,bins,label='Higher',stacked = False)\n",
    "    ax5.set_title('Category: ' + column6)\n",
    "    ax5.legend(loc='upper right')\n",
    "    ax5.grid(True)\n",
    "    \n",
    "    plt.subplots_adjust(wspace= 0.1)\n",
    "    plt.legend(loc='upper right')\n",
    " \n",
    "    fig.text(0.5,0.04,'Category Code', ha='center')\n",
    "    fig.text(0.04,0.5,'Number of Rows', va='center', rotation='vertical')\n",
    "    plt.show()\n",
    "    return\n",
    "\n",
    "#figure, axs = plt.subplots(nrows=len(compare_columns), ncols=2, figsize = (15,20))\n",
    "#figure.subplots_adjust(hspace = 1, wspace=.3)"
   ]
  },
  {
   "cell_type": "code",
   "execution_count": 29,
   "metadata": {},
   "outputs": [
    {
     "data": {
      "image/png": "[encoded data removed]",
      "text/plain": [
       "<matplotlib.figure.Figure at 0x7f42c296c1d0>"
      ]
     },
     "metadata": {
      "needs_background": "light"
     },
     "output_type": "display_data"
    }
   ],
   "source": [
    "make_histos(df_col1,df_col2,df_col3,df_col4,df_col5,df_col5)"
   ]
  },
  {
   "cell_type": "code",
   "execution_count": 30,
   "metadata": {},
   "outputs": [],
   "source": [
    "def dropRows(df,limit):\n",
    "    print (\"\\nDropping outlier rows from the dataset per limit.....\")\n",
    "    print (\"\\nBefore dropping: \",df.shape)\n",
    "    nan_rowcount = df.isnull().sum(axis=1)\n",
    "    #plot_rowCount(nan_rowcount)\n",
    "    drop_rows  = nan_rowcount[nan_rowcount > limit]\n",
    "    #print (\"drop_rows: \",drop_rows)\n",
    "    #print (drop_rows.index)\n",
    "    print (\"Number of rows in dropped list: \",len(drop_rows))\n",
    "    df_drop = df.drop(drop_rows.index, axis = 0)\n",
    "    print (\"After dropping: \",df_drop.shape)\n",
    "    return df_drop"
   ]
  },
  {
   "cell_type": "code",
   "execution_count": 31,
   "metadata": {},
   "outputs": [
    {
     "name": "stdout",
     "output_type": "stream",
     "text": [
      "\n",
      "Dropping outlier rows from the dataset per limit.....\n",
      "\n",
      "Before dropping:  (891221, 79)\n",
      "Number of rows in dropped list:  93260\n",
      "After dropping:  (797961, 79)\n"
     ]
    }
   ],
   "source": [
    "azdias = dropRows(azdias,25)"
   ]
  },
  {
   "cell_type": "markdown",
   "metadata": {},
   "source": [
    "#### Discussion 1.1.3: Assess Missing Data in Each Row\n",
    "\n",
    " Some columns have similarites,ALTERSKATEGORIE_GROB or estimated age, has the highest number for bin 3, or 46-60 year olds, although the magnitude for the rows with fewer missing values is much greater. However, for FINANZ_MINIMALIST, the largest bucket is for '1' which is 'very high' while for higher missing values '5' has the largest number, compared to the other bins. So in these case it looks different. \n",
    " \n",
    " in general, the rows with fewer missing values have more data so the magnitude of the 'Lower' bars is greater. The next step would be to plot in percent to see how much difference there is. "
   ]
  },
  {
   "cell_type": "markdown",
   "metadata": {},
   "source": [
    "### Step 1.2: Select and Re-Encode Features\n",
    "\n",
    "Checking for missing data isn't the only way in which you can prepare a dataset for analysis. Since the unsupervised learning techniques to be used will only work on data that is encoded numerically, you need to make a few encoding changes or additional assumptions to be able to make progress. In addition, while almost all of the values in the dataset are encoded using numbers, not all of them represent numeric values. Check the third column of the feature summary (`feat_info`) for a summary of types of measurement.\n",
    "- For numeric and interval data, these features can be kept without changes.\n",
    "- Most of the variables in the dataset are ordinal in nature. While ordinal values may technically be non-linear in spacing, make the simplifying assumption that the ordinal variables can be treated as being interval in nature (that is, kept without any changes).\n",
    "- Special handling may be necessary for the remaining two variable types: categorical, and 'mixed'.\n",
    "\n",
    "In the first two parts of this sub-step, you will perform an investigation of the categorical and mixed-type features and make a decision on each of them, whether you will keep, drop, or re-encode each. Then, in the last part, you will create a new data frame with only the selected and engineered columns.\n",
    "\n",
    "Data wrangling is often the trickiest part of the data analysis process, and there's a lot of it to be done here. But stick with it: once you're done with this step, you'll be ready to get to the machine learning parts of the project!"
   ]
  },
  {
   "cell_type": "code",
   "execution_count": 32,
   "metadata": {},
   "outputs": [
    {
     "data": {
      "text/html": [
       "<div>\n",
       "<style scoped>\n",
       "    .dataframe tbody tr th:only-of-type {\n",
       "        vertical-align: middle;\n",
       "    }\n",
       "\n",
       "    .dataframe tbody tr th {\n",
       "        vertical-align: top;\n",
       "    }\n",
       "\n",
       "    .dataframe thead th {\n",
       "        text-align: right;\n",
       "    }\n",
       "</style>\n",
       "<table border=\"1\" class=\"dataframe\">\n",
       "  <thead>\n",
       "    <tr style=\"text-align: right;\">\n",
       "      <th></th>\n",
       "      <th>attribute</th>\n",
       "      <th>information_level</th>\n",
       "      <th>type</th>\n",
       "      <th>missing_or_unknown</th>\n",
       "    </tr>\n",
       "  </thead>\n",
       "  <tbody>\n",
       "    <tr>\n",
       "      <th>0</th>\n",
       "      <td>AGER_TYP</td>\n",
       "      <td>person</td>\n",
       "      <td>categorical</td>\n",
       "      <td>[-1,0]</td>\n",
       "    </tr>\n",
       "    <tr>\n",
       "      <th>1</th>\n",
       "      <td>ALTERSKATEGORIE_GROB</td>\n",
       "      <td>person</td>\n",
       "      <td>ordinal</td>\n",
       "      <td>[-1,0,9]</td>\n",
       "    </tr>\n",
       "    <tr>\n",
       "      <th>2</th>\n",
       "      <td>ANREDE_KZ</td>\n",
       "      <td>person</td>\n",
       "      <td>categorical</td>\n",
       "      <td>[-1,0]</td>\n",
       "    </tr>\n",
       "  </tbody>\n",
       "</table>\n",
       "</div>"
      ],
      "text/plain": [
       "              attribute information_level         type missing_or_unknown\n",
       "0              AGER_TYP            person  categorical             [-1,0]\n",
       "1  ALTERSKATEGORIE_GROB            person      ordinal           [-1,0,9]\n",
       "2             ANREDE_KZ            person  categorical             [-1,0]"
      ]
     },
     "metadata": {},
     "output_type": "display_data"
    },
    {
     "data": {
      "text/plain": [
       "ordinal        49\n",
       "categorical    21\n",
       "mixed           7\n",
       "numeric         7\n",
       "interval        1\n",
       "Name: type, dtype: int64"
      ]
     },
     "metadata": {},
     "output_type": "display_data"
    }
   ],
   "source": [
    "# How many features are there of each data type?\n",
    "display (feat_info.head(3))\n",
    "display (feat_info['type'].value_counts())"
   ]
  },
  {
   "cell_type": "markdown",
   "metadata": {},
   "source": [
    "#### Step 1.2.1: Re-Encode Categorical Features\n",
    "\n",
    "For categorical data, you would ordinarily need to encode the levels as dummy variables. Depending on the number of categories, perform one of the following:\n",
    "- For binary (two-level) categoricals that take numeric values, you can keep them without needing to do anything.\n",
    "- There is one binary variable that takes on non-numeric values. For this one, you need to re-encode the values as numbers or create a dummy variable.\n",
    "- For multi-level categoricals (three or more values), you can choose to encode the values using multiple dummy variables (e.g. via [OneHotEncoder](http://scikit-learn.org/stable/modules/generated/sklearn.preprocessing.OneHotEncoder.html)), or (to keep things straightforward) just drop them from the analysis. As always, document your choices in the Discussion section."
   ]
  },
  {
   "cell_type": "code",
   "execution_count": 33,
   "metadata": {},
   "outputs": [],
   "source": [
    "#azdias,feat_info = reLoad(azdias,feat_info)"
   ]
  },
  {
   "cell_type": "code",
   "execution_count": 34,
   "metadata": {},
   "outputs": [],
   "source": [
    "# Assess categorical variables: which are binary, which are multi-level, and\n",
    "# which one needs to be re-encoded?\n",
    "# Use Feat_info to identify columns with categorical data: \n",
    "def create_binary_multi_categories(df_main, df_lookup):\n",
    "    category_columns = df_lookup.loc[df_lookup['type'] == 'categorical']\n",
    "    #print (category_columns[:3])\n",
    "    multi_categorical = []\n",
    "    binary_categorical = []\n",
    "    for column in category_columns['attribute']:\n",
    "        if column in df_main:\n",
    "            if df_main[column].nunique() <= 2:\n",
    "                #print (\"\\ncolumn binary: \",column, \"nunique: \",df_main[column].nunique())\n",
    "                binary_categorical.append(column)\n",
    "            else:\n",
    "                #print (\"\\ncolumn multi: \",column, \"nunique: \",df_main[column].nunique())\n",
    "                multi_categorical.append(column) \n",
    "    print (\"\\nNumber of multi categorical variables: {} and Number of binary categorical variables: {}\\n\".format \\\n",
    "       (len(multi_categorical),len(binary_categorical)))\n",
    "    #print (\"Binary Categorical Columns: \\n\",binary_categorical)\n",
    "    #print (\"\\nMulti Categorical Columns: \\n\",multi_categorical)\n",
    "    return binary_categorical, multi_categorical"
   ]
  },
  {
   "cell_type": "code",
   "execution_count": 35,
   "metadata": {},
   "outputs": [
    {
     "name": "stdout",
     "output_type": "stream",
     "text": [
      "\n",
      "Number of multi categorical variables: 13 and Number of binary categorical variables: 5\n",
      "\n"
     ]
    }
   ],
   "source": [
    "binary_categorical, multi_categorical = create_binary_multi_categories(azdias,feat_info)"
   ]
  },
  {
   "cell_type": "code",
   "execution_count": 36,
   "metadata": {},
   "outputs": [],
   "source": [
    "# Re-encode categorical variable(s) to be kept in the analysis.\n",
    "def list_binary_multi_categories(df,bin_cat,multi_cat): \n",
    "    print (\"Binary: \\n\")\n",
    "    for column in bin_cat :\n",
    "        print (column,df[column].unique())\n",
    "    print (\"-----\" *20)\n",
    "    print (\"Number of Multi:\\n\")\n",
    "    for column in multi_cat :\n",
    "        print (column,df[column].unique())"
   ]
  },
  {
   "cell_type": "code",
   "execution_count": 37,
   "metadata": {},
   "outputs": [
    {
     "name": "stdout",
     "output_type": "stream",
     "text": [
      "Binary: \n",
      "\n",
      "ANREDE_KZ [2 1]\n",
      "GREEN_AVANTGARDE [0 1]\n",
      "SOHO_KZ [ 1.  0.]\n",
      "VERS_TYP [  2.   1.  nan]\n",
      "OST_WEST_KZ ['W' 'O']\n",
      "----------------------------------------------------------------------------------------------------\n",
      "Number of Multi:\n",
      "\n",
      "CJT_GESAMTTYP [  5.   3.   2.   4.   1.   6.  nan]\n",
      "FINANZTYP [1 6 5 2 4 3]\n",
      "GFK_URLAUBERTYP [ 10.   1.   5.  12.   9.   3.   8.  11.   4.   2.   7.   6.  nan]\n",
      "LP_FAMILIE_FEIN [  5.   1.  nan  10.   2.   7.  11.   8.   4.   6.   9.   3.]\n",
      "LP_FAMILIE_GROB [  3.   1.  nan   5.   2.   4.]\n",
      "LP_STATUS_FEIN [  2.   3.   9.   4.   1.  10.   5.   8.   6.   7.  nan]\n",
      "LP_STATUS_GROB [  1.   2.   4.   5.   3.  nan]\n",
      "NATIONALITAET_KZ [  1.   3.   2.  nan]\n",
      "SHOPPER_TYP [  3.   2.   1.   0.  nan]\n",
      "ZABEOTYP [5 3 4 1 6 2]\n",
      "GEBAEUDETYP [ 8.  1.  3.  2.  6.  4.  5.]\n",
      "CAMEO_DEUG_2015 [  8.   4.   2.   6.   1.   9.   5.   7.  nan   3.]\n",
      "CAMEO_DEU_2015 ['8A' '4C' '2A' '6B' '8C' '4A' '2D' '1A' '1E' '9D' '5C' '8B' '7A' '5D' '9E'\n",
      " nan '9B' '1B' '3D' '4E' '4B' '3C' '5A' '7B' '9A' '6D' '6E' '2C' '7C' '9C'\n",
      " '7D' '5E' '1D' '8D' '6C' '6A' '5B' '4D' '3A' '2B' '7E' '3B' '6F' '5F' '1C']\n"
     ]
    }
   ],
   "source": [
    "list_binary_multi_categories(azdias,binary_categorical,multi_categorical)"
   ]
  },
  {
   "cell_type": "code",
   "execution_count": 38,
   "metadata": {},
   "outputs": [],
   "source": [
    "def encode_binary(df):\n",
    " print (\"\\nBefore Replacement: \",df['OST_WEST_KZ'].unique())\n",
    " df['OST_WEST_KZ'].replace(['W','O'], [1.0,0.0], inplace=True)\n",
    " print (\"After Replacement: \",df['OST_WEST_KZ'].unique())\n",
    " return df"
   ]
  },
  {
   "cell_type": "code",
   "execution_count": 39,
   "metadata": {},
   "outputs": [
    {
     "name": "stdout",
     "output_type": "stream",
     "text": [
      "\n",
      "Before Replacement:  ['W' 'O']\n",
      "After Replacement:  [ 1.  0.]\n"
     ]
    }
   ],
   "source": [
    "azdias = encode_binary(azdias)"
   ]
  },
  {
   "cell_type": "markdown",
   "metadata": {},
   "source": [
    "All binary list being replaced with [1,2]. Along with '-1', '0' reserved for unknown. "
   ]
  },
  {
   "cell_type": "code",
   "execution_count": 40,
   "metadata": {},
   "outputs": [],
   "source": [
    "def encode_multi(df,multi):\n",
    "    print (\"\\nbefore dummies\", df.shape)\n",
    "    df = pd.get_dummies(df, columns = multi)\n",
    "    print (\"after dummy column insertion\", df.shape)\n",
    "    return df"
   ]
  },
  {
   "cell_type": "code",
   "execution_count": 41,
   "metadata": {},
   "outputs": [
    {
     "name": "stdout",
     "output_type": "stream",
     "text": [
      "\n",
      "before dummies (797961, 79)\n",
      "after dummy column insertion (797961, 194)\n"
     ]
    }
   ],
   "source": [
    "azdias = encode_multi(azdias,multi_categorical)"
   ]
  },
  {
   "cell_type": "markdown",
   "metadata": {},
   "source": [
    "#### Discussion 1.2.1: Re-Encode Categorical Features\n",
    "\n",
    "All binary list being replaced with [1,2].  The variables  '-1' and  '0' reserved for unknown. ANREDE_KZ was left untouched as it was correctly formatted. "
   ]
  },
  {
   "cell_type": "markdown",
   "metadata": {},
   "source": [
    "#### Step 1.2.2: Engineer Mixed-Type Features\n",
    "\n",
    "There are a handful of features that are marked as \"mixed\" in the feature summary that require special treatment in order to be included in the analysis. There are two in particular that deserve attention; the handling of the rest are up to your own choices:\n",
    "- \"PRAEGENDE_JUGENDJAHRE\" combines information on three dimensions: generation by decade, movement (mainstream vs. avantgarde), and nation (east vs. west). While there aren't enough levels to disentangle east from west, you should create two new variables to capture the other two dimensions: an interval-type variable for decade, and a binary variable for movement.\n",
    "- \"CAMEO_INTL_2015\" combines information on two axes: wealth and life stage. Break up the two-digit codes by their 'tens'-place and 'ones'-place digits into two new ordinal variables (which, for the purposes of this project, is equivalent to just treating them as their raw numeric values).\n",
    "- If you decide to keep or engineer new features around the other mixed-type features, make sure you note your steps in the Discussion section.\n",
    "\n",
    "Be sure to check `Data_Dictionary.md` for the details needed to finish these tasks."
   ]
  },
  {
   "cell_type": "code",
   "execution_count": 42,
   "metadata": {},
   "outputs": [],
   "source": [
    "# Investigate \"PRAEGENDE_JUGENDJAHRE\" and engineer two new variables.\n",
    "# New variable decade with value corresponding to decade: \n",
    "\n",
    "#generation encoded as '1' for mainstream and '2' for Avantgarde \n",
    "\n",
    "def generation(value):\n",
    "    decades = {0:np.nan,1:40,2:40,3:50,4:50,5:60,6:60,7:60,8:70,9:70,10:80,11:80,12:80,13:80,14:90,15:90}\n",
    "    gen = decades[value]\n",
    "    return gen\n",
    "\n",
    "def movement(value):\n",
    "    movements = {0:np.nan,1:1,2:2,3:1,4:2,5:1,6:2,7:2,8:1,9:2,10:3,11:2,12:1,13:2,14:1,15:2}\n",
    "    gen = movements[value]\n",
    "    return gen\n",
    "\n",
    "#azdias[\"Generation\"] = azdias['PRAEGENDE_JUGENDJAHRE'].fillna(0).apply(generation)\n",
    "#azdias[\"Movement\"] = azdias['PRAEGENDE_JUGENDJAHRE'].fillna(0).apply(movement)\n",
    "\n",
    "#print (azdias[['PRAEGENDE_JUGENDJAHRE','Generation','Movement']].head(7))"
   ]
  },
  {
   "cell_type": "code",
   "execution_count": 43,
   "metadata": {},
   "outputs": [],
   "source": [
    "# Investigate \"CAMEO_INTL_2015\" and engineer two new variables.\n",
    "def wealth(value):\n",
    "    if value == 'XX':\n",
    "        return np.nan\n",
    "    if pd.isnull(value):\n",
    "        return np.nan\n",
    "    else:\n",
    "        return int(str(value)[0])\n",
    "\n",
    "def lifestage(value):\n",
    "    if value == 'XX':\n",
    "        return np.nan\n",
    "    if pd.isnull(value):\n",
    "        return np.nan\n",
    "    else:\n",
    "        return int(str(value)[1])"
   ]
  },
  {
   "cell_type": "code",
   "execution_count": 44,
   "metadata": {},
   "outputs": [],
   "source": [
    "def newVariables(df): \n",
    "    print (\"adding new variables..\", df.shape)\n",
    "    df[\"Generation\"] = df['PRAEGENDE_JUGENDJAHRE'].fillna(0).apply(generation)\n",
    "    df[\"Movement\"] = df['PRAEGENDE_JUGENDJAHRE'].fillna(0).apply(movement)\n",
    "    df['CAMEO_Wealth'] = df['CAMEO_INTL_2015'].apply(wealth)\n",
    "    df['CAMEO_Lifestage'] = df['CAMEO_INTL_2015'].apply(lifestage)\n",
    "    \n",
    "    print (\"Shape after new variables: \",df.shape)\n",
    "    print (df[['CAMEO_INTL_2015','CAMEO_Wealth','CAMEO_Lifestage']].head())\n",
    "    print (df[['PRAEGENDE_JUGENDJAHRE','Generation','Movement']].head())\n",
    "\n",
    "    return df "
   ]
  },
  {
   "cell_type": "code",
   "execution_count": 45,
   "metadata": {},
   "outputs": [
    {
     "name": "stdout",
     "output_type": "stream",
     "text": [
      "(797961, 194)\n",
      "adding new variables.. (797961, 194)\n",
      "Shape after new variables:  (797961, 198)\n",
      "   CAMEO_INTL_2015  CAMEO_Wealth  CAMEO_Lifestage\n",
      "1             51.0           5.0              1.0\n",
      "2             24.0           2.0              4.0\n",
      "3             12.0           1.0              2.0\n",
      "4             43.0           4.0              3.0\n",
      "5             54.0           5.0              4.0\n",
      "   PRAEGENDE_JUGENDJAHRE  Generation  Movement\n",
      "1                   14.0        90.0       1.0\n",
      "2                   15.0        90.0       2.0\n",
      "3                    8.0        70.0       1.0\n",
      "4                    8.0        70.0       1.0\n",
      "5                    3.0        50.0       1.0\n",
      "After newVariables: (797961, 198)\n"
     ]
    }
   ],
   "source": [
    "\n",
    "print (azdias.shape)\n",
    "azdias = newVariables(azdias)\n",
    "print (\"After newVariables:\",azdias.shape)\n"
   ]
  },
  {
   "cell_type": "markdown",
   "metadata": {},
   "source": [
    "#### Discussion 1.2.2: Engineer Mixed-Type Features\n",
    "\n",
    "(Double-click this cell and replace this text with your own text, reporting your findings and decisions regarding mixed-value features. Which ones did you keep, which did you drop, and what engineering steps did you perform?)"
   ]
  },
  {
   "cell_type": "markdown",
   "metadata": {},
   "source": [
    "#### Step 1.2.3: Complete Feature Selection\n",
    "\n",
    "In order to finish this step up, you need to make sure that your data frame now only has the columns that you want to keep. To summarize, the dataframe should consist of the following:\n",
    "- All numeric, interval, and ordinal type columns from the original dataset.\n",
    "- Binary categorical features (all numerically-encoded).\n",
    "- Engineered features from other multi-level categorical features and mixed features.\n",
    "\n",
    "Make sure that for any new columns that you have engineered, that you've excluded the original columns from the final dataset. Otherwise, their values will interfere with the analysis later on the project. For example, you should not keep \"PRAEGENDE_JUGENDJAHRE\", since its values won't be useful for the algorithm: only the values derived from it in the engineered features you created should be retained. As a reminder, your data should only be from **the subset with few or no missing values**."
   ]
  },
  {
   "cell_type": "code",
   "execution_count": 46,
   "metadata": {},
   "outputs": [],
   "source": [
    "# If there are other re-engineering tasks you need to perform, make sure you\n",
    "# take care of them here. (Dealing with missing data will come in step 2.1.)\n",
    "def excludeOriginalColumns(df):\n",
    "    print (\"\\nBefore excluding columns\", df.shape)\n",
    "    if set(['PRAEGENDE_JUGENDJAHRE', 'CAMEO_INTL_2015']).issubset(df.columns):\n",
    "       df = df.drop(['PRAEGENDE_JUGENDJAHRE','CAMEO_INTL_2015'], axis=1)\n",
    "    print (\"After excluding columns\", df.shape)\n",
    "    return df"
   ]
  },
  {
   "cell_type": "code",
   "execution_count": 47,
   "metadata": {},
   "outputs": [
    {
     "name": "stdout",
     "output_type": "stream",
     "text": [
      "\n",
      "Before excluding columns (797961, 198)\n",
      "After excluding columns (797961, 196)\n"
     ]
    }
   ],
   "source": [
    "azdias = excludeOriginalColumns(azdias) "
   ]
  },
  {
   "cell_type": "code",
   "execution_count": 48,
   "metadata": {},
   "outputs": [],
   "source": [
    "# Do whatever you need to in order to ensure that the dataframe only contains\n",
    "# the columns that should be passed to the algorithm functions."
   ]
  },
  {
   "cell_type": "markdown",
   "metadata": {},
   "source": [
    "### Step 1.3: Create a Cleaning Function\n",
    "\n",
    "Even though you've finished cleaning up the general population demographics data, it's important to look ahead to the future and realize that you'll need to perform the same cleaning steps on the customer demographics data. In this substep, complete the function below to execute the main feature selection, encoding, and re-engineering steps you performed above. Then, when it comes to looking at the customer data in Step 3, you can just run this function on that DataFrame to get the trimmed dataset in a single step."
   ]
  },
  {
   "cell_type": "code",
   "execution_count": 49,
   "metadata": {},
   "outputs": [],
   "source": [
    "def myimpute(df):\n",
    "    print (\"Starting Imputer Shape: \",df.shape)\n",
    "    percent = 100*(df.isnull().sum().sum()/(df.shape[0]*df.shape[1]))\n",
    "    print (\"\\nThe total number of missing values before imputing is: {} or {:.1f}%. \\\n",
    "       .\".format(df.isnull().sum().sum(),percent))\n",
    "    imputer = Imputer(missing_values = 'NaN',strategy='most_frequent')\n",
    "\n",
    "    df_cleaned_impute = pd.DataFrame(imputer.fit_transform(df))\n",
    "                                     \n",
    "    df_cleaned_impute.columns = df.columns\n",
    "    df_cleaned_impute.index = df.index\n",
    "                                     \n",
    "    print (\"Final Cleaned, Imputed Shape: \",df_cleaned_impute.shape)\n",
    "    #display (azdias_cleaned_impute.head())\n",
    "    #print (\"\\nMissing Values After Imputing: \",df_cleaned_impute.isnull().sum().sum())\n",
    "    print (\"\\n Imputing completed.\")\n",
    "    return df_cleaned_impute "
   ]
  },
  {
   "cell_type": "code",
   "execution_count": 50,
   "metadata": {},
   "outputs": [],
   "source": [
    "def clean_data1(df,column_limit):\n",
    "    \"\"\"\n",
    "    Perform feature trimming, re-encoding, and engineering for demographics\n",
    "    data\n",
    "    \n",
    "    INPUT: Demographics DataFrame. Column Limit. \n",
    "    OUTPUT: Trimmed and cleaned demographics DataFrame\n",
    "    \"\"\"\n",
    "    start = timer()\n",
    "    \n",
    "    # Convert feat_info missing value codes to np.nan: \n",
    "    nancodes = translate()\n",
    "    \n",
    "    # With corrected feat_info (nancodes), convert nan codes to np.nan \n",
    "    df_missing_codes_replaced = values_to_codes(df,nancodes)\n",
    "    print (df_missing_codes_replaced.shape)\n",
    "    df_missing_codes_replaced.head()\n",
    "    \n",
    "    #count the number of missing values per column:\n",
    "    col_nan_count, total_missing_values_by_column = count_columns(df_missing_codes_replaced)\n",
    "   \n",
    "    # Use plot to define limit for the number of missing values allowed per column.\n",
    "    plot_missing_by_cols(total_missing_values_by_column)\n",
    "    \n",
    "    # Drop columns above limit \n",
    "    df_columns_dropped = dropColumns(df_missing_codes_replaced,column_limit)\n",
    "    print (df_missing_codes_replaced.shape)\n",
    "    \n",
    "    row_nan_count, row_total = countRows(df_columns_dropped)\n",
    "\n",
    "    plot_rowCount(row_nan_count)\n",
    "    \n",
    "    df_rows_dropped = dropRows(df_columns_dropped,25)\n",
    "    print (\"After dropping rows: \",df_rows_dropped.shape)\n",
    "    \n",
    "    binary_categorical, multi_categorical = create_binary_multi_categories(df_rows_dropped,feat_info)\n",
    "\n",
    "    #list_binary_multi_categories(azdias,binary_categorical,multi_categorical)\n",
    "    \n",
    "    df_rows_dropped = encode_binary(df_rows_dropped)\n",
    "    \n",
    "    df_encoded = encode_multi(df_rows_dropped,multi_categorical)\n",
    "    \n",
    "    df_encoded = newVariables(df_encoded)\n",
    "\n",
    "    df_imputed = myimpute(df_encoded) \n",
    "    df_columns_excluded = excludeOriginalColumns(df_imputed) \n",
    "\n",
    "    print (\"\\nEnd of cleaning. \")\n",
    "    end = timer()\n",
    "    print(f\"\\nCleaned data in {end - start:0.0f} seconds\")\n",
    "    \n",
    "    return df_columns_excluded "
   ]
  },
  {
   "cell_type": "code",
   "execution_count": 51,
   "metadata": {},
   "outputs": [
    {
     "name": "stdout",
     "output_type": "stream",
     "text": [
      "\n",
      "Loading Data....\n",
      "General demographic data loaded. Shape:  (891221, 85)\n",
      "\n",
      "Converting feat_info missing value strings to float....\n",
      "\n",
      "Replacing dataframe missing values with np.nan...\n",
      "(891221, 85)\n",
      "\n",
      "Counting the number of missing values per column....\n"
     ]
    },
    {
     "data": {
      "text/html": [
       "<div>\n",
       "<style scoped>\n",
       "    .dataframe tbody tr th:only-of-type {\n",
       "        vertical-align: middle;\n",
       "    }\n",
       "\n",
       "    .dataframe tbody tr th {\n",
       "        vertical-align: top;\n",
       "    }\n",
       "\n",
       "    .dataframe thead th {\n",
       "        text-align: right;\n",
       "    }\n",
       "</style>\n",
       "<table border=\"1\" class=\"dataframe\">\n",
       "  <thead>\n",
       "    <tr style=\"text-align: right;\">\n",
       "      <th></th>\n",
       "      <th>Column Name</th>\n",
       "      <th>Count_NaN</th>\n",
       "    </tr>\n",
       "  </thead>\n",
       "  <tbody>\n",
       "    <tr>\n",
       "      <th>40</th>\n",
       "      <td>TITEL_KZ</td>\n",
       "      <td>889061</td>\n",
       "    </tr>\n",
       "    <tr>\n",
       "      <th>0</th>\n",
       "      <td>AGER_TYP</td>\n",
       "      <td>685843</td>\n",
       "    </tr>\n",
       "    <tr>\n",
       "      <th>47</th>\n",
       "      <td>KK_KUNDENTYP</td>\n",
       "      <td>584612</td>\n",
       "    </tr>\n",
       "  </tbody>\n",
       "</table>\n",
       "</div>"
      ],
      "text/plain": [
       "     Column Name  Count_NaN\n",
       "40      TITEL_KZ     889061\n",
       "0       AGER_TYP     685843\n",
       "47  KK_KUNDENTYP     584612"
      ]
     },
     "metadata": {},
     "output_type": "display_data"
    },
    {
     "data": {
      "image/png": "[encoded data removed]",
      "text/plain": [
       "<matplotlib.figure.Figure at 0x7f42c2102c50>"
      ]
     },
     "metadata": {
      "needs_background": "light"
     },
     "output_type": "display_data"
    },
    {
     "name": "stdout",
     "output_type": "stream",
     "text": [
      "\n",
      "Dropping outlier columns from the dataset per limit.....\n",
      "Number of columns in dropped list:  6\n",
      "Before dropping:  (891221, 85)\n",
      "After dropping:  (891221, 79)\n",
      "(891221, 85)\n",
      "(891221, 2)\n"
     ]
    },
    {
     "data": {
      "image/png": "[encoded data removed]",
      "text/plain": [
       "<matplotlib.figure.Figure at 0x7f42c4bc1710>"
      ]
     },
     "metadata": {
      "needs_background": "light"
     },
     "output_type": "display_data"
    },
    {
     "name": "stdout",
     "output_type": "stream",
     "text": [
      "\n",
      "Dropping outlier rows from the dataset per limit.....\n",
      "\n",
      "Before dropping:  (891221, 79)\n",
      "Number of rows in dropped list:  93260\n",
      "After dropping:  (797961, 79)\n",
      "After dropping rows:  (797961, 79)\n",
      "\n",
      "Number of multi categorical variables: 13 and Number of binary categorical variables: 5\n",
      "\n",
      "\n",
      "Before Replacement:  ['W' 'O']\n",
      "After Replacement:  [ 1.  0.]\n",
      "\n",
      "before dummies (797961, 79)\n",
      "after dummy column insertion (797961, 194)\n",
      "adding new variables.. (797961, 194)\n",
      "Shape after new variables:  (797961, 198)\n",
      "   CAMEO_INTL_2015  CAMEO_Wealth  CAMEO_Lifestage\n",
      "1             51.0           5.0              1.0\n",
      "2             24.0           2.0              4.0\n",
      "3             12.0           1.0              2.0\n",
      "4             43.0           4.0              3.0\n",
      "5             54.0           5.0              4.0\n",
      "   PRAEGENDE_JUGENDJAHRE  Generation  Movement\n",
      "1                   14.0        90.0       1.0\n",
      "2                   15.0        90.0       2.0\n",
      "3                    8.0        70.0       1.0\n",
      "4                    8.0        70.0       1.0\n",
      "5                    3.0        50.0       1.0\n",
      "Starting Imputer Shape:  (797961, 198)\n",
      "\n",
      "The total number of missing values before imputing is: 916730 or 0.6%.        .\n",
      "Final Cleaned, Imputed Shape:  (797961, 198)\n",
      "\n",
      " Imputing completed.\n",
      "\n",
      "Before excluding columns (797961, 198)\n",
      "After excluding columns (797961, 196)\n",
      "\n",
      "End of cleaning. \n",
      "\n",
      "Cleaned data in 85 seconds\n"
     ]
    }
   ],
   "source": [
    "azdias_raw, feat_info = loadData() \n",
    "azdiasCleaned = clean_data1(azdias_raw,270000)"
   ]
  },
  {
   "cell_type": "markdown",
   "metadata": {},
   "source": [
    "## Step 2: Feature Transformation\n",
    "\n",
    "### Step 2.1: Apply Feature Scaling\n",
    "\n",
    "Before we apply dimensionality reduction techniques to the data, we need to perform feature scaling so that the principal component vectors are not influenced by the natural differences in scale for features. Starting from this part of the project, you'll want to keep an eye on the [API reference page for sklearn](http://scikit-learn.org/stable/modules/classes.html) to help you navigate to all of the classes and functions that you'll need. In this substep, you'll need to check the following:\n",
    "\n",
    "- sklearn requires that data not have missing values in order for its estimators to work properly. So, before applying the scaler to your data, make sure that you've cleaned the DataFrame of the remaining missing values. This can be as simple as just removing all data points with missing data, or applying an [Imputer](http://scikit-learn.org/stable/modules/generated/sklearn.preprocessing.Imputer.html) to replace all missing values. You might also try a more complicated procedure where you temporarily remove missing values in order to compute the scaling parameters before re-introducing those missing values and applying imputation. Think about how much missing data you have and what possible effects each approach might have on your analysis, and justify your decision in the discussion section below.\n",
    "- For the actual scaling function, a [StandardScaler](http://scikit-learn.org/stable/modules/generated/sklearn.preprocessing.StandardScaler.html) instance is suggested, scaling each feature to mean 0 and standard deviation 1.\n",
    "- For these classes, you can make use of the `.fit_transform()` method to both fit a procedure to the data as well as apply the transformation to the data at the same time. Don't forget to keep the fit sklearn objects handy, since you'll be applying them to the customer demographics data towards the end of the project."
   ]
  },
  {
   "cell_type": "code",
   "execution_count": 52,
   "metadata": {},
   "outputs": [],
   "source": [
    "def do_pca(n_components, df):\n",
    "    start=timer()\n",
    "    '''\n",
    "    This is being borrowed from a helper function earlier in the class: \n",
    "    Transforms data using PCA to create n_components, and provides back the results of the\n",
    "    transformation.\n",
    "\n",
    "    INPUT: n_components - int - the number of principal components to create\n",
    "           data - the scaled data \n",
    "\n",
    "    OUTPUT: pca - the pca object created after fitting the data\n",
    "            X_pca - the transformed X matrix with new number of components\n",
    "            \n",
    "    '''\n",
    "    pca = PCA(n_components)\n",
    "    df_pca = pca.fit_transform(df)\n",
    "    end=timer() \n",
    "    print(f\"Executed in {(end - start)/60:0.1f} minutes\")\n",
    "    return pca, df_pca"
   ]
  },
  {
   "cell_type": "code",
   "execution_count": 115,
   "metadata": {},
   "outputs": [],
   "source": [
    "def do_standardized( df, myscaler):\n",
    "    #INPUT: dataframe, the scaler type to use\n",
    "    #OUTPUT: scaled data\n",
    "    start=timer()  \n",
    "    global scaledData \n",
    "    if myscaler == 1:\n",
    "        scaler = StandardScaler() \n",
    "        scaledData = scaler.fit_transform(df)\n",
    "        print (\"Standard Scaler applied\")\n",
    "    elif myscaler == 2: \n",
    "         scaler = MinMaxScaler(feature_range=[0,1])\n",
    "         scaledData = scaler.fit_transform(df)\n",
    "         print (\"MinMax Scaler applied\")\n",
    "    elif myscaler == 3:\n",
    "        scaler = RobustScaler()\n",
    "        scaledData = scaler.fit_transform(df)\n",
    "        print (\"Robust Scaler applied\")\n",
    "    else: \n",
    "        print (\"Scaler not recognized\")\n",
    "    end=timer() \n",
    "    print(f\"Executed in {(end - start)/60:0.1f} minutes\")\n",
    "    return scaler, scaledData "
   ]
  },
  {
   "cell_type": "code",
   "execution_count": 54,
   "metadata": {},
   "outputs": [],
   "source": [
    "#pca, Xpca = do_pca(194,azdiasCleaned,1)\n",
    "#pickle.dump(pca,open('pca_std_194','wb'))"
   ]
  },
  {
   "cell_type": "code",
   "execution_count": 55,
   "metadata": {},
   "outputs": [],
   "source": [
    "#pca1, Xpca1 = do_pca(194,azdiasCleaned,2)\n",
    "#pickle.dump(pca1,open('pca_minmax_194','wb'))"
   ]
  },
  {
   "cell_type": "code",
   "execution_count": 56,
   "metadata": {},
   "outputs": [],
   "source": [
    "#pca2, Xpca2 = do_pca(194,azdiasCleaned,3)\n",
    "#pickle.dump(pca2,open('pca_robust_194','wb'))"
   ]
  },
  {
   "cell_type": "code",
   "execution_count": 57,
   "metadata": {},
   "outputs": [],
   "source": [
    "#pca10, Xpca10 = do_pca(10,azdiasCleaned,3)\n",
    "#pickle.dump(pca10,open('pca_robust_10','wb'))\n",
    "#pickle.dump(Xpca10, open('Xpca10', 'wb'))"
   ]
  },
  {
   "cell_type": "code",
   "execution_count": 116,
   "metadata": {},
   "outputs": [
    {
     "name": "stdout",
     "output_type": "stream",
     "text": [
      "Robust Scaler applied\n",
      "Executed in 0.5 minutes\n"
     ]
    }
   ],
   "source": [
    "scaler, azdiasScaled = do_standardized(azdiasCleaned,3)"
   ]
  },
  {
   "cell_type": "code",
   "execution_count": 117,
   "metadata": {},
   "outputs": [
    {
     "name": "stdout",
     "output_type": "stream",
     "text": [
      "Executed in 0.5 minutes\n"
     ]
    }
   ],
   "source": [
    "azdiasPCA, azdiasXPCA = do_pca(25,azdiasScaled)\n",
    "pickle.dump(azdiasPCA,open('azdias_std_25','wb'))\n",
    "pickle.dump(azdiasXPCA, open('azdiasXPCA', 'wb'))"
   ]
  },
  {
   "cell_type": "code",
   "execution_count": 60,
   "metadata": {},
   "outputs": [
    {
     "name": "stdout",
     "output_type": "stream",
     "text": [
      "numpy\n"
     ]
    },
    {
     "data": {
      "text/plain": [
       "array([[-1.71969316,  0.74220805, -0.63248901,  2.0352418 ,  0.26327762,\n",
       "         2.71088263, -1.23321645, -0.07948173,  0.2458282 , -1.07552921,\n",
       "        -0.27664782,  1.15134095, -0.53088859,  0.09730408, -0.62689845,\n",
       "        -1.59751948, -0.17896414, -1.2476633 , -1.41782284,  0.47566693,\n",
       "        -1.46679944, -0.32327389, -0.34513443, -0.33428815, -0.32817522]])"
      ]
     },
     "execution_count": 60,
     "metadata": {},
     "output_type": "execute_result"
    }
   ],
   "source": [
    "oftype(azdiasXPCA)\n",
    "azdiasXPCA[:1]"
   ]
  },
  {
   "cell_type": "code",
   "execution_count": 61,
   "metadata": {},
   "outputs": [],
   "source": [
    "#pca25, Xpca25 = do_pca(25,azdiasCleaned,3)\n",
    "#pickle.dump(pca25,open('pca_robust_25','wb'))\n",
    "#pickle.dump(Xpca25, open('Xpca25', 'wb'))"
   ]
  },
  {
   "cell_type": "code",
   "execution_count": 62,
   "metadata": {},
   "outputs": [],
   "source": [
    "def loadPCA():\n",
    "    pca = pickle.load(open('pca_std_194', 'rb'))\n",
    "    pca1 = pickle.load(open('pca_minmax_194', 'rb'))\n",
    "    pca2 = pickle.load(open('pca_robust_194', 'rb'))\n",
    "    pca10 = pickle.load(open('pca_robust_10', 'rb'))\n",
    "    Xpca10 = pickle.load(open(\"Xpca10\", 'rb'))\n",
    "    pca25 = pickle.load(open('pca_robust_25', 'rb'))\n",
    "    Xpca25 = pickle.load(open(\"Xpca25\", 'rb'))\n",
    "    return pca, pca1, pca2, pca10, Xpca10, pca25, Xpca25"
   ]
  },
  {
   "cell_type": "code",
   "execution_count": 63,
   "metadata": {},
   "outputs": [],
   "source": [
    " #pca, pca1,pca2, pca10, Xpca10, pca25, Xpca25 = loadPCA()"
   ]
  },
  {
   "cell_type": "code",
   "execution_count": 64,
   "metadata": {},
   "outputs": [
    {
     "name": "stdout",
     "output_type": "stream",
     "text": [
      "pca variance explained: 0.80 with 25 components \n"
     ]
    }
   ],
   "source": [
    "\n",
    "print (\"pca variance explained: %4.2f with %2d components \"%(azdiasPCA.explained_variance_ratio_.sum(), azdiasPCA.n_components))"
   ]
  },
  {
   "cell_type": "code",
   "execution_count": 65,
   "metadata": {},
   "outputs": [],
   "source": [
    "\n",
    "def scree_plot(pca,pca1,pca2):\n",
    "    '''\n",
    "    Creates a scree plot associated with the principal components. Modifid from previous class helper fxn. \n",
    "    \n",
    "    INPUT: pca - the result of instantian of PCA in scikit learn\n",
    "            \n",
    "    OUTPUT:\n",
    "            None\n",
    "    '''\n",
    "    num_components = len(pca.explained_variance_ratio_)\n",
    "    ind = np.arange(num_components)\n",
    "    vals = pca.explained_variance_ratio_\n",
    "    cumvals = np.cumsum(vals)\n",
    "    \n",
    "    num_components1 = len(pca1.explained_variance_ratio_)\n",
    "    ind1 = np.arange(num_components1)\n",
    "    vals1 = pca1.explained_variance_ratio_\n",
    "    cumvals1 = np.cumsum(vals1)\n",
    "    \n",
    "    num_components2 = len(pca2.explained_variance_ratio_)\n",
    "    ind2 = np.arange(num_components2)\n",
    "    vals2 = pca2.explained_variance_ratio_\n",
    "    cumvals2 = np.cumsum(vals2)\n",
    "    \n",
    "    plt.figure(figsize=(10, 6))\n",
    "    ax = plt.subplot(111)\n",
    "  \n",
    "    #ax.bar(ind, vals)\n",
    "\n",
    "    ax.plot(ind, cumvals, label = 'StandardScaler')\n",
    "    ax.plot(ind1, cumvals1,label = 'MinMaxScaler')\n",
    "    ax.plot(ind2, cumvals2,label = 'RobustScaler')\n",
    "    \n",
    "    ax.grid(True)\n",
    "    plt.legend(loc='upper right')\n",
    "    \n",
    "    plt.xlim(0,200)\n",
    "    #for i in range(num_components):\n",
    "    #    ax.annotate(r\"%s%%\" % ((str(vals[i]*100)[:4])), (ind[i]+0.2, vals[i]), va=\"bottom\", ha=\"center\", fontsize=12)\n",
    " \n",
    "    ax.xaxis.set_tick_params(width=1)\n",
    "    ax.yaxis.set_tick_params(width=2, length=12)\n",
    "    ax.axvline(25, linestyle='dashed', color='black')\n",
    "    ax.axhline(0.8, linestyle='dashed', color='black')\n",
    " \n",
    "    ax.set_facecolor(\"lightgray\")\n",
    "    ax.set_xlabel(\"Principal Component\")\n",
    "    ax.set_ylabel(\"Variance Explained (%)\")\n",
    "    plt.title('Explained Variance Per Principal Component')\n",
    "    plt.savefig('./plots/pca_scalers.png')\n",
    "    plt.show() "
   ]
  },
  {
   "cell_type": "code",
   "execution_count": 66,
   "metadata": {},
   "outputs": [],
   "source": [
    "#scree_plot(pca,pca1,pca2)\n"
   ]
  },
  {
   "cell_type": "code",
   "execution_count": 67,
   "metadata": {},
   "outputs": [
    {
     "data": {
      "image/png": "[encoded data removed]",
      "text/plain": [
       "<IPython.core.display.Image object>"
      ]
     },
     "execution_count": 67,
     "metadata": {},
     "output_type": "execute_result"
    }
   ],
   "source": [
    "Image('./plots/pca_scalers.png')"
   ]
  },
  {
   "cell_type": "code",
   "execution_count": 68,
   "metadata": {},
   "outputs": [],
   "source": [
    "# Apply feature scaling to the general population demographics data.\n",
    "\n",
    "\n",
    "def scree_plot_bars(pca):\n",
    "    # Creates a scree plot associated with the principal components. Modified from class example. \n",
    "\n",
    "    num_components = len(pca.explained_variance_ratio_)\n",
    "    ind = np.arange(num_components)\n",
    "    vals = pca.explained_variance_ratio_\n",
    "    cumvals = np.cumsum(vals)\n",
    "    \n",
    "    plt.figure(figsize=(10, 6))\n",
    "    ax = plt.subplot(111)\n",
    "  \n",
    "    ax.bar(ind, vals)\n",
    "    ax.plot(ind, cumvals, label = 'RobustScaler')\n",
    "   \n",
    "    ax.grid(True)\n",
    "    plt.legend(loc='upper right')\n",
    "    \n",
    "    plt.xlim(0,21)\n",
    "    for i in range(num_components):\n",
    "        ax.annotate(r\"%s%%\" % ((str(vals[i]*100)[:4])), (ind[i]+0.2, vals[i]), va=\"bottom\", ha=\"center\", fontsize=10)\n",
    " \n",
    "    ax.xaxis.set_tick_params(width=1)\n",
    "    ax.yaxis.set_tick_params(width=2, length=12)\n",
    " \n",
    "    ax.set_xlabel(\"Principal Component\")\n",
    "    ax.set_ylabel(\"Variance Explained (%)\")\n",
    "    plt.title('Explained Variance Per Principal Component')\n",
    "    plt.xticks(np.arange(0,21,step =2))\n",
    "    plt.savefig('./plots/pca_bars.png')\n",
    "    plt.show() "
   ]
  },
  {
   "cell_type": "code",
   "execution_count": 69,
   "metadata": {},
   "outputs": [],
   "source": [
    "#scree_plot_bars(azdiasPCA)"
   ]
  },
  {
   "cell_type": "markdown",
   "metadata": {},
   "source": [
    "### Discussion 2.1: Apply Feature Scaling\n",
    "An imputer was used to fill in for missing values. The 'most frequent' strategy was used. \n",
    "For feature scaling, 3 different scalers were applied: standard, minmax and robust. Robust gave a significantly better result - with 25 principle components, the amount was variation explained went from 50% for standard scaler to 80% for the robust scaler. "
   ]
  },
  {
   "cell_type": "markdown",
   "metadata": {},
   "source": [
    "### Step 2.2: Perform Dimensionality Reduction\n",
    "\n",
    "On your scaled data, you are now ready to apply dimensionality reduction techniques.\n",
    "\n",
    "- Use sklearn's [PCA](http://scikit-learn.org/stable/modules/generated/sklearn.decomposition.PCA.html) class to apply principal component analysis on the data, thus finding the vectors of maximal variance in the data. To start, you should not set any parameters (so all components are computed) or set a number of components that is at least half the number of features (so there's enough features to see the general trend in variability).\n",
    "- Check out the ratio of variance explained by each principal component as well as the cumulative variance explained. Try plotting the cumulative or sequential values using matplotlib's [`plot()`](https://matplotlib.org/api/_as_gen/matplotlib.pyplot.plot.html) function. Based on what you find, select a value for the number of transformed features you'll retain for the clustering part of the project.\n",
    "- Once you've made a choice for the number of components to keep, make sure you re-fit a PCA instance to perform the decided-on transformation."
   ]
  },
  {
   "cell_type": "code",
   "execution_count": 70,
   "metadata": {},
   "outputs": [],
   "source": [
    "# Investigate the variance accounted for by each principal component.\n",
    "# See above"
   ]
  },
  {
   "cell_type": "code",
   "execution_count": 71,
   "metadata": {},
   "outputs": [],
   "source": [
    "# Re-apply PCA to the data while selecting for number of components to retain.\n",
    "# See above\n"
   ]
  },
  {
   "cell_type": "markdown",
   "metadata": {},
   "source": [
    "### Discussion 2.2: Perform Dimensionality Reduction\n",
    "\n",
    "(Double-click this cell and replace this text with your own text, reporting your findings and decisions regarding dimensionality reduction. How many principal components / transformed features are you retaining for the next step of the analysis?)"
   ]
  },
  {
   "cell_type": "markdown",
   "metadata": {},
   "source": [
    "### Step 2.3: Interpret Principal Components\n",
    "\n",
    "Now that we have our transformed principal components, it's a nice idea to check out the weight of each variable on the first few components to see if they can be interpreted in some fashion.\n",
    "\n",
    "As a reminder, each principal component is a unit vector that points in the direction of highest variance (after accounting for the variance captured by earlier principal components). The further a weight is from zero, the more the principal component is in the direction of the corresponding feature. If two features have large weights of the same sign (both positive or both negative), then increases in one tend expect to be associated with increases in the other. To contrast, features with different signs can be expected to show a negative correlation: increases in one variable should result in a decrease in the other.\n",
    "\n",
    "- To investigate the features, you should map each weight to their corresponding feature name, then sort the features according to weight. The most interesting features for each principal component, then, will be those at the beginning and end of the sorted list. Use the data dictionary document to help you understand these most prominent features, their relationships, and what a positive or negative value on the principal component might indicate.\n",
    "- You should investigate and interpret feature associations from the first three principal components in this substep. To help facilitate this, you should write a function that you can call at any time to print the sorted list of feature weights, for the *i*-th principal component. This might come in handy in the next step of the project, when you interpret the tendencies of the discovered clusters."
   ]
  },
  {
   "cell_type": "code",
   "execution_count": 72,
   "metadata": {},
   "outputs": [],
   "source": [
    "# Map weights for the first principal component to corresponding feature names\n",
    "# and then print the linked values, sorted by weight.\n",
    "def pca_weights(pca, x):\n",
    "    df = pd.DataFrame(pca.components_, columns=list(azdiasCleaned.columns))\n",
    "    weights = df.iloc[x].sort_values(ascending=False)\n",
    "    return weights"
   ]
  },
  {
   "cell_type": "code",
   "execution_count": 73,
   "metadata": {},
   "outputs": [
    {
     "data": {
      "text/plain": [
       "MIN_GEBAEUDEJAHR      0.924715\n",
       "PLZ8_ANTG1            0.076673\n",
       "KONSUMNAEHE           0.070002\n",
       "PLZ8_GBZ              0.065090\n",
       "GEBAEUDETYP_RASTER    0.054198\n",
       "Name: 0, dtype: float64"
      ]
     },
     "metadata": {},
     "output_type": "display_data"
    },
    {
     "data": {
      "text/plain": [
       "ORTSGR_KLS9           -0.075959\n",
       "PLZ8_ANTG4            -0.079437\n",
       "PLZ8_ANTG3            -0.084756\n",
       "FINANZ_HAUSBAUER      -0.090618\n",
       "ANZ_HAUSHALTE_AKTIV   -0.170107\n",
       "Name: 0, dtype: float64"
      ]
     },
     "metadata": {},
     "output_type": "display_data"
    }
   ],
   "source": [
    "pca_weights_0 = pca_weights(azdiasPCA,0)\n",
    "display (pca_weights_0.head(), pca_weights_0.tail())"
   ]
  },
  {
   "cell_type": "code",
   "execution_count": 74,
   "metadata": {},
   "outputs": [
    {
     "data": {
      "text/plain": [
       "ANZ_HAUSHALTE_AKTIV    0.418086\n",
       "MIN_GEBAEUDEJAHR       0.320683\n",
       "PLZ8_ANTG3             0.243733\n",
       "PLZ8_BAUMAX            0.170976\n",
       "PLZ8_ANTG4             0.170361\n",
       "Name: 1, dtype: float64"
      ]
     },
     "metadata": {},
     "output_type": "display_data"
    },
    {
     "data": {
      "text/plain": [
       "ANZ_PERSONEN     -0.145827\n",
       "KBA05_GBZ        -0.154407\n",
       "PLZ8_GBZ         -0.224827\n",
       "PLZ8_ANTG1       -0.248166\n",
       "WOHNDAUER_2008   -0.265844\n",
       "Name: 1, dtype: float64"
      ]
     },
     "metadata": {},
     "output_type": "display_data"
    }
   ],
   "source": [
    "# Map weights for the second principal component to corresponding feature names\n",
    "pca_weights_1 = pca_weights(azdiasPCA,1)\n",
    "display (pca_weights_1.head(), pca_weights_1.tail())"
   ]
  },
  {
   "cell_type": "code",
   "execution_count": 75,
   "metadata": {},
   "outputs": [
    {
     "data": {
      "text/plain": [
       "WOHNDAUER_2008          0.671420\n",
       "ANZ_HAUSHALTE_AKTIV     0.246865\n",
       "ALTERSKATEGORIE_GROB    0.150495\n",
       "MIN_GEBAEUDEJAHR        0.150300\n",
       "SEMIO_ERL               0.138097\n",
       "Name: 2, dtype: float64"
      ]
     },
     "metadata": {},
     "output_type": "display_data"
    },
    {
     "data": {
      "text/plain": [
       "FINANZ_SPARER   -0.139024\n",
       "SEMIO_TRADV     -0.153822\n",
       "SEMIO_PFLICHT   -0.165036\n",
       "SEMIO_RAT       -0.182650\n",
       "SEMIO_REL       -0.268277\n",
       "Name: 2, dtype: float64"
      ]
     },
     "metadata": {},
     "output_type": "display_data"
    }
   ],
   "source": [
    "# Map weights for the third principal component to corresponding feature names\n",
    "pca_weights_2 = pca_weights(azdiasPCA,2)\n",
    "display (pca_weights_2.head(), pca_weights_2.tail())"
   ]
  },
  {
   "cell_type": "markdown",
   "metadata": {},
   "source": [
    "### Discussion 2.3: Interpret Principal Components\n",
    "\n",
    "(Double-click this cell and replace this text with your own text, reporting your observations from detailed investigation of the first few principal components generated. Can we interpret positive and negative values from them in a meaningful way?)"
   ]
  },
  {
   "cell_type": "markdown",
   "metadata": {},
   "source": [
    "## Step 3: Clustering\n",
    "\n",
    "### Step 3.1: Apply Clustering to General Population\n",
    "\n",
    "You've assessed and cleaned the demographics data, then scaled and transformed them. Now, it's time to see how the data clusters in the principal components space. In this substep, you will apply k-means clustering to the dataset and use the average within-cluster distances from each point to their assigned cluster's centroid to decide on a number of clusters to keep.\n",
    "\n",
    "- Use sklearn's [KMeans](http://scikit-learn.org/stable/modules/generated/sklearn.cluster.KMeans.html#sklearn.cluster.KMeans) class to perform k-means clustering on the PCA-transformed data.\n",
    "- Then, compute the average difference from each point to its assigned cluster's center. **Hint**: The KMeans object's `.score()` method might be useful here, but note that in sklearn, scores tend to be defined so that larger is better. Try applying it to a small, toy dataset, or use an internet search to help your understanding.\n",
    "- Perform the above two steps for a number of different cluster counts. You can then see how the average distance decreases with an increasing number of clusters. However, each additional cluster provides a smaller net benefit. Use this fact to select a final number of clusters in which to group the data. **Warning**: because of the large size of the dataset, it can take a long time for the algorithm to resolve. The more clusters to fit, the longer the algorithm will take. You should test for cluster counts through at least 10 clusters to get the full picture, but you shouldn't need to test for a number of clusters above about 30.\n",
    "- Once you've selected a final number of clusters to use, re-fit a KMeans instance to perform the clustering operation. Make sure that you also obtain the cluster assignments for the general demographics data, since you'll be using them in the final Step 3.3."
   ]
  },
  {
   "cell_type": "code",
   "execution_count": 76,
   "metadata": {},
   "outputs": [],
   "source": [
    "#azdias_clean, pca10, Xpca10 = restart()"
   ]
  },
  {
   "cell_type": "code",
   "execution_count": 77,
   "metadata": {},
   "outputs": [],
   "source": [
    "# Over a number of different cluster counts...\n",
    "\n",
    "\n",
    "    # run k-means clustering on the data and...\n",
    "    \n",
    "    \n",
    "    # compute the average within-cluster distances.\n",
    "    \n",
    "    "
   ]
  },
  {
   "cell_type": "code",
   "execution_count": 78,
   "metadata": {},
   "outputs": [],
   "source": [
    "def scree_KMeans_plot(data):\n",
    "    scores = [] \n",
    "    k_values = []\n",
    "    start = timer()\n",
    "    for k in range(1,15):\n",
    "        k_values.append(k)\n",
    "        kmeans = KMeans(n_clusters=k)\n",
    "        model = kmeans.fit(data)\n",
    "        labels = kmeans.predict(data)\n",
    "        score = -(kmeans.score(data))\n",
    "        scores.append(score)\n",
    "      \n",
    "    plt.plot(k_values, scores, marker = 'o')\n",
    "    plt.ylabel('K-Cluster Score')\n",
    "    plt.xlabel('k value')\n",
    "    plt.title('Number of Clusters vs KMeans Score')\n",
    "    plt.savefig('Cluster_vs_score_plot.png')\n",
    "    end = timer() \n",
    "    print(f\"\\nFunction in {(end - start)/60:0.1f} minutes\")\n",
    "    plt.show()"
   ]
  },
  {
   "cell_type": "code",
   "execution_count": 79,
   "metadata": {},
   "outputs": [],
   "source": [
    "# Investigate the change in within-cluster distance across number of clusters.\n",
    "# HINT: Use matplotlib's plot function to visualize this relationship.\n",
    "\n",
    "#scree_KMeans_plot(azdiasXPCA)"
   ]
  },
  {
   "cell_type": "code",
   "execution_count": 80,
   "metadata": {},
   "outputs": [
    {
     "data": {
      "image/png": "[encoded data removed]",
      "text/plain": [
       "<IPython.core.display.Image object>"
      ]
     },
     "execution_count": 80,
     "metadata": {},
     "output_type": "execute_result"
    }
   ],
   "source": [
    "#display 'Cluster_vs_score_plot.png'\n",
    "Image('Cluster_vs_score_plot.png')"
   ]
  },
  {
   "cell_type": "code",
   "execution_count": 81,
   "metadata": {},
   "outputs": [],
   "source": [
    "def silhouetteScore(df): \n",
    "    range_n_clusters = list(range(2,11))\n",
    "    for n_clusters in range_n_clusters:\n",
    "        kmeans = KMeans(n_clusters=n_clusters, random_state=10)\n",
    "        cluster_labels = kmeans.fit_predict(df)\n",
    "        score = silhouette_score(df,cluster_labels)\n",
    "        print(\"For n_clusters = {}, silhouette score is {}\".format(n_clusters, score))"
   ]
  },
  {
   "cell_type": "code",
   "execution_count": 82,
   "metadata": {},
   "outputs": [],
   "source": [
    "def azdiasCleanup():\n",
    "    # release dataframes to free memory: \n",
    "    try: \n",
    "        del azdiasCleaned \n",
    "    except NameError: \n",
    "        print (\"dataframe azdiasCleaned does not exist\")\n",
    "\n",
    "    try: \n",
    "        del azdias \n",
    "    except NameError: \n",
    "        print (\"dataframe azdias does not exist\")\n",
    "\n",
    "    try: \n",
    "        del azdias_raw \n",
    "    except NameError: \n",
    "        print (\"dataframe azdias_raw does not exist\")\n",
    "\n",
    "    print (\"\\ncollecting garbage\")\n",
    "    gc.collect()\n"
   ]
  },
  {
   "cell_type": "code",
   "execution_count": 83,
   "metadata": {},
   "outputs": [],
   "source": [
    "#azdiasCleanup()"
   ]
  },
  {
   "cell_type": "code",
   "execution_count": 84,
   "metadata": {},
   "outputs": [],
   "source": [
    "#silhouetteScore(azdiasXPCA)"
   ]
  },
  {
   "cell_type": "code",
   "execution_count": 85,
   "metadata": {},
   "outputs": [
    {
     "name": "stdout",
     "output_type": "stream",
     "text": [
      "Function executed in 2.6 minutes\n"
     ]
    }
   ],
   "source": [
    "# Re-fit the k-means model with the selected number of clusters and obtain\n",
    "# cluster predictions for the general population demographics data.\n",
    "start = timer()\n",
    "kmeans = KMeans(n_clusters=10)\n",
    "azdiasLabels = kmeans.fit_predict(azdiasXPCA)\n",
    "end = timer() \n",
    "print(f\"Function executed in {(end - start)/60:0.1f} minutes\")"
   ]
  },
  {
   "cell_type": "code",
   "execution_count": 86,
   "metadata": {},
   "outputs": [
    {
     "name": "stdout",
     "output_type": "stream",
     "text": [
      "numpy\n",
      "(797961,)\n",
      "[3 1 8 4 1 1 1 7 5 9 2 2 5 5 5 5 8 3 5 5]\n"
     ]
    },
    {
     "data": {
      "text/plain": [
       "{0, 1, 2, 3, 4, 5, 6, 7, 8, 9}"
      ]
     },
     "metadata": {},
     "output_type": "display_data"
    }
   ],
   "source": [
    "oftype(azdiasLabels)\n",
    "print (azdiasLabels.shape)\n",
    "print (azdiasLabels[:20])\n",
    "display (set(azdiasLabels))\n",
    "#print (\"max: \",azdiasLabels.max(), \"min: \",azdiasLabels.min())"
   ]
  },
  {
   "cell_type": "code",
   "execution_count": 87,
   "metadata": {},
   "outputs": [
    {
     "name": "stdout",
     "output_type": "stream",
     "text": [
      "Counter({7: 138263, 9: 136868, 4: 109965, 5: 104504, 1: 95988, 3: 87138, 8: 49967, 0: 46493, 2: 24455, 6: 4320})\n",
      "0  -> 5.83 %\n",
      "1  -> 12.03 %\n",
      "2  -> 3.06 %\n",
      "3  -> 10.92 %\n",
      "4  -> 13.78 %\n",
      "5  -> 13.1 %\n",
      "6  -> 0.54 %\n",
      "7  -> 17.33 %\n",
      "8  -> 6.26 %\n",
      "9  -> 17.15 %\n"
     ]
    }
   ],
   "source": [
    "clusterDict = collections.Counter(azdiasLabels)\n",
    "print (clusterDict)\n",
    "\n",
    "customerClusterSum = sum(clusterDict.values())\n",
    "\n",
    "for key,value in sorted(clusterDict.items()): \n",
    "    print (key, ' ->',np.round(100*value/customerClusterSum,2),'%')\n",
    "  "
   ]
  },
  {
   "cell_type": "markdown",
   "metadata": {},
   "source": [
    "### Discussion 3.1: Apply Clustering to General Population\n",
    "\n",
    "(Double-click this cell and replace this text with your own text, reporting your findings and decisions regarding clustering. Into how many clusters have you decided to segment the population?)"
   ]
  },
  {
   "cell_type": "markdown",
   "metadata": {},
   "source": [
    "### Step 3.2: Apply All Steps to the Customer Data\n",
    "\n",
    "Now that you have clusters and cluster centers for the general population, it's time to see how the customer data maps on to those clusters. Take care to not confuse this for re-fitting all of the models to the customer data. Instead, you're going to use the fits from the general population to clean, transform, and cluster the customer data. In the last step of the project, you will interpret how the general population fits apply to the customer data.\n",
    "\n",
    "- Don't forget when loading in the customers data, that it is semicolon (`;`) delimited.\n",
    "- Apply the same feature wrangling, selection, and engineering steps to the customer demographics using the `clean_data()` function you created earlier. (You can assume that the customer demographics data has similar meaning behind missing data patterns as the general demographics data.)\n",
    "- Use the sklearn objects from the general demographics data, and apply their transformations to the customers data. That is, you should not be using a `.fit()` or `.fit_transform()` method to re-fit the old objects, nor should you be creating new sklearn objects! Carry the data through the feature scaling, PCA, and clustering steps, obtaining cluster assignments for all of the data in the customer demographics data."
   ]
  },
  {
   "cell_type": "code",
   "execution_count": 88,
   "metadata": {},
   "outputs": [],
   "source": [
    "# Load in the customer demographics data.\n",
    "# Load in the general demographics and feature summary file. \n",
    "def loadCustomerData(): \n",
    "    print (\"\\nLoading Data....\")\n",
    "    missing_values_azdias = ['-1',\"''\",'X','XX']\n",
    "    customer = pd.read_csv('Udacity_CUSTOMERS_Subset.csv', delimiter = ';', na_values = missing_values_azdias)\n",
    "    print (\"Data loaded.\")\n",
    "    return customer"
   ]
  },
  {
   "cell_type": "code",
   "execution_count": 89,
   "metadata": {},
   "outputs": [
    {
     "name": "stdout",
     "output_type": "stream",
     "text": [
      "\n",
      "Loading Data....\n",
      "Data loaded.\n"
     ]
    }
   ],
   "source": [
    "customer = loadCustomerData()"
   ]
  },
  {
   "cell_type": "code",
   "execution_count": 90,
   "metadata": {
    "scrolled": true
   },
   "outputs": [
    {
     "name": "stdout",
     "output_type": "stream",
     "text": [
      "\n",
      "Converting feat_info missing value strings to float....\n",
      "\n",
      "Replacing dataframe missing values with np.nan...\n",
      "(191652, 85)\n",
      "\n",
      "Counting the number of missing values per column....\n"
     ]
    },
    {
     "data": {
      "text/html": [
       "<div>\n",
       "<style scoped>\n",
       "    .dataframe tbody tr th:only-of-type {\n",
       "        vertical-align: middle;\n",
       "    }\n",
       "\n",
       "    .dataframe tbody tr th {\n",
       "        vertical-align: top;\n",
       "    }\n",
       "\n",
       "    .dataframe thead th {\n",
       "        text-align: right;\n",
       "    }\n",
       "</style>\n",
       "<table border=\"1\" class=\"dataframe\">\n",
       "  <thead>\n",
       "    <tr style=\"text-align: right;\">\n",
       "      <th></th>\n",
       "      <th>Column Name</th>\n",
       "      <th>Count_NaN</th>\n",
       "    </tr>\n",
       "  </thead>\n",
       "  <tbody>\n",
       "    <tr>\n",
       "      <th>40</th>\n",
       "      <td>TITEL_KZ</td>\n",
       "      <td>189340</td>\n",
       "    </tr>\n",
       "    <tr>\n",
       "      <th>47</th>\n",
       "      <td>KK_KUNDENTYP</td>\n",
       "      <td>111937</td>\n",
       "    </tr>\n",
       "    <tr>\n",
       "      <th>64</th>\n",
       "      <td>KBA05_BAUMAX</td>\n",
       "      <td>109535</td>\n",
       "    </tr>\n",
       "  </tbody>\n",
       "</table>\n",
       "</div>"
      ],
      "text/plain": [
       "     Column Name  Count_NaN\n",
       "40      TITEL_KZ     189340\n",
       "47  KK_KUNDENTYP     111937\n",
       "64  KBA05_BAUMAX     109535"
      ]
     },
     "metadata": {},
     "output_type": "display_data"
    },
    {
     "data": {
      "image/png": "[encoded data removed]",
      "text/plain": [
       "<matplotlib.figure.Figure at 0x7f42c244acc0>"
      ]
     },
     "metadata": {
      "needs_background": "light"
     },
     "output_type": "display_data"
    },
    {
     "name": "stdout",
     "output_type": "stream",
     "text": [
      "\n",
      "Dropping outlier columns from the dataset per limit.....\n",
      "Number of columns in dropped list:  5\n",
      "Before dropping:  (191652, 85)\n",
      "After dropping:  (191652, 80)\n",
      "(191652, 85)\n",
      "(191652, 2)\n"
     ]
    },
    {
     "data": {
      "image/png": "[encoded data removed]",
      "text/plain": [
       "<matplotlib.figure.Figure at 0x7f42c2688940>"
      ]
     },
     "metadata": {
      "needs_background": "light"
     },
     "output_type": "display_data"
    },
    {
     "name": "stdout",
     "output_type": "stream",
     "text": [
      "\n",
      "Dropping outlier rows from the dataset per limit.....\n",
      "\n",
      "Before dropping:  (191652, 80)\n",
      "Number of rows in dropped list:  49943\n",
      "After dropping:  (141709, 80)\n",
      "After dropping rows:  (141709, 80)\n",
      "\n",
      "Number of multi categorical variables: 13 and Number of binary categorical variables: 5\n",
      "\n",
      "\n",
      "Before Replacement:  ['W' 'O']\n",
      "After Replacement:  [ 1.  0.]\n",
      "\n",
      "before dummies (141709, 80)\n",
      "after dummy column insertion (141709, 194)\n",
      "adding new variables.. (141709, 194)\n",
      "Shape after new variables:  (141709, 198)\n",
      "   CAMEO_INTL_2015  CAMEO_Wealth  CAMEO_Lifestage\n",
      "0             13.0           1.0              3.0\n",
      "2             34.0           3.0              4.0\n",
      "3             24.0           2.0              4.0\n",
      "4             41.0           4.0              1.0\n",
      "5             34.0           3.0              4.0\n",
      "   PRAEGENDE_JUGENDJAHRE  Generation  Movement\n",
      "0                    4.0        50.0       2.0\n",
      "2                    4.0        50.0       2.0\n",
      "3                    1.0        40.0       1.0\n",
      "4                    8.0        70.0       1.0\n",
      "5                    4.0        50.0       2.0\n",
      "Starting Imputer Shape:  (141709, 198)\n",
      "\n",
      "The total number of missing values before imputing is: 149947 or 0.5%.        .\n",
      "Final Cleaned, Imputed Shape:  (141709, 198)\n",
      "\n",
      " Imputing completed.\n",
      "\n",
      "Before excluding columns (141709, 198)\n",
      "After excluding columns (141709, 196)\n",
      "\n",
      "End of cleaning. \n",
      "\n",
      "Cleaned data in 12 seconds\n"
     ]
    }
   ],
   "source": [
    "# Apply preprocessing, feature transformation, and clustering from the general\n",
    "# demographics onto the customer data, obtaining cluster predictions for the\n",
    "# customer demographics data.\n",
    "\n",
    "customerCleaned = clean_data1(customer,75000) "
   ]
  },
  {
   "cell_type": "code",
   "execution_count": 91,
   "metadata": {},
   "outputs": [],
   "source": [
    "def matchColumns(df1,df2) :\n",
    "     print (\"Shape of df1: \",df1.shape, \"Shape of df2: \",df2.shape)\n",
    "     df1_unique_columns = list(set(df1.columns) - set(df2.columns))\n",
    "     print (\"Unique df1 columns:): \",  df1_unique_columns)\n",
    "     df2_unique_columns = list(set(df2.columns) - set(df1.columns))\n",
    "     print (\"Unmatched columns1 are (missing in azdias): \",df2_unique_columns)\n",
    "     if set(df1_unique_columns).issubset(df1.columns):\n",
    "        print(\"\\nNumber of Columns in df1 database: \",df1.shape[1]) \n",
    "        print (\"Dropping columns in df1...\")\n",
    "        df1 = df1.drop(df1_unique_columns, axis = 1)\n",
    "     if set(df2_unique_columns).issubset(df2.columns):\n",
    "        print(\"Number of Columns in df2 database: \",df2.shape[1])\n",
    "        print (\"Dropping columns {} in df2 (customer)...\".format(df2_unique_columns))\n",
    "        df2 = df2.drop(df2_unique_columns, axis = 1)\n",
    "     print (\"New Shape of df1: \",df1.shape, \"New Shape of df2: \",df2.shape)\n",
    "         \n",
    "     check_unmatchedColumns = list(set(df1.columns) - set(df2.columns))\n",
    "     print (\"Post Unmatched columns are: \",check_unmatchedColumns)\n",
    "     return df1,df2"
   ]
  },
  {
   "cell_type": "code",
   "execution_count": 92,
   "metadata": {},
   "outputs": [
    {
     "name": "stdout",
     "output_type": "stream",
     "text": [
      "Shape of df1:  (797961, 196) Shape of df2:  (141709, 196)\n",
      "Unique df1 columns:):  ['GEBAEUDETYP_5.0']\n",
      "Unmatched columns1 are (missing in azdias):  ['ALTER_HH']\n",
      "\n",
      "Number of Columns in df1 database:  196\n",
      "Dropping columns in df1...\n",
      "Number of Columns in df2 database:  196\n",
      "Dropping columns ['ALTER_HH'] in df2 (customer)...\n",
      "New Shape of df1:  (797961, 195) New Shape of df2:  (141709, 195)\n",
      "Post Unmatched columns are:  []\n"
     ]
    }
   ],
   "source": [
    "azdiasMatched, customerMatched = matchColumns(azdiasCleaned, customerCleaned)"
   ]
  },
  {
   "cell_type": "code",
   "execution_count": 93,
   "metadata": {},
   "outputs": [
    {
     "name": "stdout",
     "output_type": "stream",
     "text": [
      "Executed in 1.1 minutes\n"
     ]
    }
   ],
   "source": [
    "# Redo azdias PCA with matched columns\n",
    "azdiasPCA_matched,azdiasXPCA_matched = do_pca(25,azdiasMatched)"
   ]
  },
  {
   "cell_type": "code",
   "execution_count": 94,
   "metadata": {},
   "outputs": [],
   "source": [
    "# Get customer PCA components using azdias model \n",
    "customerPCA = azdiasPCA_matched.transform(customerMatched)"
   ]
  },
  {
   "cell_type": "code",
   "execution_count": 95,
   "metadata": {},
   "outputs": [],
   "source": [
    "# Redo KMeans with matched columns \n",
    "kmeans = KMeans(n_clusters=10)\n",
    "azdiasLabels = kmeans.fit_predict(azdiasXPCA_matched)"
   ]
  },
  {
   "cell_type": "code",
   "execution_count": 96,
   "metadata": {},
   "outputs": [
    {
     "name": "stdout",
     "output_type": "stream",
     "text": [
      "Counter({4: 157542, 7: 144854, 2: 137428, 8: 100970, 0: 84609, 6: 68994, 1: 47811, 3: 38989, 9: 12547, 5: 4217})\n",
      "0  -> 10.6 %\n",
      "1  -> 5.99 %\n",
      "2  -> 17.22 %\n",
      "3  -> 4.89 %\n",
      "4  -> 19.74 %\n",
      "5  -> 0.53 %\n",
      "6  -> 8.65 %\n",
      "7  -> 18.15 %\n",
      "8  -> 12.65 %\n",
      "9  -> 1.57 %\n"
     ]
    }
   ],
   "source": [
    "clusterDict = collections.Counter(azdiasLabels)\n",
    "print (clusterDict)\n",
    "\n",
    "customerClusterSum = sum(clusterDict.values())\n",
    "\n",
    "for key,value in sorted(clusterDict.items()): \n",
    "    print (key, ' ->',np.round(100*value/customerClusterSum,2),'%')"
   ]
  },
  {
   "cell_type": "code",
   "execution_count": 97,
   "metadata": {},
   "outputs": [],
   "source": [
    "customerLabels = kmeans.predict(customerPCA)"
   ]
  },
  {
   "cell_type": "code",
   "execution_count": 98,
   "metadata": {},
   "outputs": [
    {
     "name": "stdout",
     "output_type": "stream",
     "text": [
      "Counter({4: 28817, 2: 26490, 7: 22015, 8: 20462, 6: 14088, 1: 10262, 0: 9110, 3: 6960, 9: 2659, 5: 846})\n",
      "0  -> 6.43 %\n",
      "1  -> 7.24 %\n",
      "2  -> 18.69 %\n",
      "3  -> 4.91 %\n",
      "4  -> 20.34 %\n",
      "5  -> 0.6 %\n",
      "6  -> 9.94 %\n",
      "7  -> 15.54 %\n",
      "8  -> 14.44 %\n",
      "9  -> 1.88 %\n"
     ]
    }
   ],
   "source": [
    "clusterDict = collections.Counter(customerLabels)\n",
    "print (clusterDict)\n",
    "\n",
    "customerClusterSum = sum(clusterDict.values())\n",
    "\n",
    "for key,value in sorted(clusterDict.items()): \n",
    "    print (key, ' ->',np.round(100*value/customerClusterSum,2),'%')"
   ]
  },
  {
   "cell_type": "code",
   "execution_count": 99,
   "metadata": {},
   "outputs": [
    {
     "name": "stdout",
     "output_type": "stream",
     "text": [
      "(141709, 25)\n",
      "(141709,)\n",
      "{0, 1, 2, 3, 4, 5, 6, 7, 8, 9}\n"
     ]
    }
   ],
   "source": [
    "print (customerPCA.shape)\n",
    "print (customerLabels.shape)\n",
    "print (set(customerLabels))\n",
    "#scaler = StandardScaler()\n",
    "#print (scaler.inverse_transform(customer_pca.inverse_transform(kmeans.cluster_centers_)))"
   ]
  },
  {
   "cell_type": "markdown",
   "metadata": {},
   "source": [
    "### Step 3.3: Compare Customer Data to Demographics Data\n",
    "\n",
    "At this point, you have clustered data based on demographics of the general population of Germany, and seen how the customer data for a mail-order sales company maps onto those demographic clusters. In this final substep, you will compare the two cluster distributions to see where the strongest customer base for the company is.\n",
    "\n",
    "Consider the proportion of persons in each cluster for the general population, and the proportions for the customers. If we think the company's customer base to be universal, then the cluster assignment proportions should be fairly similar between the two. If there are only particular segments of the population that are interested in the company's products, then we should see a mismatch from one to the other. If there is a higher proportion of persons in a cluster for the customer data compared to the general population (e.g. 5% of persons are assigned to a cluster for the general population, but 15% of the customer data is closest to that cluster's centroid) then that suggests the people in that cluster to be a target audience for the company. On the other hand, the proportion of the data in a cluster being larger in the general population than the customer data (e.g. only 2% of customers closest to a population centroid that captures 6% of the data) suggests that group of persons to be outside of the target demographics.\n",
    "\n",
    "Take a look at the following points in this step:\n",
    "\n",
    "- Compute the proportion of data points in each cluster for the general population and the customer data. Visualizations will be useful here: both for the individual dataset proportions, but also to visualize the ratios in cluster representation between groups. Seaborn's [`countplot()`](https://seaborn.pydata.org/generated/seaborn.countplot.html) or [`barplot()`](https://seaborn.pydata.org/generated/seaborn.barplot.html) function could be handy.\n",
    "  - Recall the analysis you performed in step 1.1.3 of the project, where you separated out certain data points from the dataset if they had more than a specified threshold of missing values. If you found that this group was qualitatively different from the main bulk of the data, you should treat this as an additional data cluster in this analysis. Make sure that you account for the number of data points in this subset, for both the general population and customer datasets, when making your computations!\n",
    "- Which cluster or clusters are overrepresented in the customer dataset compared to the general population? Select at least one such cluster and infer what kind of people might be represented by that cluster. Use the principal component interpretations from step 2.3 or look at additional components to help you make this inference. Alternatively, you can use the `.inverse_transform()` method of the PCA and StandardScaler objects to transform centroids back to the original data space and interpret the retrieved values directly.\n",
    "- Perform a similar investigation for the underrepresented clusters. Which cluster or clusters are underrepresented in the customer dataset compared to the general population, and what kinds of people are typified by these clusters?"
   ]
  },
  {
   "cell_type": "code",
   "execution_count": 100,
   "metadata": {},
   "outputs": [],
   "source": [
    "# Compare the proportion of data in each cluster for the customer data to the\n",
    "# proportion of data in each cluster for the general population.\n",
    "def proportions(df,name): \n",
    "    clusterDict = collections.Counter(df)\n",
    "    clusterSum = sum(clusterDict.values())\n",
    "    for key,value in sorted(clusterDict.items()): \n",
    "        #print (key, ' ->',np.round(100*value/customerClusterSum,2),'%')\n",
    "        clusterDict[key] = np.round(value/clusterSum,2)\n",
    "    clusterDict = pd.DataFrame(list(clusterDict.items()),columns = ['Cluster','Proportion'])\n",
    "    clusterDict['Population'] = name\n",
    "    return clusterDict"
   ]
  },
  {
   "cell_type": "code",
   "execution_count": 101,
   "metadata": {},
   "outputs": [
    {
     "data": {
      "text/html": [
       "<div>\n",
       "<style scoped>\n",
       "    .dataframe tbody tr th:only-of-type {\n",
       "        vertical-align: middle;\n",
       "    }\n",
       "\n",
       "    .dataframe tbody tr th {\n",
       "        vertical-align: top;\n",
       "    }\n",
       "\n",
       "    .dataframe thead th {\n",
       "        text-align: right;\n",
       "    }\n",
       "</style>\n",
       "<table border=\"1\" class=\"dataframe\">\n",
       "  <thead>\n",
       "    <tr style=\"text-align: right;\">\n",
       "      <th></th>\n",
       "      <th>Cluster</th>\n",
       "      <th>Proportion</th>\n",
       "      <th>Population</th>\n",
       "    </tr>\n",
       "  </thead>\n",
       "  <tbody>\n",
       "    <tr>\n",
       "      <th>0</th>\n",
       "      <td>6</td>\n",
       "      <td>0.09</td>\n",
       "      <td>General</td>\n",
       "    </tr>\n",
       "    <tr>\n",
       "      <th>1</th>\n",
       "      <td>8</td>\n",
       "      <td>0.13</td>\n",
       "      <td>General</td>\n",
       "    </tr>\n",
       "    <tr>\n",
       "      <th>2</th>\n",
       "      <td>2</td>\n",
       "      <td>0.17</td>\n",
       "      <td>General</td>\n",
       "    </tr>\n",
       "    <tr>\n",
       "      <th>3</th>\n",
       "      <td>4</td>\n",
       "      <td>0.20</td>\n",
       "      <td>General</td>\n",
       "    </tr>\n",
       "    <tr>\n",
       "      <th>4</th>\n",
       "      <td>3</td>\n",
       "      <td>0.05</td>\n",
       "      <td>General</td>\n",
       "    </tr>\n",
       "    <tr>\n",
       "      <th>5</th>\n",
       "      <td>1</td>\n",
       "      <td>0.06</td>\n",
       "      <td>General</td>\n",
       "    </tr>\n",
       "    <tr>\n",
       "      <th>6</th>\n",
       "      <td>7</td>\n",
       "      <td>0.18</td>\n",
       "      <td>General</td>\n",
       "    </tr>\n",
       "    <tr>\n",
       "      <th>7</th>\n",
       "      <td>0</td>\n",
       "      <td>0.11</td>\n",
       "      <td>General</td>\n",
       "    </tr>\n",
       "    <tr>\n",
       "      <th>8</th>\n",
       "      <td>9</td>\n",
       "      <td>0.02</td>\n",
       "      <td>General</td>\n",
       "    </tr>\n",
       "    <tr>\n",
       "      <th>9</th>\n",
       "      <td>5</td>\n",
       "      <td>0.01</td>\n",
       "      <td>General</td>\n",
       "    </tr>\n",
       "    <tr>\n",
       "      <th>0</th>\n",
       "      <td>1</td>\n",
       "      <td>0.07</td>\n",
       "      <td>Customers</td>\n",
       "    </tr>\n",
       "    <tr>\n",
       "      <th>1</th>\n",
       "      <td>4</td>\n",
       "      <td>0.20</td>\n",
       "      <td>Customers</td>\n",
       "    </tr>\n",
       "    <tr>\n",
       "      <th>2</th>\n",
       "      <td>8</td>\n",
       "      <td>0.14</td>\n",
       "      <td>Customers</td>\n",
       "    </tr>\n",
       "    <tr>\n",
       "      <th>3</th>\n",
       "      <td>3</td>\n",
       "      <td>0.05</td>\n",
       "      <td>Customers</td>\n",
       "    </tr>\n",
       "    <tr>\n",
       "      <th>4</th>\n",
       "      <td>2</td>\n",
       "      <td>0.19</td>\n",
       "      <td>Customers</td>\n",
       "    </tr>\n",
       "    <tr>\n",
       "      <th>5</th>\n",
       "      <td>9</td>\n",
       "      <td>0.02</td>\n",
       "      <td>Customers</td>\n",
       "    </tr>\n",
       "    <tr>\n",
       "      <th>6</th>\n",
       "      <td>0</td>\n",
       "      <td>0.06</td>\n",
       "      <td>Customers</td>\n",
       "    </tr>\n",
       "    <tr>\n",
       "      <th>7</th>\n",
       "      <td>7</td>\n",
       "      <td>0.16</td>\n",
       "      <td>Customers</td>\n",
       "    </tr>\n",
       "    <tr>\n",
       "      <th>8</th>\n",
       "      <td>6</td>\n",
       "      <td>0.10</td>\n",
       "      <td>Customers</td>\n",
       "    </tr>\n",
       "    <tr>\n",
       "      <th>9</th>\n",
       "      <td>5</td>\n",
       "      <td>0.01</td>\n",
       "      <td>Customers</td>\n",
       "    </tr>\n",
       "  </tbody>\n",
       "</table>\n",
       "</div>"
      ],
      "text/plain": [
       "   Cluster  Proportion Population\n",
       "0        6        0.09    General\n",
       "1        8        0.13    General\n",
       "2        2        0.17    General\n",
       "3        4        0.20    General\n",
       "4        3        0.05    General\n",
       "5        1        0.06    General\n",
       "6        7        0.18    General\n",
       "7        0        0.11    General\n",
       "8        9        0.02    General\n",
       "9        5        0.01    General\n",
       "0        1        0.07  Customers\n",
       "1        4        0.20  Customers\n",
       "2        8        0.14  Customers\n",
       "3        3        0.05  Customers\n",
       "4        2        0.19  Customers\n",
       "5        9        0.02  Customers\n",
       "6        0        0.06  Customers\n",
       "7        7        0.16  Customers\n",
       "8        6        0.10  Customers\n",
       "9        5        0.01  Customers"
      ]
     },
     "execution_count": 101,
     "metadata": {},
     "output_type": "execute_result"
    }
   ],
   "source": [
    "generalProportions = proportions(azdiasLabels,'General')\n",
    "customerProportions = proportions(customerLabels,'Customers')\n",
    "all = pd.concat([generalProportions, customerProportions])\n",
    "all"
   ]
  },
  {
   "cell_type": "code",
   "execution_count": 102,
   "metadata": {},
   "outputs": [
    {
     "data": {
      "image/png": "[encoded data removed]",
      "text/plain": [
       "<matplotlib.figure.Figure at 0x7f42c275e828>"
      ]
     },
     "metadata": {
      "needs_background": "light"
     },
     "output_type": "display_data"
    }
   ],
   "source": [
    "#fig, ax = plt.subplots(2,3, sharex=True,sharey=True,figsize=(14,4),gridspec_kw={'hspace': 0.3})\n",
    "fig, ax = plt.subplots(figsize=(10,4))\n",
    "sns.barplot(ax=ax, x=all.Cluster, y = all.Proportion, hue=all.Population)\n",
    "#sns.barplot(ax=ax, x=customerProportions.Cluster, y = customerProportions.Proportion, hue=customerProportions.Population)\n",
    "ax.set_xlabel('Cluster')\n",
    "ax.set_title('Proportions per cluster for general vs customer populations');    \n"
   ]
  },
  {
   "cell_type": "code",
   "execution_count": 103,
   "metadata": {},
   "outputs": [
    {
     "name": "stdout",
     "output_type": "stream",
     "text": [
      "Customers that are over represented come from the below clusters:\n"
     ]
    },
    {
     "data": {
      "text/html": [
       "<div>\n",
       "<style scoped>\n",
       "    .dataframe tbody tr th:only-of-type {\n",
       "        vertical-align: middle;\n",
       "    }\n",
       "\n",
       "    .dataframe tbody tr th {\n",
       "        vertical-align: top;\n",
       "    }\n",
       "\n",
       "    .dataframe thead th {\n",
       "        text-align: right;\n",
       "    }\n",
       "</style>\n",
       "<table border=\"1\" class=\"dataframe\">\n",
       "  <thead>\n",
       "    <tr style=\"text-align: right;\">\n",
       "      <th></th>\n",
       "      <th>Cluster</th>\n",
       "      <th>difference</th>\n",
       "      <th>Customers</th>\n",
       "    </tr>\n",
       "  </thead>\n",
       "  <tbody>\n",
       "    <tr>\n",
       "      <th>0</th>\n",
       "      <td>1</td>\n",
       "      <td>0.01</td>\n",
       "      <td>overRepresented</td>\n",
       "    </tr>\n",
       "    <tr>\n",
       "      <th>4</th>\n",
       "      <td>2</td>\n",
       "      <td>0.02</td>\n",
       "      <td>overRepresented</td>\n",
       "    </tr>\n",
       "    <tr>\n",
       "      <th>8</th>\n",
       "      <td>6</td>\n",
       "      <td>0.01</td>\n",
       "      <td>overRepresented</td>\n",
       "    </tr>\n",
       "    <tr>\n",
       "      <th>2</th>\n",
       "      <td>8</td>\n",
       "      <td>0.01</td>\n",
       "      <td>overRepresented</td>\n",
       "    </tr>\n",
       "  </tbody>\n",
       "</table>\n",
       "</div>"
      ],
      "text/plain": [
       "   Cluster  difference        Customers\n",
       "0        1        0.01  overRepresented\n",
       "4        2        0.02  overRepresented\n",
       "8        6        0.01  overRepresented\n",
       "2        8        0.01  overRepresented"
      ]
     },
     "execution_count": 103,
     "metadata": {},
     "output_type": "execute_result"
    }
   ],
   "source": [
    "# What kinds of people are part of a cluster that is overrepresented in the\n",
    "# customer data compared to the general population?\n",
    "all = pd.concat([generalProportions, customerProportions])\n",
    "all = all.sort_values(by=['Cluster','Population'],ascending = (True,False))\n",
    "all['difference'] = all.groupby(['Cluster'])['Proportion'].diff()\n",
    "all = all.dropna()\n",
    "print ('Customers that are over represented come from the below clusters:')\n",
    "all = all[all.difference > 0.0]\n",
    "overRepresented = all[['Cluster','difference']]\n",
    "overRepresented.insert(2,'Customers','overRepresented')\n",
    "overRepresented\n"
   ]
  },
  {
   "cell_type": "code",
   "execution_count": 104,
   "metadata": {},
   "outputs": [
    {
     "name": "stdout",
     "output_type": "stream",
     "text": [
      "Customers that are under represented come from the below clusters:\n"
     ]
    },
    {
     "data": {
      "text/html": [
       "<div>\n",
       "<style scoped>\n",
       "    .dataframe tbody tr th:only-of-type {\n",
       "        vertical-align: middle;\n",
       "    }\n",
       "\n",
       "    .dataframe tbody tr th {\n",
       "        vertical-align: top;\n",
       "    }\n",
       "\n",
       "    .dataframe thead th {\n",
       "        text-align: right;\n",
       "    }\n",
       "</style>\n",
       "<table border=\"1\" class=\"dataframe\">\n",
       "  <thead>\n",
       "    <tr style=\"text-align: right;\">\n",
       "      <th></th>\n",
       "      <th>Cluster</th>\n",
       "      <th>difference</th>\n",
       "      <th>Customers</th>\n",
       "    </tr>\n",
       "  </thead>\n",
       "  <tbody>\n",
       "    <tr>\n",
       "      <th>6</th>\n",
       "      <td>0</td>\n",
       "      <td>-0.05</td>\n",
       "      <td>underRepresented</td>\n",
       "    </tr>\n",
       "    <tr>\n",
       "      <th>7</th>\n",
       "      <td>7</td>\n",
       "      <td>-0.02</td>\n",
       "      <td>underRepresented</td>\n",
       "    </tr>\n",
       "  </tbody>\n",
       "</table>\n",
       "</div>"
      ],
      "text/plain": [
       "   Cluster  difference         Customers\n",
       "6        0       -0.05  underRepresented\n",
       "7        7       -0.02  underRepresented"
      ]
     },
     "execution_count": 104,
     "metadata": {},
     "output_type": "execute_result"
    }
   ],
   "source": [
    "# What kinds of people are part of a cluster that is underrepresented in the\n",
    "# customer data compared to the general population?\n",
    "\n",
    "all = pd.concat([generalProportions, customerProportions])\n",
    "all = all.sort_values(by=['Cluster','Population'],ascending = (True,False))\n",
    "all['difference'] = all.groupby(['Cluster'])['Proportion'].diff()\n",
    "all = all.dropna()\n",
    "print ('Customers that are under represented come from the below clusters:')\n",
    "all = all[all.difference < 0.0]\n",
    "underRepresented = all[['Cluster','difference']]\n",
    "underRepresented.insert(2,'Customers','underRepresented')\n",
    "underRepresented"
   ]
  },
  {
   "cell_type": "markdown",
   "metadata": {},
   "source": [
    "### Discussion 3.3: Compare Customer Data to Demographics Data\n",
    "\n",
    "(Double-click this cell and replace this text with your own text, reporting findings and conclusions from the clustering analysis. Can we describe segments of the population that are relatively popular with the mail-order company, or relatively unpopular with the company?)"
   ]
  },
  {
   "cell_type": "code",
   "execution_count": 105,
   "metadata": {},
   "outputs": [
    {
     "name": "stdout",
     "output_type": "stream",
     "text": [
      "dataframe azdiasCleaned does not exist\n",
      "dataframe azdias does not exist\n",
      "dataframe azdias_raw does not exist\n",
      "\n",
      "collecting garbage\n"
     ]
    }
   ],
   "source": [
    "azdiasCleanup()"
   ]
  },
  {
   "cell_type": "code",
   "execution_count": 109,
   "metadata": {},
   "outputs": [],
   "source": [
    "pca_cluster=azdiasXPCA[azdiasLabels == 1]\n",
    "#standardized_features = azdiasPCA_matched.inverse_transform(azdiasXPCA)"
   ]
  },
  {
   "cell_type": "code",
   "execution_count": 118,
   "metadata": {},
   "outputs": [],
   "source": [
    "standardized_features = azdiasPCA.inverse_transform(pca_cluster)"
   ]
  },
  {
   "cell_type": "code",
   "execution_count": 120,
   "metadata": {},
   "outputs": [],
   "source": [
    "features_cluster1 = scaler.inverse_transform(standardized_features)"
   ]
  },
  {
   "cell_type": "code",
   "execution_count": 121,
   "metadata": {},
   "outputs": [],
   "source": [
    "features_cluster1 = pd.DataFrame(np.round(features_cluster1), columns = azdias.columns)"
   ]
  },
  {
   "cell_type": "code",
   "execution_count": 107,
   "metadata": {},
   "outputs": [
    {
     "name": "stdout",
     "output_type": "stream",
     "text": [
      "Executed in 10.1 minutes\n"
     ]
    }
   ],
   "source": [
    "endProgram = timer() \n",
    "print(f\"Executed in {(endProgram - startProgram)/60:0.1f} minutes\")"
   ]
  },
  {
   "cell_type": "markdown",
   "metadata": {},
   "source": [
    "> Congratulations on making it this far in the project! Before you finish, make sure to check through the entire notebook from top to bottom to make sure that your analysis follows a logical flow and all of your findings are documented in **Discussion** cells. Once you've checked over all of your work, you should export the notebook as an HTML document to submit for evaluation. You can do this from the menu, navigating to **File -> Download as -> HTML (.html)**. You will submit both that document and this notebook for your project submission."
   ]
  }
 ],
 "metadata": {
  "kernelspec": {
   "display_name": "Python 3",
   "language": "python",
   "name": "python3"
  },
  "language_info": {
   "codemirror_mode": {
    "name": "ipython",
    "version": 3
   },
   "file_extension": ".py",
   "mimetype": "text/x-python",
   "name": "python",
   "nbconvert_exporter": "python",
   "pygments_lexer": "ipython3",
   "version": "3.6.3"
  }
 },
 "nbformat": 4,
 "nbformat_minor": 2
}
