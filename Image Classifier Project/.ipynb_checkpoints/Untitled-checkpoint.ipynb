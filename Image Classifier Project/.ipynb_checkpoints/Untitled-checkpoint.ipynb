{
 "cells": [
  {
   "cell_type": "code",
   "execution_count": 3,
   "metadata": {},
   "outputs": [
    {
     "ename": "SyntaxError",
     "evalue": "invalid syntax (util.py, line 70)",
     "output_type": "error",
     "traceback": [
      "\u001b[0;36m  File \u001b[0;32m\"/Users/thomasspringett/Classes/Machine Learning/MLRepository/Image Classifier Project/util.py\"\u001b[0;36m, line \u001b[0;32m70\u001b[0m\n\u001b[0;31m    print (\"trainloader: \",len(trainloader))\u001b[0m\n\u001b[0m        ^\u001b[0m\n\u001b[0;31mSyntaxError\u001b[0m\u001b[0;31m:\u001b[0m invalid syntax\n"
     ]
    }
   ],
   "source": [
    "%run util\n"
   ]
  },
  {
   "cell_type": "code",
   "execution_count": 4,
   "metadata": {},
   "outputs": [
    {
     "ename": "NameError",
     "evalue": "name 'file_survey' is not defined",
     "output_type": "error",
     "traceback": [
      "\u001b[0;31m---------------------------------------------------------------------------\u001b[0m",
      "\u001b[0;31mNameError\u001b[0m                                 Traceback (most recent call last)",
      "\u001b[0;32m<ipython-input-4-0b06d43b6c30>\u001b[0m in \u001b[0;36m<module>\u001b[0;34m\u001b[0m\n\u001b[0;32m----> 1\u001b[0;31m \u001b[0mfile_survey\u001b[0m\u001b[0;34m(\u001b[0m\u001b[0;34m)\u001b[0m\u001b[0;34m\u001b[0m\u001b[0;34m\u001b[0m\u001b[0m\n\u001b[0m",
      "\u001b[0;31mNameError\u001b[0m: name 'file_survey' is not defined"
     ]
    }
   ],
   "source": [
    "file_survey()"
   ]
  },
  {
   "cell_type": "code",
   "execution_count": 7,
   "metadata": {},
   "outputs": [
    {
     "ename": "SyntaxError",
     "evalue": "invalid syntax (<ipython-input-7-e7b8ce425b9a>, line 70)",
     "output_type": "error",
     "traceback": [
      "\u001b[0;36m  File \u001b[0;32m\"<ipython-input-7-e7b8ce425b9a>\"\u001b[0;36m, line \u001b[0;32m70\u001b[0m\n\u001b[0;31m    print (\"trainloader: \",len(trainloader))\u001b[0m\n\u001b[0m        ^\u001b[0m\n\u001b[0;31mSyntaxError\u001b[0m\u001b[0;31m:\u001b[0m invalid syntax\n"
     ]
    }
   ],
   "source": [
    "# %load util\n",
    "#!/usr/bin/env python\n",
    "\n",
    "# -------------------------------------------------------------------------#\n",
    "#           Import Libraries                                               #\n",
    "# -------------------------------------------------------------------------#\n",
    "\n",
    "import time \n",
    "import torch\n",
    "import os\n",
    "import torchvision\n",
    "import numpy as np\n",
    "from torch import nn\n",
    "from torch import optim\n",
    "import torch.nn.functional as F\n",
    "from torchvision import datasets, transforms, models\n",
    "from torch.autograd import Variable\n",
    "from PIL import Image\n",
    "import PIL\n",
    "import seaborn as sns\n",
    "import json\n",
    "import argparse \n",
    "# =========================================================================#\n",
    "#           Function Definitions                                           #\n",
    "# =========================================================================#\n",
    "\n",
    "\n",
    "def file_survey(): \n",
    "    # Function to display folder and file structure \n",
    "    print (\"Total Files in training dir: \", sum([len(files) for r, d, files in os.walk('flowers/train/')]))\n",
    "    print (\"Total Files in validation dir: \", sum([len(files) for r, d, files in os.walk('flowers/valid/')]))\n",
    "    print (\"Total Files in testing dir: \", sum([len(files) for r, d, files in os.walk('flowers/test/')]))\n",
    "    print (\"\\nCurrent Working Directory \", os.getcwd())\n",
    "    print (\"\\nflowers sub-folders\\n\",os.listdir('flowers'))\n",
    "    print (\"\\nTypical Image Path: \",test_dir + \"/43/image_02365.jpg\")\n",
    "    print (\"\\nTraining folder: First 5 sub-folders. \")\n",
    "    print (os.listdir('flowers/train/')[:5])\n",
    "    print (\"\\nTesting folder: - First 5 sub-folders.\")\n",
    "    print (os.listdir('flowers/test/')[:5])\n",
    "    print (\"\\nValidation folder: First 5 sub-folders. \")\n",
    "    print (os.listdir('flowers/valid/')[:5])\n",
    "    print (\"\\nFirst 5 photos in flowers/test/28\")\n",
    "    print (os.listdir('flowers/test/28')[:5])\n",
    "\n",
    "\n",
    "def data_loader():\n",
    " #Define ransforms for the training, validation, and testing sets\n",
    " global train_data\n",
    " train_transforms = transforms.Compose([transforms.RandomRotation(30),\n",
    "                                       transforms.RandomResizedCrop(224),\n",
    "                                       transforms.RandomHorizontalFlip(),\n",
    "                                       transforms.ToTensor(),\n",
    "                                       transforms.Normalize([0.485, 0.456, 0.406],\n",
    "                                                            [0.229, 0.224, 0.225])])\n",
    " train_data = datasets.ImageFolder(data_dir + '/train', transform=train_transforms)\n",
    " trainloader = torch.utils.data.DataLoader(train_data, batch_size=64, shuffle=True)\n",
    "    \n",
    " test_transforms = transforms.Compose([transforms.Resize(255),\n",
    "                                      transforms.CenterCrop(224),\n",
    "                                      transforms.ToTensor(),\n",
    "                                      transforms.Normalize([0.485, 0.456, 0.406],\n",
    "                                                           [0.229, 0.224, 0.225])])\n",
    "\n",
    " test_data = datasets.ImageFolder(data_dir + '/test', transform=test_transforms)\n",
    " validation_data = datasets.ImageFolder(data_dir + '/valid', transform=test_transforms)\n",
    "\n",
    " validationloader = torch.utils.data.DataLoader(validation_data, batch_size=64)\n",
    " testloader = torch.utils.data.DataLoader(test_data, batch_size=64)\n",
    "                                         \n",
    " print (\"trainloader: \",len(trainloader))\n",
    " print (\"validationloader: \",len(validationloader))\n",
    " print (\"testloader: \",len(testloader))\n",
    "        \n",
    " return trainloader, validationloader, testloader \n",
    "\n",
    "def save_checkpoint(model, Save_dir) \n",
    "    # Save the checkpoint \n",
    "    model.class_to_idx = train_data.class_to_idx\n",
    "    checkpoint = {'classifier': model.classifier,\n",
    "             'class_to_idx': model.class_to_idx,\n",
    "             'state_dict': model.state_dict()}\n",
    "    torch.save(checkpoint, 'imageclassifier_checkpoint.pth')\n",
    "\n",
    "\n",
    "def load_checkpoint():\n",
    "    # Load the saved file\n",
    "    checkpoint = torch.load(\"imageclassifier_checkpoint.pth\")\n",
    "    \n",
    "    # Download pretrained model\n",
    "    model = models.vgg16(pretrained=True);\n",
    "    \n",
    "    # Freeze parameters so we don't backprop through them\n",
    "    for param in model.parameters(): param.requires_grad = False\n",
    "    \n",
    "    # Load checkpoint\n",
    "    model.class_to_idx = checkpoint['class_to_idx']\n",
    "    model.classifier = checkpoint['classifier']\n",
    "    model.load_state_dict(checkpoint['state_dict'])\n",
    "\n",
    "    return model\n",
    "       \n",
    "def process_image(image):\n",
    "    img_pil = Image.open(image)\n",
    "   \n",
    "    adjustments = transforms.Compose([\n",
    "        transforms.Resize(256),\n",
    "        transforms.CenterCrop(224),\n",
    "        transforms.ToTensor(),\n",
    "        transforms.Normalize(mean=[0.485, 0.456, 0.406], std=[0.229, 0.224, 0.225])\n",
    "    ])\n",
    "    \n",
    "    img_tensor = adjustments(img_pil)\n",
    "    \n",
    "    return img_tensor\n",
    "\n",
    "# =============================================================================\n",
    "#                    Run Program\n",
    "# =============================================================================\n",
    "def main(): \n",
    "    \n",
    "        \n",
    "    data_dir = 'flowers'\n",
    "    train_dir = data_dir + '/train'\n",
    "    valid_dir = data_dir + '/valid'\n",
    "    test_dir = data_dir + '/test'\n",
    "                                          \n",
    "    with open('cat_to_name.json', 'r') as f:\n",
    "     cat_to_name = json.load(f)\n",
    "     # Look at this dictionary to understand the data:\n",
    "     print (next(iter(cat_to_name.items())))\n",
    "              \n",
    "    def device():\n",
    "       return torch.device(\"cuda\" if torch.cuda.is_available() else \"cpu\")\n",
    "    model.to(device())\n",
    "    print (\"Processor:\",device())\n",
    "    \n",
    "\n",
    "# =============================================================================\n",
    "#                    Run Program\n",
    "# =============================================================================\n",
    "if __name__ == '__main__': main()\n",
    "\n",
    "\n",
    "\n",
    "\n",
    "\n"
   ]
  },
  {
   "cell_type": "code",
   "execution_count": 6,
   "metadata": {},
   "outputs": [
    {
     "ename": "NameError",
     "evalue": "name 'file_survey' is not defined",
     "output_type": "error",
     "traceback": [
      "\u001b[0;31m---------------------------------------------------------------------------\u001b[0m",
      "\u001b[0;31mNameError\u001b[0m                                 Traceback (most recent call last)",
      "\u001b[0;32m<ipython-input-6-0b06d43b6c30>\u001b[0m in \u001b[0;36m<module>\u001b[0;34m\u001b[0m\n\u001b[0;32m----> 1\u001b[0;31m \u001b[0mfile_survey\u001b[0m\u001b[0;34m(\u001b[0m\u001b[0;34m)\u001b[0m\u001b[0;34m\u001b[0m\u001b[0;34m\u001b[0m\u001b[0m\n\u001b[0m",
      "\u001b[0;31mNameError\u001b[0m: name 'file_survey' is not defined"
     ]
    }
   ],
   "source": [
    "file_survey()"
   ]
  },
  {
   "cell_type": "code",
   "execution_count": null,
   "metadata": {},
   "outputs": [],
   "source": []
  }
 ],
 "metadata": {
  "kernelspec": {
   "display_name": "Python 3",
   "language": "python",
   "name": "python3"
  },
  "language_info": {
   "codemirror_mode": {
    "name": "ipython",
    "version": 3
   },
   "file_extension": ".py",
   "mimetype": "text/x-python",
   "name": "python",
   "nbconvert_exporter": "python",
   "pygments_lexer": "ipython3",
   "version": "3.7.3"
  }
 },
 "nbformat": 4,
 "nbformat_minor": 2
}
