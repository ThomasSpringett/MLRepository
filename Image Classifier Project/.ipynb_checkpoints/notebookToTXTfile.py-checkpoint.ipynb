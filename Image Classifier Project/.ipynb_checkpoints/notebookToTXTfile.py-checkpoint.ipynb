{
 "cells": [
  {
   "cell_type": "code",
   "execution_count": 20,
   "metadata": {},
   "outputs": [
    {
     "name": "stdout",
     "output_type": "stream",
     "text": [
      "Hello from Jupyter\n",
      "Written to temp22.py \n"
     ]
    }
   ],
   "source": [
    "# %load temp.py\n",
    "if __name__ == '__main__':\n",
    "    print (\"Hello from Jupyter\")\n",
    "    print (\"Written to temp22.py \")\n"
   ]
  },
  {
   "cell_type": "code",
   "execution_count": 22,
   "metadata": {},
   "outputs": [
    {
     "name": "stdout",
     "output_type": "stream",
     "text": [
      "Overwriting temp22.py\n"
     ]
    }
   ],
   "source": [
    "%%writefile temp22.py\n",
    "if __name__ == '__main__':\n",
    "    print (\"Hello from Jupyter\")\n",
    "    print (\"Written to temp22.py \")"
   ]
  },
  {
   "cell_type": "code",
   "execution_count": 23,
   "metadata": {},
   "outputs": [
    {
     "name": "stdout",
     "output_type": "stream",
     "text": [
      "Hello from Jupyter\n",
      "Written to temp22.py \n"
     ]
    }
   ],
   "source": [
    "%run temp22.py"
   ]
  },
  {
   "cell_type": "code",
   "execution_count": 24,
   "metadata": {},
   "outputs": [
    {
     "name": "stdout",
     "output_type": "stream",
     "text": [
      "Argparse_demo-Copy1.ipynb          Untitled3.ipynb\r\n",
      "Argparse_demo.ipynb                \u001b[34m__pycache__\u001b[m\u001b[m\r\n",
      "Image Classifier Project (1).ipynb notebookToTXTfile.py.ipynb\r\n",
      "Untitled.ipynb                     temp.py\r\n",
      "Untitled1.ipynb                    temp22.py\r\n",
      "Untitled2.ipynb\r\n"
     ]
    }
   ],
   "source": [
    "!ls"
   ]
  },
  {
   "cell_type": "code",
   "execution_count": 25,
   "metadata": {},
   "outputs": [
    {
     "name": "stdout",
     "output_type": "stream",
     "text": [
      "/Users/thomasspringett/Classes/Machine Learning/MLRepository/Image Classifier Project\r\n"
     ]
    }
   ],
   "source": [
    "!pwd"
   ]
  },
  {
   "cell_type": "code",
   "execution_count": 26,
   "metadata": {},
   "outputs": [
    {
     "name": "stdout",
     "output_type": "stream",
     "text": [
      "if __name__ == '__main__':\r\n",
      "    print (\"Hello from Jupyter\")\r\n",
      "    print (\"Written to temp22.py \")\r\n"
     ]
    }
   ],
   "source": [
    "!cat temp22.py\n"
   ]
  },
  {
   "cell_type": "code",
   "execution_count": 33,
   "metadata": {},
   "outputs": [
    {
     "name": "stdout",
     "output_type": "stream",
     "text": [
      "Overwriting temp22.py\n"
     ]
    }
   ],
   "source": [
    "%%writefile temp22.py\n",
    "\n",
    "import argparse\n",
    "#Command Line Arguments\n",
    "\n",
    "ap = argparse.ArgumentParser(\n",
    "    description='predict-file')\n",
    "#ap.add_argument('input_img', default='paind-project/flowers/test/1/image_06752.jpg', nargs='*', action=\"store\", type = str)\n",
    "\n",
    "ap.add_argument('num', dest=\", type=int)\n",
    "#ap.add_argument('--category_names', dest=\"category_names\", action=\"store\", default='cat_to_name.json')\n",
    "#ap.add_argument('--gpu', default=\"gpu\", action=\"store\", dest=\"gpu\")\n",
    "\n",
    "pa = ap.parse_args()\n",
    "#path_image = pa.input_img\n",
    "number_of_outputs = pa.top_k\n",
    "print (pa.top_k)\n",
    "#power = pa.gpu\n",
    "#input_img = pa.input_img\n",
    "#path = pa.checkpoint\n",
    "\n",
    "if __name__ == '__main__':\n",
    "    print (\"Hello from Jupyter. Number entered: \", arg.num)\n"
   ]
  },
  {
   "cell_type": "raw",
   "metadata": {},
   "source": [
    "%load temp22.py\n"
   ]
  },
  {
   "cell_type": "code",
   "execution_count": 34,
   "metadata": {},
   "outputs": [
    {
     "name": "stdout",
     "output_type": "stream",
     "text": [
      "Hello from Jupyter\r\n"
     ]
    }
   ],
   "source": [
    "!python temp.py TOP_K 10 \n"
   ]
  },
  {
   "cell_type": "code",
   "execution_count": null,
   "metadata": {},
   "outputs": [],
   "source": []
  }
 ],
 "metadata": {
  "kernelspec": {
   "display_name": "Python 3",
   "language": "python",
   "name": "python3"
  },
  "language_info": {
   "codemirror_mode": {
    "name": "ipython",
    "version": 3
   },
   "file_extension": ".py",
   "mimetype": "text/x-python",
   "name": "python",
   "nbconvert_exporter": "python",
   "pygments_lexer": "ipython3",
   "version": "3.7.3"
  }
 },
 "nbformat": 4,
 "nbformat_minor": 2
}
