{
 "cells": [
  {
   "cell_type": "code",
   "execution_count": null,
   "metadata": {},
   "outputs": [],
   "source": [
    "import math \n",
    "import argparse\n",
    "\n",
    "parser = argparse.ArgumentParser(description = 'Calculate volume of a Cylinder')\n",
    "parser.add.argument('-r', '--radius', type = int)\n",
    "parser.add.argument('-h', '--height', type = int)\n",
    "args = parser.parse_args()\n",
    "if _name_ == '_main_': \n",
    "    pass\n",
    "    #print (cylinder_volume(args.radius, args.height))\n",
    "\n",
    "#def cylinder_volume(radius, height): \n",
    "#    vol = (math.pi) * (radius ** 2) * (height)\n",
    "#    return vol \n",
    "\n",
    "\n",
    "\n",
    "    "
   ]
  }
 ],
 "metadata": {
  "kernelspec": {
   "display_name": "Python 3",
   "language": "python",
   "name": "python3"
  },
  "language_info": {
   "codemirror_mode": {
    "name": "ipython",
    "version": 3
   },
   "file_extension": ".py",
   "mimetype": "text/x-python",
   "name": "python",
   "nbconvert_exporter": "python",
   "pygments_lexer": "ipython3",
   "version": "3.7.3"
  }
 },
 "nbformat": 4,
 "nbformat_minor": 2
}
