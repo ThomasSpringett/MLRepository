{
 "cells": [
  {
   "cell_type": "code",
   "execution_count": 2,
   "metadata": {},
   "outputs": [
    {
     "name": "stdout",
     "output_type": "stream",
     "text": [
      "       Country  Life expectancy       BMI\n",
      "0  Afghanistan             52.8  20.62058\n",
      "1      Albania             76.8  26.44657\n",
      "2      Algeria             75.5  24.59620\n",
      "3      Andorra             84.6  27.63048\n",
      "4       Angola             56.7  22.25083\n"
     ]
    }
   ],
   "source": [
    "import pandas as pd\n",
    "from sklearn.linear_model import LinearRegression\n",
    "bmi_life_data = pd.read_csv(\"bmi_life_data.csv\")\n",
    "print (bmi_life_data.head())"
   ]
  },
  {
   "cell_type": "code",
   "execution_count": 4,
   "metadata": {},
   "outputs": [
    {
     "data": {
      "text/plain": [
       "count    163.000000\n",
       "mean      24.792378\n",
       "std        2.427900\n",
       "min       19.866920\n",
       "25%       22.527940\n",
       "50%       25.320540\n",
       "75%       26.603960\n",
       "max       30.995630\n",
       "Name: BMI, dtype: float64"
      ]
     },
     "execution_count": 4,
     "metadata": {},
     "output_type": "execute_result"
    }
   ],
   "source": [
    "bmi_life_data[\"BMI\"].describe()"
   ]
  },
  {
   "cell_type": "code",
   "execution_count": null,
   "metadata": {},
   "outputs": [],
   "source": [
    "# TODO: Add import statements\n",
    "import pandas as pd\n",
    "from sklearn.linear_model import LinearRegression\n",
    "\n",
    "import matplotlib.pyplot as plt\n",
    "plt.rcParams['figure.figsize'] = (12.0, 9.0)\n",
    "\n",
    "\n",
    "\n",
    "# Assign the dataframe to this variable.\n",
    "# TODO: Load the data\n",
    "bmi_life_data = pd.read_csv(\"bmi_and_life_expectancy.csv\")\n",
    "\n",
    "#Validating the Data\n",
    "print (bmi_life_data.head())\n",
    "plt.scatter(bmi_life_data[\"BMI\"], bmi_life_data[\"Life expectancy\"])\n",
    "plt.show();\n",
    "\n",
    "# Make and fit the linear regression model\n",
    "#TODO: Fit the model and Assign it to bmi_life_model\n",
    "\n",
    "bmi_life_model = LinearRegression()\n",
    "bmi_life_model.fit(bmi_life_data[[\"BMI\"]], bmi_life_data[[\"Life expectancy\"]])\n",
    "\n",
    "# Make a prediction using the model\n",
    "# TODO: Predict life expectancy for a BMI value of 21.07931\n",
    "laos_life_exp = bmi_life_model.predict(21.07931)\n",
    "\n",
    "#life_predict = bmi_life_model.predict(bmi_life_data[[\"BMI\"]])\n",
    "\n",
    "#plt.scatter(bmi_life_data[\"BMI\"], bmi_life_data[\"Life expectancy\"])\n",
    "#plt.plot(bmi_life_data[[\"BMI\"]],life_predict, color='red', linewidth=3)\n",
    "#plt.show()\n"
   ]
  }
 ],
 "metadata": {
  "kernelspec": {
   "display_name": "Python [conda env:root] *",
   "language": "python",
   "name": "conda-root-py"
  },
  "language_info": {
   "codemirror_mode": {
    "name": "ipython",
    "version": 2
   },
   "file_extension": ".py",
   "mimetype": "text/x-python",
   "name": "python",
   "nbconvert_exporter": "python",
   "pygments_lexer": "ipython2",
   "version": "2.7.16"
  }
 },
 "nbformat": 4,
 "nbformat_minor": 2
}
